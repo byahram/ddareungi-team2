{
 "cells": [
  {
   "cell_type": "code",
   "execution_count": 170,
   "id": "c5779824-3d12-4d44-9d2d-a552a63e1496",
   "metadata": {},
   "outputs": [],
   "source": [
    "import requests, pandas as pd\n",
    "import glob\n",
    "import os\n",
    "import time\n",
    "import re\n",
    "import numpy as np\n",
    "import chardet\n",
    "\n",
    "from dotenv import load_dotenv"
   ]
  },
  {
   "cell_type": "code",
   "execution_count": 15,
   "id": "98375efe-c19f-4cbb-b0b5-d59792e1a05c",
   "metadata": {},
   "outputs": [],
   "source": [
    "# .env 파일 로드\n",
    "load_dotenv()\n",
    "\n",
    "# .env에서 API_KEY 불러오기\n",
    "API_KEY = os.getenv(\"API_KEY\")\n",
    "if not API_KEY:\n",
    "    raise ValueError(\"API_KEY가 .env에서 로드되지 않았습니다. 확인필요!!\")"
   ]
  },
  {
   "cell_type": "code",
   "execution_count": 20,
   "id": "c535a8fd-cf64-4d84-9941-53c3a63fedd6",
   "metadata": {},
   "outputs": [],
   "source": [
    "RAW_DIR = \"./data/raw/\"\n",
    "OUTPUT_DIR = \"./data/working/\"\n",
    "\n",
    "# 디렉터리 보장\n",
    "os.makedirs(RAW_DIR, exist_ok=True)\n",
    "os.makedirs(OUTPUT_DIR, exist_ok=True)"
   ]
  },
  {
   "cell_type": "markdown",
   "id": "4af5ba6f-4ec1-414d-9970-42f2452a2ce6",
   "metadata": {},
   "source": [
    "# **2024년 6월 통합 데이터 (w/자치구)**"
   ]
  },
  {
   "cell_type": "markdown",
   "id": "84ac47f9-5d80-4771-997d-5e6c929be2bd",
   "metadata": {},
   "source": [
    "## 서울시 따릉이 대여소별 대여/반납 승객수 정보\n",
    "\n",
    "- https://data.seoul.go.kr/dataList/OA-21229/F/1/datasetView.do"
   ]
  },
  {
   "cell_type": "code",
   "execution_count": 22,
   "id": "e0458817-82e1-425a-9b62-831f2a9ad619",
   "metadata": {},
   "outputs": [
    {
     "name": "stdout",
     "output_type": "stream",
     "text": [
      "이미 통합 파일이 존재합니다: ./data/working/tpss_bcycl_od_statnhm_202406_통합.csv\n"
     ]
    }
   ],
   "source": [
    "output_csv = os.path.join(OUTPUT_DIR, \"tpss_bcycl_od_statnhm_202406_통합.csv\")\n",
    "\n",
    "# 통합 파일 존재 여부 확인\n",
    "if os.path.exists(output_csv):\n",
    "    print(f\"이미 통합 파일이 존재합니다: {output_csv}\")\n",
    "else:\n",
    "    # 대상 파일 목록\n",
    "    files = sorted(glob.glob(os.path.join(RAW_DIR, \"tpss_bcycl_od_statnhm_202406*.csv\")))\n",
    "    print(f\"파일 수: {len(files)}\")\n",
    "\n",
    "    if not files:\n",
    "        raise FileNotFoundError(\"원본 CSV가 없습니다.\")\n",
    "\n",
    "    # 모든 파일 읽어서 하나의 DF로\n",
    "    df_list = []\n",
    "    for f in files:\n",
    "        for enc in (\"cp949\", \"euc-kr\", \"utf-8-sig\"):\n",
    "            try:\n",
    "                df = pd.read_csv(f, encoding=enc, low_memory=False)\n",
    "                df_list.append(df)\n",
    "                break\n",
    "            except UnicodeDecodeError:\n",
    "                continue\n",
    "        else:\n",
    "            raise RuntimeError(f\"인코딩 감지 실패: {f}\")\n",
    "\n",
    "    df_all = pd.concat(df_list, ignore_index=True)\n",
    "\n",
    "    # CSV 저장\n",
    "    df_all.to_csv(output_csv, index=False, encoding=\"utf-8-sig\")\n",
    "    print(f\"저장 완료: {output_csv}\")"
   ]
  },
  {
   "cell_type": "code",
   "execution_count": 24,
   "id": "2e597b2a-e6f7-41b8-a99d-1886634d0189",
   "metadata": {},
   "outputs": [],
   "source": [
    "data1 = pd.read_csv(\"./data/working/tpss_bcycl_od_statnhm_202406_통합.csv\")"
   ]
  },
  {
   "cell_type": "code",
   "execution_count": 25,
   "id": "c00821c1-ed37-4590-8b48-6f95111aeb3a",
   "metadata": {},
   "outputs": [
    {
     "data": {
      "text/plain": [
       "(8831528, 10)"
      ]
     },
     "execution_count": 25,
     "metadata": {},
     "output_type": "execute_result"
    }
   ],
   "source": [
    "data1.shape"
   ]
  },
  {
   "cell_type": "code",
   "execution_count": 28,
   "id": "4e6c1950-5196-4702-9300-0398beeaf872",
   "metadata": {},
   "outputs": [
    {
     "data": {
      "text/html": [
       "<div>\n",
       "<style scoped>\n",
       "    .dataframe tbody tr th:only-of-type {\n",
       "        vertical-align: middle;\n",
       "    }\n",
       "\n",
       "    .dataframe tbody tr th {\n",
       "        vertical-align: top;\n",
       "    }\n",
       "\n",
       "    .dataframe thead th {\n",
       "        text-align: right;\n",
       "    }\n",
       "</style>\n",
       "<table border=\"1\" class=\"dataframe\">\n",
       "  <thead>\n",
       "    <tr style=\"text-align: right;\">\n",
       "      <th></th>\n",
       "      <th>기준_날짜</th>\n",
       "      <th>집계_기준</th>\n",
       "      <th>기준_시간대</th>\n",
       "      <th>시작_대여소_ID</th>\n",
       "      <th>시작_대여소명</th>\n",
       "      <th>종료_대여소_ID</th>\n",
       "      <th>종료_대여소명</th>\n",
       "      <th>전체_건수</th>\n",
       "      <th>전체_이용_분</th>\n",
       "      <th>전체_이용_거리</th>\n",
       "    </tr>\n",
       "  </thead>\n",
       "  <tbody>\n",
       "    <tr>\n",
       "      <th>0</th>\n",
       "      <td>20240601</td>\n",
       "      <td>출발시간</td>\n",
       "      <td>0</td>\n",
       "      <td>ST-1002</td>\n",
       "      <td>목1동_004_1</td>\n",
       "      <td>ST-1017</td>\n",
       "      <td>목5동_059_1</td>\n",
       "      <td>1</td>\n",
       "      <td>8.0</td>\n",
       "      <td>870.0</td>\n",
       "    </tr>\n",
       "    <tr>\n",
       "      <th>1</th>\n",
       "      <td>20240601</td>\n",
       "      <td>출발시간</td>\n",
       "      <td>0</td>\n",
       "      <td>ST-1015</td>\n",
       "      <td>목5동_001_1</td>\n",
       "      <td>ST-997</td>\n",
       "      <td>목4동_021_1</td>\n",
       "      <td>1</td>\n",
       "      <td>10.0</td>\n",
       "      <td>1552.0</td>\n",
       "    </tr>\n",
       "    <tr>\n",
       "      <th>2</th>\n",
       "      <td>20240601</td>\n",
       "      <td>출발시간</td>\n",
       "      <td>0</td>\n",
       "      <td>ST-1036</td>\n",
       "      <td>역촌동_001_1</td>\n",
       "      <td>ST-1035</td>\n",
       "      <td>불광2동_021_1</td>\n",
       "      <td>1</td>\n",
       "      <td>42.0</td>\n",
       "      <td>4980.0</td>\n",
       "    </tr>\n",
       "    <tr>\n",
       "      <th>3</th>\n",
       "      <td>20240601</td>\n",
       "      <td>출발시간</td>\n",
       "      <td>0</td>\n",
       "      <td>ST-1045</td>\n",
       "      <td>성내2동_007_1</td>\n",
       "      <td>ST-1580</td>\n",
       "      <td>오륜동_001_3</td>\n",
       "      <td>1</td>\n",
       "      <td>8.0</td>\n",
       "      <td>1923.0</td>\n",
       "    </tr>\n",
       "    <tr>\n",
       "      <th>4</th>\n",
       "      <td>20240601</td>\n",
       "      <td>출발시간</td>\n",
       "      <td>0</td>\n",
       "      <td>ST-1047</td>\n",
       "      <td>성내1동_023_1</td>\n",
       "      <td>ST-488</td>\n",
       "      <td>암사1동_044_1</td>\n",
       "      <td>1</td>\n",
       "      <td>18.0</td>\n",
       "      <td>3530.0</td>\n",
       "    </tr>\n",
       "  </tbody>\n",
       "</table>\n",
       "</div>"
      ],
      "text/plain": [
       "      기준_날짜 집계_기준  기준_시간대 시작_대여소_ID     시작_대여소명 종료_대여소_ID     종료_대여소명  전체_건수  \\\n",
       "0  20240601  출발시간       0   ST-1002   목1동_004_1   ST-1017   목5동_059_1      1   \n",
       "1  20240601  출발시간       0   ST-1015   목5동_001_1    ST-997   목4동_021_1      1   \n",
       "2  20240601  출발시간       0   ST-1036   역촌동_001_1   ST-1035  불광2동_021_1      1   \n",
       "3  20240601  출발시간       0   ST-1045  성내2동_007_1   ST-1580   오륜동_001_3      1   \n",
       "4  20240601  출발시간       0   ST-1047  성내1동_023_1    ST-488  암사1동_044_1      1   \n",
       "\n",
       "   전체_이용_분  전체_이용_거리  \n",
       "0      8.0     870.0  \n",
       "1     10.0    1552.0  \n",
       "2     42.0    4980.0  \n",
       "3      8.0    1923.0  \n",
       "4     18.0    3530.0  "
      ]
     },
     "execution_count": 28,
     "metadata": {},
     "output_type": "execute_result"
    }
   ],
   "source": [
    "data1.head()"
   ]
  },
  {
   "cell_type": "code",
   "execution_count": 30,
   "id": "32de5db9-778b-4432-8220-712b40e4c723",
   "metadata": {},
   "outputs": [
    {
     "data": {
      "text/html": [
       "<div>\n",
       "<style scoped>\n",
       "    .dataframe tbody tr th:only-of-type {\n",
       "        vertical-align: middle;\n",
       "    }\n",
       "\n",
       "    .dataframe tbody tr th {\n",
       "        vertical-align: top;\n",
       "    }\n",
       "\n",
       "    .dataframe thead th {\n",
       "        text-align: right;\n",
       "    }\n",
       "</style>\n",
       "<table border=\"1\" class=\"dataframe\">\n",
       "  <thead>\n",
       "    <tr style=\"text-align: right;\">\n",
       "      <th></th>\n",
       "      <th>기준_날짜</th>\n",
       "      <th>집계_기준</th>\n",
       "      <th>기준_시간대</th>\n",
       "      <th>시작_대여소_ID</th>\n",
       "      <th>시작_대여소명</th>\n",
       "      <th>종료_대여소_ID</th>\n",
       "      <th>종료_대여소명</th>\n",
       "      <th>전체_건수</th>\n",
       "      <th>전체_이용_분</th>\n",
       "      <th>전체_이용_거리</th>\n",
       "    </tr>\n",
       "  </thead>\n",
       "  <tbody>\n",
       "    <tr>\n",
       "      <th>8831523</th>\n",
       "      <td>20240630</td>\n",
       "      <td>도착시간</td>\n",
       "      <td>2355</td>\n",
       "      <td>ST-950</td>\n",
       "      <td>조원동_032_1</td>\n",
       "      <td>ST-709</td>\n",
       "      <td>미성동_014_1</td>\n",
       "      <td>1</td>\n",
       "      <td>59.0</td>\n",
       "      <td>1880.0</td>\n",
       "    </tr>\n",
       "    <tr>\n",
       "      <th>8831524</th>\n",
       "      <td>20240630</td>\n",
       "      <td>도착시간</td>\n",
       "      <td>2355</td>\n",
       "      <td>ST-976</td>\n",
       "      <td>신림동_018_1</td>\n",
       "      <td>ST-2428</td>\n",
       "      <td>낙성대동_029_1</td>\n",
       "      <td>1</td>\n",
       "      <td>31.0</td>\n",
       "      <td>3626.0</td>\n",
       "    </tr>\n",
       "    <tr>\n",
       "      <th>8831525</th>\n",
       "      <td>20240630</td>\n",
       "      <td>도착시간</td>\n",
       "      <td>2355</td>\n",
       "      <td>ST-988</td>\n",
       "      <td>자양3동_029_1</td>\n",
       "      <td>ST-114</td>\n",
       "      <td>군자동_020_1</td>\n",
       "      <td>1</td>\n",
       "      <td>44.0</td>\n",
       "      <td>2108.0</td>\n",
       "    </tr>\n",
       "    <tr>\n",
       "      <th>8831526</th>\n",
       "      <td>20240630</td>\n",
       "      <td>도착시간</td>\n",
       "      <td>2355</td>\n",
       "      <td>ST-994</td>\n",
       "      <td>목1동_003_4</td>\n",
       "      <td>ST-2774</td>\n",
       "      <td>목5동_049_1</td>\n",
       "      <td>1</td>\n",
       "      <td>13.0</td>\n",
       "      <td>1370.0</td>\n",
       "    </tr>\n",
       "    <tr>\n",
       "      <th>8831527</th>\n",
       "      <td>20240630</td>\n",
       "      <td>도착시간</td>\n",
       "      <td>2355</td>\n",
       "      <td>ST-997</td>\n",
       "      <td>목4동_021_1</td>\n",
       "      <td>ST-1546</td>\n",
       "      <td>조원동_004_1</td>\n",
       "      <td>1</td>\n",
       "      <td>46.0</td>\n",
       "      <td>10660.0</td>\n",
       "    </tr>\n",
       "  </tbody>\n",
       "</table>\n",
       "</div>"
      ],
      "text/plain": [
       "            기준_날짜 집계_기준  기준_시간대 시작_대여소_ID     시작_대여소명 종료_대여소_ID     종료_대여소명  \\\n",
       "8831523  20240630  도착시간    2355    ST-950   조원동_032_1    ST-709   미성동_014_1   \n",
       "8831524  20240630  도착시간    2355    ST-976   신림동_018_1   ST-2428  낙성대동_029_1   \n",
       "8831525  20240630  도착시간    2355    ST-988  자양3동_029_1    ST-114   군자동_020_1   \n",
       "8831526  20240630  도착시간    2355    ST-994   목1동_003_4   ST-2774   목5동_049_1   \n",
       "8831527  20240630  도착시간    2355    ST-997   목4동_021_1   ST-1546   조원동_004_1   \n",
       "\n",
       "         전체_건수  전체_이용_분  전체_이용_거리  \n",
       "8831523      1     59.0    1880.0  \n",
       "8831524      1     31.0    3626.0  \n",
       "8831525      1     44.0    2108.0  \n",
       "8831526      1     13.0    1370.0  \n",
       "8831527      1     46.0   10660.0  "
      ]
     },
     "execution_count": 30,
     "metadata": {},
     "output_type": "execute_result"
    }
   ],
   "source": [
    "data1.tail()"
   ]
  },
  {
   "cell_type": "code",
   "execution_count": 62,
   "id": "28d19b62-1fb7-4bae-b005-ceb564762332",
   "metadata": {},
   "outputs": [
    {
     "data": {
      "text/plain": [
       "array([   0,    5,   10,   15,   20,   25,   30,   35,   40,   45,   50,\n",
       "         55,  100,  105,  110,  115,  120,  125,  130,  135,  140,  145,\n",
       "        150,  155,  200,  205,  210,  215,  220,  225,  230,  235,  240,\n",
       "        245,  250,  255,  300,  305,  310,  315,  320,  325,  330,  335,\n",
       "        340,  345,  350,  355,  400,  405,  410,  415,  420,  425,  430,\n",
       "        435,  440,  445,  450,  455,  500,  505,  510,  515,  520,  525,\n",
       "        530,  535,  540,  545,  550,  555,  600,  605,  610,  615,  620,\n",
       "        625,  630,  635,  640,  645,  650,  655,  700,  705,  710,  715,\n",
       "        720,  725,  730,  735,  740,  745,  750,  755,  800,  805,  810,\n",
       "        815,  820,  825,  830,  835,  840,  845,  850,  855,  900,  905,\n",
       "        910,  915,  920,  925,  930,  935,  940,  945,  950,  955, 1000,\n",
       "       1005, 1010, 1015, 1020, 1025, 1030, 1035, 1040, 1045, 1050, 1055,\n",
       "       1100, 1105, 1110, 1115, 1120, 1125, 1130, 1135, 1140, 1145, 1150,\n",
       "       1155, 1200, 1205, 1210, 1215, 1220, 1225, 1230, 1235, 1240, 1245,\n",
       "       1250, 1255, 1300, 1305, 1310, 1315, 1320, 1325, 1330, 1335, 1340,\n",
       "       1345, 1350, 1355, 1400, 1405, 1410, 1415, 1420, 1425, 1430, 1435,\n",
       "       1440, 1445, 1450, 1455, 1500, 1505, 1510, 1515, 1520, 1525, 1530,\n",
       "       1535, 1540, 1545, 1550, 1555, 1600, 1605, 1610, 1615, 1620, 1625,\n",
       "       1630, 1635, 1640, 1645, 1650, 1655, 1700, 1705, 1710, 1715, 1720,\n",
       "       1725, 1730, 1735, 1740, 1745, 1750, 1755, 1800, 1805, 1810, 1815,\n",
       "       1820, 1825, 1830, 1835, 1840, 1845, 1850, 1855, 1900, 1905, 1910,\n",
       "       1915, 1920, 1925, 1930, 1935, 1940, 1945, 1950, 1955, 2000, 2005,\n",
       "       2010, 2015, 2020, 2025, 2030, 2035, 2040, 2045, 2050, 2055, 2100,\n",
       "       2105, 2110, 2115, 2120, 2125, 2130, 2135, 2140, 2145, 2150, 2155,\n",
       "       2200, 2205, 2210, 2215, 2220, 2225, 2230, 2235, 2240, 2245, 2250,\n",
       "       2255, 2300, 2305, 2310, 2315, 2320, 2325, 2330, 2335, 2340, 2345,\n",
       "       2350, 2355], dtype=int64)"
      ]
     },
     "execution_count": 62,
     "metadata": {},
     "output_type": "execute_result"
    }
   ],
   "source": [
    "data1[\"기준_시간대\"].unique()"
   ]
  },
  {
   "cell_type": "code",
   "execution_count": 32,
   "id": "233d424b-e2ef-4db7-ad1f-14590aab91da",
   "metadata": {},
   "outputs": [
    {
     "data": {
      "text/plain": [
       "기준_날짜          int64\n",
       "집계_기준         object\n",
       "기준_시간대         int64\n",
       "시작_대여소_ID     object\n",
       "시작_대여소명       object\n",
       "종료_대여소_ID     object\n",
       "종료_대여소명       object\n",
       "전체_건수          int64\n",
       "전체_이용_분      float64\n",
       "전체_이용_거리     float64\n",
       "dtype: object"
      ]
     },
     "execution_count": 32,
     "metadata": {},
     "output_type": "execute_result"
    }
   ],
   "source": [
    "data1.dtypes"
   ]
  },
  {
   "cell_type": "code",
   "execution_count": 34,
   "id": "9c513c5d-ad7f-480a-b4bd-a746aa995e87",
   "metadata": {},
   "outputs": [
    {
     "data": {
      "text/plain": [
       "Index(['기준_날짜', '집계_기준', '기준_시간대', '시작_대여소_ID', '시작_대여소명', '종료_대여소_ID',\n",
       "       '종료_대여소명', '전체_건수', '전체_이용_분', '전체_이용_거리'],\n",
       "      dtype='object')"
      ]
     },
     "execution_count": 34,
     "metadata": {},
     "output_type": "execute_result"
    }
   ],
   "source": [
    "data1.columns"
   ]
  },
  {
   "cell_type": "code",
   "execution_count": 36,
   "id": "24408ad3-efe7-4776-840b-fc91bec9ec22",
   "metadata": {},
   "outputs": [
    {
     "data": {
      "text/plain": [
       "기준_날짜             0\n",
       "집계_기준             0\n",
       "기준_시간대            0\n",
       "시작_대여소_ID         0\n",
       "시작_대여소명           0\n",
       "종료_대여소_ID         0\n",
       "종료_대여소명       30932\n",
       "전체_건수             0\n",
       "전체_이용_분      193545\n",
       "전체_이용_거리     193545\n",
       "dtype: int64"
      ]
     },
     "execution_count": 36,
     "metadata": {},
     "output_type": "execute_result"
    }
   ],
   "source": [
    "data1.isnull().sum()"
   ]
  },
  {
   "cell_type": "code",
   "execution_count": 42,
   "id": "7144722b-01f3-45c1-8f33-5b2eb69aee6b",
   "metadata": {},
   "outputs": [
    {
     "data": {
      "text/plain": [
       "array([     0,      0,      0,      0,      0,      0,  30932,      0,\n",
       "       193545, 193545], dtype=int64)"
      ]
     },
     "execution_count": 42,
     "metadata": {},
     "output_type": "execute_result"
    }
   ],
   "source": [
    "data1.isnull().sum().values"
   ]
  },
  {
   "cell_type": "code",
   "execution_count": 46,
   "id": "ebd2396f-9a2f-42b4-88d5-01ca827084cb",
   "metadata": {},
   "outputs": [
    {
     "data": {
      "text/html": [
       "<div>\n",
       "<style scoped>\n",
       "    .dataframe tbody tr th:only-of-type {\n",
       "        vertical-align: middle;\n",
       "    }\n",
       "\n",
       "    .dataframe tbody tr th {\n",
       "        vertical-align: top;\n",
       "    }\n",
       "\n",
       "    .dataframe thead th {\n",
       "        text-align: right;\n",
       "    }\n",
       "</style>\n",
       "<table border=\"1\" class=\"dataframe\">\n",
       "  <thead>\n",
       "    <tr style=\"text-align: right;\">\n",
       "      <th></th>\n",
       "      <th>종료_대여소명</th>\n",
       "      <th>전체_이용_분</th>\n",
       "      <th>전체_이용_거리</th>\n",
       "    </tr>\n",
       "  </thead>\n",
       "  <tbody>\n",
       "    <tr>\n",
       "      <th>0</th>\n",
       "      <td>목5동_059_1</td>\n",
       "      <td>8.0</td>\n",
       "      <td>870.0</td>\n",
       "    </tr>\n",
       "    <tr>\n",
       "      <th>1</th>\n",
       "      <td>목4동_021_1</td>\n",
       "      <td>10.0</td>\n",
       "      <td>1552.0</td>\n",
       "    </tr>\n",
       "    <tr>\n",
       "      <th>2</th>\n",
       "      <td>불광2동_021_1</td>\n",
       "      <td>42.0</td>\n",
       "      <td>4980.0</td>\n",
       "    </tr>\n",
       "    <tr>\n",
       "      <th>3</th>\n",
       "      <td>오륜동_001_3</td>\n",
       "      <td>8.0</td>\n",
       "      <td>1923.0</td>\n",
       "    </tr>\n",
       "    <tr>\n",
       "      <th>4</th>\n",
       "      <td>암사1동_044_1</td>\n",
       "      <td>18.0</td>\n",
       "      <td>3530.0</td>\n",
       "    </tr>\n",
       "    <tr>\n",
       "      <th>...</th>\n",
       "      <td>...</td>\n",
       "      <td>...</td>\n",
       "      <td>...</td>\n",
       "    </tr>\n",
       "    <tr>\n",
       "      <th>8831523</th>\n",
       "      <td>미성동_014_1</td>\n",
       "      <td>59.0</td>\n",
       "      <td>1880.0</td>\n",
       "    </tr>\n",
       "    <tr>\n",
       "      <th>8831524</th>\n",
       "      <td>낙성대동_029_1</td>\n",
       "      <td>31.0</td>\n",
       "      <td>3626.0</td>\n",
       "    </tr>\n",
       "    <tr>\n",
       "      <th>8831525</th>\n",
       "      <td>군자동_020_1</td>\n",
       "      <td>44.0</td>\n",
       "      <td>2108.0</td>\n",
       "    </tr>\n",
       "    <tr>\n",
       "      <th>8831526</th>\n",
       "      <td>목5동_049_1</td>\n",
       "      <td>13.0</td>\n",
       "      <td>1370.0</td>\n",
       "    </tr>\n",
       "    <tr>\n",
       "      <th>8831527</th>\n",
       "      <td>조원동_004_1</td>\n",
       "      <td>46.0</td>\n",
       "      <td>10660.0</td>\n",
       "    </tr>\n",
       "  </tbody>\n",
       "</table>\n",
       "<p>8831528 rows × 3 columns</p>\n",
       "</div>"
      ],
      "text/plain": [
       "            종료_대여소명  전체_이용_분  전체_이용_거리\n",
       "0         목5동_059_1      8.0     870.0\n",
       "1         목4동_021_1     10.0    1552.0\n",
       "2        불광2동_021_1     42.0    4980.0\n",
       "3         오륜동_001_3      8.0    1923.0\n",
       "4        암사1동_044_1     18.0    3530.0\n",
       "...             ...      ...       ...\n",
       "8831523   미성동_014_1     59.0    1880.0\n",
       "8831524  낙성대동_029_1     31.0    3626.0\n",
       "8831525   군자동_020_1     44.0    2108.0\n",
       "8831526   목5동_049_1     13.0    1370.0\n",
       "8831527   조원동_004_1     46.0   10660.0\n",
       "\n",
       "[8831528 rows x 3 columns]"
      ]
     },
     "execution_count": 46,
     "metadata": {},
     "output_type": "execute_result"
    }
   ],
   "source": [
    "mask = data1.isnull().sum() > 0\n",
    "cols = data1.isnull().sum()[mask].index\n",
    "data1[cols]"
   ]
  },
  {
   "cell_type": "markdown",
   "id": "cbe3978a-4ba2-492f-be3a-4fa476a8087b",
   "metadata": {},
   "source": [
    "## 서울시 공공자전거 대여소 정보\n",
    "\n",
    "- https://data.seoul.go.kr/dataList/OA-13252/F/1/datasetView.do"
   ]
  },
  {
   "cell_type": "markdown",
   "id": "5eb711af-b41b-461d-95d9-d118d9ccf885",
   "metadata": {},
   "source": [
    "### 1. csv 파일 사용 (6월 기준)"
   ]
  },
  {
   "cell_type": "code",
   "execution_count": 50,
   "id": "a276db02-dfe8-46f6-9d2d-39dd60841959",
   "metadata": {},
   "outputs": [
    {
     "name": "stdout",
     "output_type": "stream",
     "text": [
      "이미 파일이 존재합니다: ./data/working/공공자전거_대여소_정보_CSV.csv\n"
     ]
    }
   ],
   "source": [
    "file = \"./data/raw/공공자전거_대여소_정보(24.6월_기준).xlsx\"\n",
    "output = \"./data/working/공공자전거_대여소_정보_CSV.csv\"\n",
    "\n",
    "# output 파일 존재 여부 확인\n",
    "if os.path.exists(output):\n",
    "    print(\"이미 파일이 존재합니다:\", output)\n",
    "else:\n",
    "    data_excel = pd.read_excel(file, sheet_name=\"대여소현황\", header=None)\n",
    "\n",
    "    # 6행부터 실제 데이터\n",
    "    data_excel = data_excel.iloc[5:].copy()\n",
    "\n",
    "    # 커스텀 헤더\n",
    "    custom_header = [\"대여소번호\", \"보관소(대여소)명\", \"자치구\", \"상세주소\", \n",
    "                     \"위도\", \"경도\", \"설치시기\", \"LCD거치대수\", \"QR거치대수\", \"운영방식\"]\n",
    "    data_excel.columns = custom_header\n",
    "\n",
    "    # '대여소번호' 문자열 처리 (앞에 0 보존)\n",
    "    data_excel[\"대여소번호\"] = data_excel[\"대여소번호\"].astype(str).str.zfill(5)\n",
    "\n",
    "    # csv 저장\n",
    "    os.makedirs(os.path.dirname(output), exist_ok=True)\n",
    "    data_excel.to_csv(output, index=False, encoding=\"utf-8-sig\")\n",
    "    print(\"저장 완료:\", output)"
   ]
  },
  {
   "cell_type": "code",
   "execution_count": 52,
   "id": "cffc6cc0-1d7e-48e6-ac33-db998fa8547d",
   "metadata": {},
   "outputs": [],
   "source": [
    "data_csv = pd.read_csv(\"./data/working/공공자전거_대여소_정보_CSV.csv\")"
   ]
  },
  {
   "cell_type": "code",
   "execution_count": 66,
   "id": "030b0c45-943d-451b-ba20-b4eabfeaccfd",
   "metadata": {},
   "outputs": [
    {
     "data": {
      "text/html": [
       "<div>\n",
       "<style scoped>\n",
       "    .dataframe tbody tr th:only-of-type {\n",
       "        vertical-align: middle;\n",
       "    }\n",
       "\n",
       "    .dataframe tbody tr th {\n",
       "        vertical-align: top;\n",
       "    }\n",
       "\n",
       "    .dataframe thead th {\n",
       "        text-align: right;\n",
       "    }\n",
       "</style>\n",
       "<table border=\"1\" class=\"dataframe\">\n",
       "  <thead>\n",
       "    <tr style=\"text-align: right;\">\n",
       "      <th></th>\n",
       "      <th>대여소번호</th>\n",
       "      <th>보관소(대여소)명</th>\n",
       "      <th>자치구</th>\n",
       "      <th>상세주소</th>\n",
       "      <th>위도</th>\n",
       "      <th>경도</th>\n",
       "      <th>설치시기</th>\n",
       "      <th>LCD거치대수</th>\n",
       "      <th>QR거치대수</th>\n",
       "      <th>운영방식</th>\n",
       "    </tr>\n",
       "  </thead>\n",
       "  <tbody>\n",
       "    <tr>\n",
       "      <th>0</th>\n",
       "      <td>301</td>\n",
       "      <td>경복궁역 7번출구 앞</td>\n",
       "      <td>종로구</td>\n",
       "      <td>서울특별시 종로구 사직로 지하130 경복궁역 7번출구 앞</td>\n",
       "      <td>37.575794</td>\n",
       "      <td>126.971451</td>\n",
       "      <td>2015-10-07 12:03:46</td>\n",
       "      <td>20.0</td>\n",
       "      <td>20.0</td>\n",
       "      <td>QR</td>\n",
       "    </tr>\n",
       "    <tr>\n",
       "      <th>1</th>\n",
       "      <td>302</td>\n",
       "      <td>경복궁역 4번출구 뒤</td>\n",
       "      <td>종로구</td>\n",
       "      <td>서울특별시 종로구 사직로 지하130 경복궁역 4번출구 뒤</td>\n",
       "      <td>37.575947</td>\n",
       "      <td>126.974060</td>\n",
       "      <td>2015-10-07 12:04:22</td>\n",
       "      <td>12.0</td>\n",
       "      <td>12.0</td>\n",
       "      <td>QR</td>\n",
       "    </tr>\n",
       "    <tr>\n",
       "      <th>2</th>\n",
       "      <td>303</td>\n",
       "      <td>광화문역 1번출구 앞</td>\n",
       "      <td>종로구</td>\n",
       "      <td>서울특별시 종로구 세종대로 지하189 세종로공원</td>\n",
       "      <td>37.571770</td>\n",
       "      <td>126.974663</td>\n",
       "      <td>2015-10-07 00:00:00</td>\n",
       "      <td>8.0</td>\n",
       "      <td>8.0</td>\n",
       "      <td>QR</td>\n",
       "    </tr>\n",
       "    <tr>\n",
       "      <th>3</th>\n",
       "      <td>305</td>\n",
       "      <td>종로구청 옆</td>\n",
       "      <td>종로구</td>\n",
       "      <td>서울특별시 종로구 세종로 84-1</td>\n",
       "      <td>37.572559</td>\n",
       "      <td>126.978333</td>\n",
       "      <td>2015-01-07 00:00:00</td>\n",
       "      <td>16.0</td>\n",
       "      <td>16.0</td>\n",
       "      <td>QR</td>\n",
       "    </tr>\n",
       "    <tr>\n",
       "      <th>4</th>\n",
       "      <td>307</td>\n",
       "      <td>서울역사박물관 앞</td>\n",
       "      <td>종로구</td>\n",
       "      <td>서울특별시 종로구 새문안로 55 서울역사박물관 앞</td>\n",
       "      <td>37.570000</td>\n",
       "      <td>126.971100</td>\n",
       "      <td>2015-10-07 12:09:09</td>\n",
       "      <td>11.0</td>\n",
       "      <td>11.0</td>\n",
       "      <td>QR</td>\n",
       "    </tr>\n",
       "  </tbody>\n",
       "</table>\n",
       "</div>"
      ],
      "text/plain": [
       "   대여소번호     보관소(대여소)명  자치구                             상세주소         위도  \\\n",
       "0    301   경복궁역 7번출구 앞  종로구  서울특별시 종로구 사직로 지하130 경복궁역 7번출구 앞  37.575794   \n",
       "1    302   경복궁역 4번출구 뒤  종로구  서울특별시 종로구 사직로 지하130 경복궁역 4번출구 뒤  37.575947   \n",
       "2    303   광화문역 1번출구 앞  종로구       서울특별시 종로구 세종대로 지하189 세종로공원  37.571770   \n",
       "3    305        종로구청 옆  종로구               서울특별시 종로구 세종로 84-1  37.572559   \n",
       "4    307     서울역사박물관 앞  종로구      서울특별시 종로구 새문안로 55 서울역사박물관 앞  37.570000   \n",
       "\n",
       "           경도                 설치시기  LCD거치대수  QR거치대수 운영방식  \n",
       "0  126.971451  2015-10-07 12:03:46     20.0    20.0   QR  \n",
       "1  126.974060  2015-10-07 12:04:22     12.0    12.0   QR  \n",
       "2  126.974663  2015-10-07 00:00:00      8.0     8.0   QR  \n",
       "3  126.978333  2015-01-07 00:00:00     16.0    16.0   QR  \n",
       "4  126.971100  2015-10-07 12:09:09     11.0    11.0   QR  "
      ]
     },
     "execution_count": 66,
     "metadata": {},
     "output_type": "execute_result"
    }
   ],
   "source": [
    "data_csv.head()"
   ]
  },
  {
   "cell_type": "code",
   "execution_count": 68,
   "id": "5ead061e-9317-40fe-a444-7ce48f84db37",
   "metadata": {},
   "outputs": [
    {
     "data": {
      "text/plain": [
       "(2763, 10)"
      ]
     },
     "execution_count": 68,
     "metadata": {},
     "output_type": "execute_result"
    }
   ],
   "source": [
    "data_csv.shape"
   ]
  },
  {
   "cell_type": "code",
   "execution_count": 70,
   "id": "0a21ef89-f976-40ba-bc36-d6fc4df387b1",
   "metadata": {},
   "outputs": [
    {
     "data": {
      "text/plain": [
       "Index(['대여소번호', '보관소(대여소)명', '자치구', '상세주소', '위도', '경도', '설치시기', 'LCD거치대수',\n",
       "       'QR거치대수', '운영방식'],\n",
       "      dtype='object')"
      ]
     },
     "execution_count": 70,
     "metadata": {},
     "output_type": "execute_result"
    }
   ],
   "source": [
    "data_csv.columns"
   ]
  },
  {
   "cell_type": "code",
   "execution_count": 72,
   "id": "8690d929-414f-49ff-b1bc-72be5c08cb65",
   "metadata": {},
   "outputs": [
    {
     "data": {
      "text/plain": [
       "대여소번호           0\n",
       "보관소(대여소)명       0\n",
       "자치구             0\n",
       "상세주소            0\n",
       "위도              0\n",
       "경도              0\n",
       "설치시기            0\n",
       "LCD거치대수      1319\n",
       "QR거치대수       1101\n",
       "운영방식            0\n",
       "dtype: int64"
      ]
     },
     "execution_count": 72,
     "metadata": {},
     "output_type": "execute_result"
    }
   ],
   "source": [
    "data_csv.isnull().sum()"
   ]
  },
  {
   "cell_type": "code",
   "execution_count": 76,
   "id": "af8c467c-4696-4df7-81c2-b2aed1e6d63c",
   "metadata": {},
   "outputs": [
    {
     "data": {
      "text/plain": [
       "array([' 경복궁역 7번출구 앞', ' 경복궁역 4번출구 뒤', ' 광화문역 1번출구 앞', ..., '서울도시건축전시관 옆',\n",
       "       '덕수중학교', '서울자동차운전전문학원'], dtype=object)"
      ]
     },
     "execution_count": 76,
     "metadata": {},
     "output_type": "execute_result"
    }
   ],
   "source": [
    "data_csv[\"보관소(대여소)명\"].unique()"
   ]
  },
  {
   "cell_type": "markdown",
   "id": "adf80b78-eefd-444a-84b5-fb33af31b900",
   "metadata": {},
   "source": [
    "### 2. api 사용"
   ]
  },
  {
   "cell_type": "code",
   "execution_count": 85,
   "id": "bd6441bb-6c0f-4165-8052-2b911bfe9a77",
   "metadata": {},
   "outputs": [
    {
     "name": "stdout",
     "output_type": "stream",
     "text": [
      "이미 파일이 존재합니다: ./data/working/공공자전거_대여소_정보_API.csv\n"
     ]
    }
   ],
   "source": [
    "SERVICE = \"tbCycleStationInfo\"\n",
    "BASE = f\"http://openapi.seoul.go.kr:8088/{API_KEY}/json/{SERVICE}\"\n",
    "PAGE_SIZE = 1000\n",
    "SLEEP_SEC = 0.2\n",
    "\n",
    "output_path = \"./data/working/공공자전거_대여소_정보_API.csv\"\n",
    "\n",
    "if os.path.exists(output_path):\n",
    "    print(\"이미 파일이 존재합니다:\", output_path)\n",
    "else:\n",
    "    all_rows = []\n",
    "    start = 1\n",
    "\n",
    "    while True:\n",
    "        end = start + PAGE_SIZE - 1\n",
    "        url = f\"{BASE}/{start}/{end}/\"\n",
    "        \n",
    "        try:\n",
    "            res = requests.get(url, timeout=30)\n",
    "            res.raise_for_status()\n",
    "            js = res.json()\n",
    "        except Exception as e:\n",
    "            print(f\"[ERROR] {start}-{end} 구간 요청 실패: {e}\")\n",
    "            break\n",
    "    \n",
    "        # 응답 파싱\n",
    "        root = js.get(SERVICE) or (js.get(list(js.keys())[0]) if js else None)\n",
    "        rows = (root or {}).get(\"row\", [])\n",
    "    \n",
    "        if not rows:\n",
    "            print(f\"데이터 없음: {start}-{end} 구간에서 종료\")\n",
    "            break\n",
    "    \n",
    "        all_rows.extend(rows)\n",
    "    \n",
    "        # 마지막 페이지(1000건 미만)면 종료\n",
    "        if len(rows) < PAGE_SIZE:\n",
    "            break\n",
    "    \n",
    "        # 다음 구간으로\n",
    "        start += PAGE_SIZE\n",
    "        time.sleep(SLEEP_SEC)\n",
    "\n",
    "    # DataFrame 변환\n",
    "    data_api = pd.DataFrame(all_rows)\n",
    "    \n",
    "    # 저장\n",
    "    os.makedirs(os.path.dirname(output_path), exist_ok=True)\n",
    "    data_api.to_csv(output_path, index=False, encoding=\"utf-8-sig\")\n",
    "    print(f\"저장 완료 : {output_path}\")"
   ]
  },
  {
   "cell_type": "code",
   "execution_count": 87,
   "id": "a164f2f7-6894-4fd2-b2f7-b6c8af70609e",
   "metadata": {},
   "outputs": [],
   "source": [
    "data_api = pd.read_csv(output_path, encoding=\"utf-8-sig\")"
   ]
  },
  {
   "cell_type": "code",
   "execution_count": 89,
   "id": "f682ac3d-549f-4d57-8cf3-49567689593a",
   "metadata": {},
   "outputs": [
    {
     "data": {
      "text/html": [
       "<div>\n",
       "<style scoped>\n",
       "    .dataframe tbody tr th:only-of-type {\n",
       "        vertical-align: middle;\n",
       "    }\n",
       "\n",
       "    .dataframe tbody tr th {\n",
       "        vertical-align: top;\n",
       "    }\n",
       "\n",
       "    .dataframe thead th {\n",
       "        text-align: right;\n",
       "    }\n",
       "</style>\n",
       "<table border=\"1\" class=\"dataframe\">\n",
       "  <thead>\n",
       "    <tr style=\"text-align: right;\">\n",
       "      <th></th>\n",
       "      <th>STA_LOC</th>\n",
       "      <th>RENT_ID</th>\n",
       "      <th>RENT_NO</th>\n",
       "      <th>RENT_NM</th>\n",
       "      <th>RENT_ID_NM</th>\n",
       "      <th>HOLD_NUM</th>\n",
       "      <th>STA_ADD1</th>\n",
       "      <th>STA_ADD2</th>\n",
       "      <th>STA_LAT</th>\n",
       "      <th>STA_LONG</th>\n",
       "      <th>START_INDEX</th>\n",
       "      <th>END_INDEX</th>\n",
       "      <th>RNUM</th>\n",
       "    </tr>\n",
       "  </thead>\n",
       "  <tbody>\n",
       "    <tr>\n",
       "      <th>0</th>\n",
       "      <td>마포구</td>\n",
       "      <td>ST-10</td>\n",
       "      <td>108</td>\n",
       "      <td>서교동 사거리</td>\n",
       "      <td>108. 서교동 사거리</td>\n",
       "      <td>12.0</td>\n",
       "      <td>서울특별시 마포구 양화로 93</td>\n",
       "      <td>427</td>\n",
       "      <td>37.552746</td>\n",
       "      <td>126.918617</td>\n",
       "      <td>0</td>\n",
       "      <td>0</td>\n",
       "      <td>1</td>\n",
       "    </tr>\n",
       "    <tr>\n",
       "      <th>1</th>\n",
       "      <td>광진구</td>\n",
       "      <td>ST-100</td>\n",
       "      <td>503</td>\n",
       "      <td>더샵스타시티 C동 앞</td>\n",
       "      <td>503. 더샵스타시티 C동 앞</td>\n",
       "      <td>15.0</td>\n",
       "      <td>서울특별시 광진구 아차산로 262</td>\n",
       "      <td>더샵스타시티 C동 앞</td>\n",
       "      <td>37.536667</td>\n",
       "      <td>127.073593</td>\n",
       "      <td>0</td>\n",
       "      <td>0</td>\n",
       "      <td>2</td>\n",
       "    </tr>\n",
       "    <tr>\n",
       "      <th>2</th>\n",
       "      <td>양천구</td>\n",
       "      <td>ST-1000</td>\n",
       "      <td>729</td>\n",
       "      <td>서부식자재마트 건너편</td>\n",
       "      <td>729. 서부식자재마트 건너편</td>\n",
       "      <td>10.0</td>\n",
       "      <td>서울특별시 양천구 신정동 236</td>\n",
       "      <td>서부식자재마트 건너편</td>\n",
       "      <td>37.510380</td>\n",
       "      <td>126.866798</td>\n",
       "      <td>0</td>\n",
       "      <td>0</td>\n",
       "      <td>3</td>\n",
       "    </tr>\n",
       "    <tr>\n",
       "      <th>3</th>\n",
       "      <td>양천구</td>\n",
       "      <td>ST-1002</td>\n",
       "      <td>731</td>\n",
       "      <td>서울시 도로환경관리센터</td>\n",
       "      <td>731. 서울시 도로환경관리센터</td>\n",
       "      <td>10.0</td>\n",
       "      <td>서울특별시 양천구 목동동로 316-6</td>\n",
       "      <td>서울시 도로환경관리센터</td>\n",
       "      <td>37.529900</td>\n",
       "      <td>126.876541</td>\n",
       "      <td>0</td>\n",
       "      <td>0</td>\n",
       "      <td>4</td>\n",
       "    </tr>\n",
       "    <tr>\n",
       "      <th>4</th>\n",
       "      <td>양천구</td>\n",
       "      <td>ST-1003</td>\n",
       "      <td>732</td>\n",
       "      <td>신월중학교</td>\n",
       "      <td>732. 신월중학교</td>\n",
       "      <td>10.0</td>\n",
       "      <td>서울특별시 양천구 화곡로 59</td>\n",
       "      <td>신월동 이마트</td>\n",
       "      <td>37.539551</td>\n",
       "      <td>126.828300</td>\n",
       "      <td>0</td>\n",
       "      <td>0</td>\n",
       "      <td>5</td>\n",
       "    </tr>\n",
       "  </tbody>\n",
       "</table>\n",
       "</div>"
      ],
      "text/plain": [
       "  STA_LOC  RENT_ID  RENT_NO       RENT_NM         RENT_ID_NM  HOLD_NUM  \\\n",
       "0     마포구    ST-10      108       서교동 사거리       108. 서교동 사거리      12.0   \n",
       "1     광진구   ST-100      503   더샵스타시티 C동 앞   503. 더샵스타시티 C동 앞      15.0   \n",
       "2     양천구  ST-1000      729   서부식자재마트 건너편   729. 서부식자재마트 건너편      10.0   \n",
       "3     양천구  ST-1002      731  서울시 도로환경관리센터  731. 서울시 도로환경관리센터      10.0   \n",
       "4     양천구  ST-1003      732         신월중학교         732. 신월중학교      10.0   \n",
       "\n",
       "               STA_ADD1      STA_ADD2    STA_LAT    STA_LONG  START_INDEX  \\\n",
       "0      서울특별시 마포구 양화로 93           427  37.552746  126.918617            0   \n",
       "1    서울특별시 광진구 아차산로 262   더샵스타시티 C동 앞  37.536667  127.073593            0   \n",
       "2    서울특별시 양천구 신정동 236    서부식자재마트 건너편  37.510380  126.866798            0   \n",
       "3  서울특별시 양천구 목동동로 316-6  서울시 도로환경관리센터  37.529900  126.876541            0   \n",
       "4      서울특별시 양천구 화곡로 59       신월동 이마트  37.539551  126.828300            0   \n",
       "\n",
       "   END_INDEX  RNUM  \n",
       "0          0     1  \n",
       "1          0     2  \n",
       "2          0     3  \n",
       "3          0     4  \n",
       "4          0     5  "
      ]
     },
     "execution_count": 89,
     "metadata": {},
     "output_type": "execute_result"
    }
   ],
   "source": [
    "data_api.head()"
   ]
  },
  {
   "cell_type": "code",
   "execution_count": 91,
   "id": "7d3d3b7f-8de6-461e-8016-99487b74f47c",
   "metadata": {},
   "outputs": [
    {
     "data": {
      "text/plain": [
       "(3180, 13)"
      ]
     },
     "execution_count": 91,
     "metadata": {},
     "output_type": "execute_result"
    }
   ],
   "source": [
    "data_api.shape"
   ]
  },
  {
   "cell_type": "code",
   "execution_count": 93,
   "id": "3b6b4086-f9c0-4faf-83ec-f1d200be2294",
   "metadata": {},
   "outputs": [
    {
     "data": {
      "text/plain": [
       "STA_LOC         object\n",
       "RENT_ID         object\n",
       "RENT_NO          int64\n",
       "RENT_NM         object\n",
       "RENT_ID_NM      object\n",
       "HOLD_NUM       float64\n",
       "STA_ADD1        object\n",
       "STA_ADD2        object\n",
       "STA_LAT        float64\n",
       "STA_LONG       float64\n",
       "START_INDEX      int64\n",
       "END_INDEX        int64\n",
       "RNUM             int64\n",
       "dtype: object"
      ]
     },
     "execution_count": 93,
     "metadata": {},
     "output_type": "execute_result"
    }
   ],
   "source": [
    "data_api.dtypes"
   ]
  },
  {
   "cell_type": "code",
   "execution_count": 95,
   "id": "417c0e23-4616-46b0-a04e-2a6a81143631",
   "metadata": {},
   "outputs": [
    {
     "data": {
      "text/plain": [
       "Index(['STA_LOC', 'RENT_ID', 'RENT_NO', 'RENT_NM', 'RENT_ID_NM', 'HOLD_NUM',\n",
       "       'STA_ADD1', 'STA_ADD2', 'STA_LAT', 'STA_LONG', 'START_INDEX',\n",
       "       'END_INDEX', 'RNUM'],\n",
       "      dtype='object')"
      ]
     },
     "execution_count": 95,
     "metadata": {},
     "output_type": "execute_result"
    }
   ],
   "source": [
    "data_api.columns"
   ]
  },
  {
   "cell_type": "code",
   "execution_count": 97,
   "id": "42f6c6ba-f818-46fb-ad08-1b504049cfd5",
   "metadata": {},
   "outputs": [
    {
     "data": {
      "text/plain": [
       "STA_LOC           0\n",
       "RENT_ID           0\n",
       "RENT_NO           0\n",
       "RENT_NM           0\n",
       "RENT_ID_NM        0\n",
       "HOLD_NUM         15\n",
       "STA_ADD1          0\n",
       "STA_ADD2       1906\n",
       "STA_LAT           0\n",
       "STA_LONG          0\n",
       "START_INDEX       0\n",
       "END_INDEX         0\n",
       "RNUM              0\n",
       "dtype: int64"
      ]
     },
     "execution_count": 97,
     "metadata": {},
     "output_type": "execute_result"
    }
   ],
   "source": [
    "data_api.isnull().sum()"
   ]
  },
  {
   "cell_type": "markdown",
   "id": "4e337e47-cfdc-441b-ba47-9851401d1de7",
   "metadata": {},
   "source": [
    "## 6월 통합 데이터 + 자치구 매핑\n",
    "\n",
    "- `data1`, `data_api`"
   ]
  },
  {
   "cell_type": "code",
   "execution_count": 110,
   "id": "afd68dd7-0361-40f2-bbbd-545412ec2a13",
   "metadata": {},
   "outputs": [
    {
     "name": "stdout",
     "output_type": "stream",
     "text": [
      "이미 존재합니다: ./data/working/tpss_bcycl_od_statnhm_202406_통합_w_자치구.csv\n"
     ]
    }
   ],
   "source": [
    "output_path = \"./data/working/tpss_bcycl_od_statnhm_202406_통합_w_자치구.csv\"\n",
    "\n",
    "seoul_gu = data_api.set_index(\"RENT_ID\")[\"STA_LOC\"]\n",
    "\n",
    "# data1에 컬럼 생성\n",
    "if \"시작_대여소_자치구\" not in data1.columns:\n",
    "    data1[\"시작_대여소_자치구\"] = data1[\"시작_대여소_ID\"].map(seoul_gu)\n",
    "\n",
    "if \"종료_대여소_자치구\" not in data1.columns:\n",
    "    data1[\"종료_대여소_자치구\"] = data1[\"종료_대여소_ID\"].map(seoul_gu)\n",
    "\n",
    "# 컬럼 순서\n",
    "new_cols = [\n",
    "    \"기준_날짜\", \"집계_기준\", \"기준_시간대\",\n",
    "    \"시작_대여소_ID\", \"시작_대여소명\", \"시작_대여소_자치구\",\n",
    "    \"종료_대여소_ID\", \"종료_대여소명\", \"종료_대여소_자치구\",\n",
    "    \"전체_건수\", \"전체_이용_분\", \"전체_이용_거리\"\n",
    "]\n",
    "data1 = data1[new_cols]\n",
    "\n",
    "if os.path.exists(output_path):\n",
    "    print(\"이미 존재합니다:\", output_path)\n",
    "else:\n",
    "    os.makedirs(os.path.dirname(output_path), exist_ok=True)\n",
    "    data1.to_csv(output_path, index=False, encoding=\"utf-8-sig\")\n",
    "    print(f\"저장 완료: {output_path}\")"
   ]
  },
  {
   "cell_type": "code",
   "execution_count": 112,
   "id": "0cd7934a-229d-42cf-bbe6-a56617bef068",
   "metadata": {},
   "outputs": [],
   "source": [
    "data1_merged = pd.read_csv(output_path)"
   ]
  },
  {
   "cell_type": "code",
   "execution_count": 114,
   "id": "d9c90e2c-c480-4509-b062-7a42fbbb0587",
   "metadata": {},
   "outputs": [
    {
     "data": {
      "text/plain": [
       "(8831528, 12)"
      ]
     },
     "execution_count": 114,
     "metadata": {},
     "output_type": "execute_result"
    }
   ],
   "source": [
    "data1_merged.shape"
   ]
  },
  {
   "cell_type": "code",
   "execution_count": 159,
   "id": "b80e09f4-c026-4769-8e0d-c5b1cbf79962",
   "metadata": {},
   "outputs": [
    {
     "data": {
      "text/html": [
       "<div>\n",
       "<style scoped>\n",
       "    .dataframe tbody tr th:only-of-type {\n",
       "        vertical-align: middle;\n",
       "    }\n",
       "\n",
       "    .dataframe tbody tr th {\n",
       "        vertical-align: top;\n",
       "    }\n",
       "\n",
       "    .dataframe thead th {\n",
       "        text-align: right;\n",
       "    }\n",
       "</style>\n",
       "<table border=\"1\" class=\"dataframe\">\n",
       "  <thead>\n",
       "    <tr style=\"text-align: right;\">\n",
       "      <th></th>\n",
       "      <th>기준_날짜</th>\n",
       "      <th>집계_기준</th>\n",
       "      <th>기준_시간대</th>\n",
       "      <th>시작_대여소_ID</th>\n",
       "      <th>시작_대여소명</th>\n",
       "      <th>시작_대여소_자치구</th>\n",
       "      <th>종료_대여소_ID</th>\n",
       "      <th>종료_대여소명</th>\n",
       "      <th>종료_대여소_자치구</th>\n",
       "      <th>전체_건수</th>\n",
       "      <th>전체_이용_분</th>\n",
       "      <th>전체_이용_거리</th>\n",
       "    </tr>\n",
       "  </thead>\n",
       "  <tbody>\n",
       "    <tr>\n",
       "      <th>0</th>\n",
       "      <td>20240601</td>\n",
       "      <td>출발시간</td>\n",
       "      <td>0</td>\n",
       "      <td>ST-1002</td>\n",
       "      <td>목1동_004_1</td>\n",
       "      <td>양천구</td>\n",
       "      <td>ST-1017</td>\n",
       "      <td>목5동_059_1</td>\n",
       "      <td>양천구</td>\n",
       "      <td>1</td>\n",
       "      <td>8.0</td>\n",
       "      <td>870.0</td>\n",
       "    </tr>\n",
       "    <tr>\n",
       "      <th>1</th>\n",
       "      <td>20240601</td>\n",
       "      <td>출발시간</td>\n",
       "      <td>0</td>\n",
       "      <td>ST-1015</td>\n",
       "      <td>목5동_001_1</td>\n",
       "      <td>양천구</td>\n",
       "      <td>ST-997</td>\n",
       "      <td>목4동_021_1</td>\n",
       "      <td>양천구</td>\n",
       "      <td>1</td>\n",
       "      <td>10.0</td>\n",
       "      <td>1552.0</td>\n",
       "    </tr>\n",
       "    <tr>\n",
       "      <th>2</th>\n",
       "      <td>20240601</td>\n",
       "      <td>출발시간</td>\n",
       "      <td>0</td>\n",
       "      <td>ST-1036</td>\n",
       "      <td>역촌동_001_1</td>\n",
       "      <td>은평구</td>\n",
       "      <td>ST-1035</td>\n",
       "      <td>불광2동_021_1</td>\n",
       "      <td>은평구</td>\n",
       "      <td>1</td>\n",
       "      <td>42.0</td>\n",
       "      <td>4980.0</td>\n",
       "    </tr>\n",
       "    <tr>\n",
       "      <th>3</th>\n",
       "      <td>20240601</td>\n",
       "      <td>출발시간</td>\n",
       "      <td>0</td>\n",
       "      <td>ST-1045</td>\n",
       "      <td>성내2동_007_1</td>\n",
       "      <td>강동구</td>\n",
       "      <td>ST-1580</td>\n",
       "      <td>오륜동_001_3</td>\n",
       "      <td>송파구</td>\n",
       "      <td>1</td>\n",
       "      <td>8.0</td>\n",
       "      <td>1923.0</td>\n",
       "    </tr>\n",
       "    <tr>\n",
       "      <th>4</th>\n",
       "      <td>20240601</td>\n",
       "      <td>출발시간</td>\n",
       "      <td>0</td>\n",
       "      <td>ST-1047</td>\n",
       "      <td>성내1동_023_1</td>\n",
       "      <td>강동구</td>\n",
       "      <td>ST-488</td>\n",
       "      <td>암사1동_044_1</td>\n",
       "      <td>강동구</td>\n",
       "      <td>1</td>\n",
       "      <td>18.0</td>\n",
       "      <td>3530.0</td>\n",
       "    </tr>\n",
       "  </tbody>\n",
       "</table>\n",
       "</div>"
      ],
      "text/plain": [
       "      기준_날짜 집계_기준  기준_시간대 시작_대여소_ID     시작_대여소명 시작_대여소_자치구 종료_대여소_ID  \\\n",
       "0  20240601  출발시간       0   ST-1002   목1동_004_1        양천구   ST-1017   \n",
       "1  20240601  출발시간       0   ST-1015   목5동_001_1        양천구    ST-997   \n",
       "2  20240601  출발시간       0   ST-1036   역촌동_001_1        은평구   ST-1035   \n",
       "3  20240601  출발시간       0   ST-1045  성내2동_007_1        강동구   ST-1580   \n",
       "4  20240601  출발시간       0   ST-1047  성내1동_023_1        강동구    ST-488   \n",
       "\n",
       "      종료_대여소명 종료_대여소_자치구  전체_건수  전체_이용_분  전체_이용_거리  \n",
       "0   목5동_059_1        양천구      1      8.0     870.0  \n",
       "1   목4동_021_1        양천구      1     10.0    1552.0  \n",
       "2  불광2동_021_1        은평구      1     42.0    4980.0  \n",
       "3   오륜동_001_3        송파구      1      8.0    1923.0  \n",
       "4  암사1동_044_1        강동구      1     18.0    3530.0  "
      ]
     },
     "execution_count": 159,
     "metadata": {},
     "output_type": "execute_result"
    }
   ],
   "source": [
    "data1_merged.head()"
   ]
  },
  {
   "cell_type": "code",
   "execution_count": 161,
   "id": "33a39f0a-1dec-4749-ad35-c0b8a97a2f8e",
   "metadata": {},
   "outputs": [
    {
     "data": {
      "text/html": [
       "<div>\n",
       "<style scoped>\n",
       "    .dataframe tbody tr th:only-of-type {\n",
       "        vertical-align: middle;\n",
       "    }\n",
       "\n",
       "    .dataframe tbody tr th {\n",
       "        vertical-align: top;\n",
       "    }\n",
       "\n",
       "    .dataframe thead th {\n",
       "        text-align: right;\n",
       "    }\n",
       "</style>\n",
       "<table border=\"1\" class=\"dataframe\">\n",
       "  <thead>\n",
       "    <tr style=\"text-align: right;\">\n",
       "      <th></th>\n",
       "      <th>기준_날짜</th>\n",
       "      <th>집계_기준</th>\n",
       "      <th>기준_시간대</th>\n",
       "      <th>시작_대여소_ID</th>\n",
       "      <th>시작_대여소명</th>\n",
       "      <th>시작_대여소_자치구</th>\n",
       "      <th>종료_대여소_ID</th>\n",
       "      <th>종료_대여소명</th>\n",
       "      <th>종료_대여소_자치구</th>\n",
       "      <th>전체_건수</th>\n",
       "      <th>전체_이용_분</th>\n",
       "      <th>전체_이용_거리</th>\n",
       "    </tr>\n",
       "  </thead>\n",
       "  <tbody>\n",
       "    <tr>\n",
       "      <th>8831523</th>\n",
       "      <td>20240630</td>\n",
       "      <td>도착시간</td>\n",
       "      <td>2355</td>\n",
       "      <td>ST-950</td>\n",
       "      <td>조원동_032_1</td>\n",
       "      <td>관악구</td>\n",
       "      <td>ST-709</td>\n",
       "      <td>미성동_014_1</td>\n",
       "      <td>관악구</td>\n",
       "      <td>1</td>\n",
       "      <td>59.0</td>\n",
       "      <td>1880.0</td>\n",
       "    </tr>\n",
       "    <tr>\n",
       "      <th>8831524</th>\n",
       "      <td>20240630</td>\n",
       "      <td>도착시간</td>\n",
       "      <td>2355</td>\n",
       "      <td>ST-976</td>\n",
       "      <td>신림동_018_1</td>\n",
       "      <td>관악구</td>\n",
       "      <td>ST-2428</td>\n",
       "      <td>낙성대동_029_1</td>\n",
       "      <td>관악구</td>\n",
       "      <td>1</td>\n",
       "      <td>31.0</td>\n",
       "      <td>3626.0</td>\n",
       "    </tr>\n",
       "    <tr>\n",
       "      <th>8831525</th>\n",
       "      <td>20240630</td>\n",
       "      <td>도착시간</td>\n",
       "      <td>2355</td>\n",
       "      <td>ST-988</td>\n",
       "      <td>자양3동_029_1</td>\n",
       "      <td>광진구</td>\n",
       "      <td>ST-114</td>\n",
       "      <td>군자동_020_1</td>\n",
       "      <td>광진구</td>\n",
       "      <td>1</td>\n",
       "      <td>44.0</td>\n",
       "      <td>2108.0</td>\n",
       "    </tr>\n",
       "    <tr>\n",
       "      <th>8831526</th>\n",
       "      <td>20240630</td>\n",
       "      <td>도착시간</td>\n",
       "      <td>2355</td>\n",
       "      <td>ST-994</td>\n",
       "      <td>목1동_003_4</td>\n",
       "      <td>양천구</td>\n",
       "      <td>ST-2774</td>\n",
       "      <td>목5동_049_1</td>\n",
       "      <td>양천구</td>\n",
       "      <td>1</td>\n",
       "      <td>13.0</td>\n",
       "      <td>1370.0</td>\n",
       "    </tr>\n",
       "    <tr>\n",
       "      <th>8831527</th>\n",
       "      <td>20240630</td>\n",
       "      <td>도착시간</td>\n",
       "      <td>2355</td>\n",
       "      <td>ST-997</td>\n",
       "      <td>목4동_021_1</td>\n",
       "      <td>양천구</td>\n",
       "      <td>ST-1546</td>\n",
       "      <td>조원동_004_1</td>\n",
       "      <td>관악구</td>\n",
       "      <td>1</td>\n",
       "      <td>46.0</td>\n",
       "      <td>10660.0</td>\n",
       "    </tr>\n",
       "  </tbody>\n",
       "</table>\n",
       "</div>"
      ],
      "text/plain": [
       "            기준_날짜 집계_기준  기준_시간대 시작_대여소_ID     시작_대여소명 시작_대여소_자치구 종료_대여소_ID  \\\n",
       "8831523  20240630  도착시간    2355    ST-950   조원동_032_1        관악구    ST-709   \n",
       "8831524  20240630  도착시간    2355    ST-976   신림동_018_1        관악구   ST-2428   \n",
       "8831525  20240630  도착시간    2355    ST-988  자양3동_029_1        광진구    ST-114   \n",
       "8831526  20240630  도착시간    2355    ST-994   목1동_003_4        양천구   ST-2774   \n",
       "8831527  20240630  도착시간    2355    ST-997   목4동_021_1        양천구   ST-1546   \n",
       "\n",
       "            종료_대여소명 종료_대여소_자치구  전체_건수  전체_이용_분  전체_이용_거리  \n",
       "8831523   미성동_014_1        관악구      1     59.0    1880.0  \n",
       "8831524  낙성대동_029_1        관악구      1     31.0    3626.0  \n",
       "8831525   군자동_020_1        광진구      1     44.0    2108.0  \n",
       "8831526   목5동_049_1        양천구      1     13.0    1370.0  \n",
       "8831527   조원동_004_1        관악구      1     46.0   10660.0  "
      ]
     },
     "execution_count": 161,
     "metadata": {},
     "output_type": "execute_result"
    }
   ],
   "source": [
    "data1_merged.tail()"
   ]
  },
  {
   "cell_type": "code",
   "execution_count": 120,
   "id": "92e0c243-3506-403f-a370-c1d3ea50cb7d",
   "metadata": {},
   "outputs": [
    {
     "data": {
      "text/plain": [
       "기준_날짜              0\n",
       "집계_기준              0\n",
       "기준_시간대             0\n",
       "시작_대여소_ID          0\n",
       "시작_대여소명            0\n",
       "시작_대여소_자치구       552\n",
       "종료_대여소_ID          0\n",
       "종료_대여소명        30932\n",
       "종료_대여소_자치구     31304\n",
       "전체_건수              0\n",
       "전체_이용_분       193545\n",
       "전체_이용_거리      193545\n",
       "dtype: int64"
      ]
     },
     "execution_count": 120,
     "metadata": {},
     "output_type": "execute_result"
    }
   ],
   "source": [
    "data1_merged.isnull().sum()"
   ]
  },
  {
   "cell_type": "code",
   "execution_count": 124,
   "id": "09715a88-0007-494e-b820-1446fde4e3b7",
   "metadata": {},
   "outputs": [
    {
     "name": "stdout",
     "output_type": "stream",
     "text": [
      "null 값 있는 행 : 31838\n",
      "         기준_날짜 집계_기준  기준_시간대 시작_대여소_ID      시작_대여소명 시작_대여소_자치구 종료_대여소_ID  \\\n",
      "132   20240601  출발시간       0   ST-2308    화양동_041_2        광진구         X   \n",
      "805   20240601  출발시간      10   ST-1236   신도림동_062_1        구로구         X   \n",
      "832   20240601  출발시간      10   ST-1353  영등포본동_044_1       영등포구         X   \n",
      "943   20240601  출발시간      10   ST-2502    용신동_003_1       동대문구         X   \n",
      "1103  20240601  출발시간      10    ST-910   월곡2동_015_1        성북구         X   \n",
      "1460  20240601  출발시간      15   ST-2527     명동_003_7         중구         X   \n",
      "2025  20240601  출발시간      20   ST-2733   암사1동_069_1        강동구         X   \n",
      "2507  20240601  출발시간      25   ST-1842   천호3동_039_1        강동구         X   \n",
      "3183  20240601  출발시간      30   ST-2842    청룡동_002_1        관악구         X   \n",
      "3598  20240601  출발시간      35   ST-1366   논현2동_017_1        강남구         X   \n",
      "\n",
      "     종료_대여소명 종료_대여소_자치구  전체_건수  전체_이용_분  전체_이용_거리  \n",
      "132      NaN        NaN      1    114.0     605.0  \n",
      "805      NaN        NaN      1     60.0    3026.0  \n",
      "832      NaN        NaN      1     20.0    1976.0  \n",
      "943      NaN        NaN      1     60.0    7054.0  \n",
      "1103     NaN        NaN      1      4.0     533.0  \n",
      "1460     NaN        NaN      1      5.0     660.0  \n",
      "2025     NaN        NaN      1     60.0    2933.0  \n",
      "2507     NaN        NaN      1    119.0    1560.0  \n",
      "3183     NaN        NaN      1    124.0    3610.0  \n",
      "3598     NaN        NaN      1     53.0    1241.0  \n"
     ]
    }
   ],
   "source": [
    "# null 값이 있는 행만 필터링\n",
    "null_rows = data1[\n",
    "    data1[\"시작_대여소_자치구\"].isna() | data1[\"종료_대여소_자치구\"].isna()\n",
    "]\n",
    "\n",
    "print(\"null 값 있는 행 :\", len(null_rows))\n",
    "print(null_rows.head(10))\n",
    "\n",
    "# # CSV 저장\n",
    "# output_path = os.path.join(OUTPUT_DIR, \"tpss_bcycl_od_statnhm_202406_통합_w_자치구null.csv\")\n",
    "# null_rows.to_csv(output_path, index=False, encoding=\"utf-8-sig\")\n",
    "# print(f\"null행 저장 완료: {output_path}\")"
   ]
  },
  {
   "cell_type": "code",
   "execution_count": 126,
   "id": "436b351b-4714-4037-8978-d3ae5e0f068c",
   "metadata": {},
   "outputs": [
    {
     "data": {
      "text/html": [
       "<div>\n",
       "<style scoped>\n",
       "    .dataframe tbody tr th:only-of-type {\n",
       "        vertical-align: middle;\n",
       "    }\n",
       "\n",
       "    .dataframe tbody tr th {\n",
       "        vertical-align: top;\n",
       "    }\n",
       "\n",
       "    .dataframe thead th {\n",
       "        text-align: right;\n",
       "    }\n",
       "</style>\n",
       "<table border=\"1\" class=\"dataframe\">\n",
       "  <thead>\n",
       "    <tr style=\"text-align: right;\">\n",
       "      <th></th>\n",
       "      <th>기준_날짜</th>\n",
       "      <th>집계_기준</th>\n",
       "      <th>기준_시간대</th>\n",
       "      <th>시작_대여소_ID</th>\n",
       "      <th>시작_대여소명</th>\n",
       "      <th>시작_대여소_자치구</th>\n",
       "      <th>종료_대여소_ID</th>\n",
       "      <th>종료_대여소명</th>\n",
       "      <th>종료_대여소_자치구</th>\n",
       "      <th>전체_건수</th>\n",
       "      <th>전체_이용_분</th>\n",
       "      <th>전체_이용_거리</th>\n",
       "    </tr>\n",
       "  </thead>\n",
       "  <tbody>\n",
       "    <tr>\n",
       "      <th>8826735</th>\n",
       "      <td>20240630</td>\n",
       "      <td>도착시간</td>\n",
       "      <td>2310</td>\n",
       "      <td>ST-330</td>\n",
       "      <td>한남동_035_2</td>\n",
       "      <td>용산구</td>\n",
       "      <td>X</td>\n",
       "      <td>NaN</td>\n",
       "      <td>NaN</td>\n",
       "      <td>1</td>\n",
       "      <td>60.0</td>\n",
       "      <td>6827.0</td>\n",
       "    </tr>\n",
       "    <tr>\n",
       "      <th>8827348</th>\n",
       "      <td>20240630</td>\n",
       "      <td>도착시간</td>\n",
       "      <td>2315</td>\n",
       "      <td>ST-2943</td>\n",
       "      <td>가양1동_037_5</td>\n",
       "      <td>강서구</td>\n",
       "      <td>X</td>\n",
       "      <td>NaN</td>\n",
       "      <td>NaN</td>\n",
       "      <td>1</td>\n",
       "      <td>5.0</td>\n",
       "      <td>461.0</td>\n",
       "    </tr>\n",
       "    <tr>\n",
       "      <th>8827742</th>\n",
       "      <td>20240630</td>\n",
       "      <td>도착시간</td>\n",
       "      <td>2320</td>\n",
       "      <td>ST-1065</td>\n",
       "      <td>가양1동_040_1</td>\n",
       "      <td>강서구</td>\n",
       "      <td>X</td>\n",
       "      <td>NaN</td>\n",
       "      <td>NaN</td>\n",
       "      <td>1</td>\n",
       "      <td>NaN</td>\n",
       "      <td>NaN</td>\n",
       "    </tr>\n",
       "    <tr>\n",
       "      <th>8828086</th>\n",
       "      <td>20240630</td>\n",
       "      <td>도착시간</td>\n",
       "      <td>2320</td>\n",
       "      <td>ST-919</td>\n",
       "      <td>고척1동_006_1</td>\n",
       "      <td>구로구</td>\n",
       "      <td>X</td>\n",
       "      <td>NaN</td>\n",
       "      <td>NaN</td>\n",
       "      <td>1</td>\n",
       "      <td>70.0</td>\n",
       "      <td>4099.0</td>\n",
       "    </tr>\n",
       "    <tr>\n",
       "      <th>8829044</th>\n",
       "      <td>20240630</td>\n",
       "      <td>도착시간</td>\n",
       "      <td>2330</td>\n",
       "      <td>ST-1985</td>\n",
       "      <td>영등포본동_036_1</td>\n",
       "      <td>영등포구</td>\n",
       "      <td>X</td>\n",
       "      <td>NaN</td>\n",
       "      <td>NaN</td>\n",
       "      <td>1</td>\n",
       "      <td>50.0</td>\n",
       "      <td>3658.0</td>\n",
       "    </tr>\n",
       "    <tr>\n",
       "      <th>8829566</th>\n",
       "      <td>20240630</td>\n",
       "      <td>도착시간</td>\n",
       "      <td>2335</td>\n",
       "      <td>ST-1747</td>\n",
       "      <td>마장동_028_1</td>\n",
       "      <td>NaN</td>\n",
       "      <td>X</td>\n",
       "      <td>NaN</td>\n",
       "      <td>NaN</td>\n",
       "      <td>1</td>\n",
       "      <td>NaN</td>\n",
       "      <td>NaN</td>\n",
       "    </tr>\n",
       "    <tr>\n",
       "      <th>8829708</th>\n",
       "      <td>20240630</td>\n",
       "      <td>도착시간</td>\n",
       "      <td>2335</td>\n",
       "      <td>ST-3098</td>\n",
       "      <td>천호2동_028_1</td>\n",
       "      <td>강동구</td>\n",
       "      <td>X</td>\n",
       "      <td>NaN</td>\n",
       "      <td>NaN</td>\n",
       "      <td>1</td>\n",
       "      <td>120.0</td>\n",
       "      <td>3386.0</td>\n",
       "    </tr>\n",
       "    <tr>\n",
       "      <th>8830169</th>\n",
       "      <td>20240630</td>\n",
       "      <td>도착시간</td>\n",
       "      <td>2340</td>\n",
       "      <td>ST-2459</td>\n",
       "      <td>번1동_005_1</td>\n",
       "      <td>강북구</td>\n",
       "      <td>X</td>\n",
       "      <td>NaN</td>\n",
       "      <td>NaN</td>\n",
       "      <td>1</td>\n",
       "      <td>40.0</td>\n",
       "      <td>3467.0</td>\n",
       "    </tr>\n",
       "    <tr>\n",
       "      <th>8831075</th>\n",
       "      <td>20240630</td>\n",
       "      <td>도착시간</td>\n",
       "      <td>2350</td>\n",
       "      <td>ST-2791</td>\n",
       "      <td>월계3동_010_1</td>\n",
       "      <td>노원구</td>\n",
       "      <td>X</td>\n",
       "      <td>NaN</td>\n",
       "      <td>NaN</td>\n",
       "      <td>1</td>\n",
       "      <td>30.0</td>\n",
       "      <td>4663.0</td>\n",
       "    </tr>\n",
       "    <tr>\n",
       "      <th>8831324</th>\n",
       "      <td>20240630</td>\n",
       "      <td>도착시간</td>\n",
       "      <td>2355</td>\n",
       "      <td>ST-1798</td>\n",
       "      <td>창신1동_006_1</td>\n",
       "      <td>종로구</td>\n",
       "      <td>X</td>\n",
       "      <td>NaN</td>\n",
       "      <td>NaN</td>\n",
       "      <td>1</td>\n",
       "      <td>10.0</td>\n",
       "      <td>2523.0</td>\n",
       "    </tr>\n",
       "  </tbody>\n",
       "</table>\n",
       "</div>"
      ],
      "text/plain": [
       "            기준_날짜 집계_기준  기준_시간대 시작_대여소_ID      시작_대여소명 시작_대여소_자치구 종료_대여소_ID  \\\n",
       "8826735  20240630  도착시간    2310    ST-330    한남동_035_2        용산구         X   \n",
       "8827348  20240630  도착시간    2315   ST-2943   가양1동_037_5        강서구         X   \n",
       "8827742  20240630  도착시간    2320   ST-1065   가양1동_040_1        강서구         X   \n",
       "8828086  20240630  도착시간    2320    ST-919   고척1동_006_1        구로구         X   \n",
       "8829044  20240630  도착시간    2330   ST-1985  영등포본동_036_1       영등포구         X   \n",
       "8829566  20240630  도착시간    2335   ST-1747    마장동_028_1        NaN         X   \n",
       "8829708  20240630  도착시간    2335   ST-3098   천호2동_028_1        강동구         X   \n",
       "8830169  20240630  도착시간    2340   ST-2459    번1동_005_1        강북구         X   \n",
       "8831075  20240630  도착시간    2350   ST-2791   월계3동_010_1        노원구         X   \n",
       "8831324  20240630  도착시간    2355   ST-1798   창신1동_006_1        종로구         X   \n",
       "\n",
       "        종료_대여소명 종료_대여소_자치구  전체_건수  전체_이용_분  전체_이용_거리  \n",
       "8826735     NaN        NaN      1     60.0    6827.0  \n",
       "8827348     NaN        NaN      1      5.0     461.0  \n",
       "8827742     NaN        NaN      1      NaN       NaN  \n",
       "8828086     NaN        NaN      1     70.0    4099.0  \n",
       "8829044     NaN        NaN      1     50.0    3658.0  \n",
       "8829566     NaN        NaN      1      NaN       NaN  \n",
       "8829708     NaN        NaN      1    120.0    3386.0  \n",
       "8830169     NaN        NaN      1     40.0    3467.0  \n",
       "8831075     NaN        NaN      1     30.0    4663.0  \n",
       "8831324     NaN        NaN      1     10.0    2523.0  "
      ]
     },
     "execution_count": 126,
     "metadata": {},
     "output_type": "execute_result"
    }
   ],
   "source": [
    "null_rows.tail(10)"
   ]
  },
  {
   "cell_type": "code",
   "execution_count": 128,
   "id": "d12d7ac3-1254-43e0-bc78-c2f3550033be",
   "metadata": {},
   "outputs": [
    {
     "data": {
      "text/plain": [
       "기준_날짜             0\n",
       "집계_기준             0\n",
       "기준_시간대            0\n",
       "시작_대여소_ID         0\n",
       "시작_대여소명           0\n",
       "시작_대여소_자치구      552\n",
       "종료_대여소_ID         0\n",
       "종료_대여소명       30932\n",
       "종료_대여소_자치구    31304\n",
       "전체_건수             0\n",
       "전체_이용_분         956\n",
       "전체_이용_거리        956\n",
       "dtype: int64"
      ]
     },
     "execution_count": 128,
     "metadata": {},
     "output_type": "execute_result"
    }
   ],
   "source": [
    "null_rows.isnull().sum()"
   ]
  },
  {
   "cell_type": "markdown",
   "id": "36372848-2ad7-491c-8597-91a5d29d9cc5",
   "metadata": {},
   "source": [
    "## 6월 종합 데이터 (시간대별, 자치구별 그룹화)"
   ]
  },
  {
   "cell_type": "code",
   "execution_count": 131,
   "id": "aecc9fcb-1015-44e9-b81b-455b6da4b3a7",
   "metadata": {},
   "outputs": [],
   "source": [
    "# 원본 보존\n",
    "df = data1_merged.copy()\n",
    "\n",
    "df[\"기준_월\"] = \"202406\"\n",
    "\n",
    "# 출발시간/도착시\n",
    "df[\"집계_기준\"] = (\n",
    "    df[\"집계_기준\"]\n",
    "    .astype(str)\n",
    "      .str.replace(\"_\", \"\", regex=False)\n",
    "      .str.strip()\n",
    ")\n",
    "\n",
    "df = df[df[\"집계_기준\"].isin([\"출발시간\", \"도착시간\"])].copy()\n",
    "\n",
    "# 숫자형\n",
    "df[\"전체_건수\"]   = pd.to_numeric(df[\"전체_건수\"], errors=\"coerce\").fillna(0).astype(int)\n",
    "df[\"기준_시간대\"] = pd.to_numeric(df[\"기준_시간대\"], errors=\"coerce\").fillna(0).astype(int)\n",
    "\n",
    "# 기준_시간대_1시간 (0~23)\n",
    "df[\"기준_시간대_1시간\"] = (df[\"기준_시간대\"] // 12).astype(int).clip(0, 23)\n",
    "\n",
    "# 출발 > 시작_대여소_자치구, 도착 > 종료_대여소_자치구\n",
    "df[\"자치구\"] = np.where(\n",
    "    df[\"집계_기준\"] == \"출발시간\",\n",
    "    df[\"시작_대여소_자치구\"],\n",
    "    df[\"종료_대여소_자치구\"]\n",
    ")\n",
    "\n",
    "# 자치구 × 1시간 × 집계기준 그룹화\n",
    "grouped = (\n",
    "    df.groupby([\"기준_월\", \"기준_시간대_1시간\", \"자치구\", \"집계_기준\"], as_index=False)[\"전체_건수\"]\n",
    "      .sum()\n",
    "      .sort_values([\"기준_월\", \"기준_시간대_1시간\", \"자치구\", \"집계_기준\"])\n",
    ")\n",
    "\n",
    "# Pivot\n",
    "pivot_result = (\n",
    "    grouped.pivot_table(\n",
    "        index=[\"기준_월\", \"기준_시간대_1시간\", \"자치구\"],\n",
    "        columns=\"집계_기준\",\n",
    "        values=\"전체_건수\",\n",
    "        fill_value=0\n",
    "    )\n",
    "    .reset_index()\n",
    ")\n",
    "\n",
    "pivot_result.columns.name = None\n",
    "\n",
    "# 컬럼명 변경\n",
    "pivot_result = pivot_result.rename(\n",
    "    columns={\"출발시간\": \"대여량\", \"도착시간\": \"반납량\"}\n",
    ")\n",
    "\n",
    "# 지표 계산\n",
    "if {\"대여량\", \"반납량\"}.issubset(pivot_result.columns):\n",
    "    pivot_result[\"순이동(대여-반납)\"] = pivot_result[\"대여량\"] - pivot_result[\"반납량\"]\n",
    "    pivot_result[\"총처리량(대여+반납)\"] = pivot_result[\"대여량\"] + pivot_result[\"반납량\"]"
   ]
  },
  {
   "cell_type": "code",
   "execution_count": 132,
   "id": "fffa9910-ee97-4155-ad48-7f6476d3ad35",
   "metadata": {},
   "outputs": [
    {
     "data": {
      "text/plain": [
       "(850, 5)"
      ]
     },
     "execution_count": 132,
     "metadata": {},
     "output_type": "execute_result"
    }
   ],
   "source": [
    "grouped.shape"
   ]
  },
  {
   "cell_type": "code",
   "execution_count": 135,
   "id": "56a94481-72f0-44e5-a566-9e81bbd1d504",
   "metadata": {},
   "outputs": [
    {
     "name": "stdout",
     "output_type": "stream",
     "text": [
      "<class 'pandas.core.frame.DataFrame'>\n",
      "RangeIndex: 850 entries, 0 to 849\n",
      "Data columns (total 5 columns):\n",
      " #   Column      Non-Null Count  Dtype \n",
      "---  ------      --------------  ----- \n",
      " 0   기준_월        850 non-null    object\n",
      " 1   기준_시간대_1시간  850 non-null    int32 \n",
      " 2   자치구         850 non-null    object\n",
      " 3   집계_기준       850 non-null    object\n",
      " 4   전체_건수       850 non-null    int32 \n",
      "dtypes: int32(2), object(3)\n",
      "memory usage: 26.7+ KB\n"
     ]
    }
   ],
   "source": [
    "grouped.info()"
   ]
  },
  {
   "cell_type": "code",
   "execution_count": 137,
   "id": "cc03c8c5-d581-4717-b989-3db02af45288",
   "metadata": {},
   "outputs": [
    {
     "data": {
      "text/html": [
       "<div>\n",
       "<style scoped>\n",
       "    .dataframe tbody tr th:only-of-type {\n",
       "        vertical-align: middle;\n",
       "    }\n",
       "\n",
       "    .dataframe tbody tr th {\n",
       "        vertical-align: top;\n",
       "    }\n",
       "\n",
       "    .dataframe thead th {\n",
       "        text-align: right;\n",
       "    }\n",
       "</style>\n",
       "<table border=\"1\" class=\"dataframe\">\n",
       "  <thead>\n",
       "    <tr style=\"text-align: right;\">\n",
       "      <th></th>\n",
       "      <th>기준_월</th>\n",
       "      <th>기준_시간대_1시간</th>\n",
       "      <th>자치구</th>\n",
       "      <th>집계_기준</th>\n",
       "      <th>전체_건수</th>\n",
       "    </tr>\n",
       "  </thead>\n",
       "  <tbody>\n",
       "    <tr>\n",
       "      <th>0</th>\n",
       "      <td>202406</td>\n",
       "      <td>0</td>\n",
       "      <td>강남구</td>\n",
       "      <td>도착시간</td>\n",
       "      <td>293</td>\n",
       "    </tr>\n",
       "    <tr>\n",
       "      <th>1</th>\n",
       "      <td>202406</td>\n",
       "      <td>0</td>\n",
       "      <td>강남구</td>\n",
       "      <td>출발시간</td>\n",
       "      <td>969</td>\n",
       "    </tr>\n",
       "    <tr>\n",
       "      <th>2</th>\n",
       "      <td>202406</td>\n",
       "      <td>0</td>\n",
       "      <td>강동구</td>\n",
       "      <td>도착시간</td>\n",
       "      <td>524</td>\n",
       "    </tr>\n",
       "    <tr>\n",
       "      <th>3</th>\n",
       "      <td>202406</td>\n",
       "      <td>0</td>\n",
       "      <td>강동구</td>\n",
       "      <td>출발시간</td>\n",
       "      <td>1565</td>\n",
       "    </tr>\n",
       "    <tr>\n",
       "      <th>4</th>\n",
       "      <td>202406</td>\n",
       "      <td>0</td>\n",
       "      <td>강북구</td>\n",
       "      <td>도착시간</td>\n",
       "      <td>158</td>\n",
       "    </tr>\n",
       "  </tbody>\n",
       "</table>\n",
       "</div>"
      ],
      "text/plain": [
       "     기준_월  기준_시간대_1시간  자치구 집계_기준  전체_건수\n",
       "0  202406           0  강남구  도착시간    293\n",
       "1  202406           0  강남구  출발시간    969\n",
       "2  202406           0  강동구  도착시간    524\n",
       "3  202406           0  강동구  출발시간   1565\n",
       "4  202406           0  강북구  도착시간    158"
      ]
     },
     "execution_count": 137,
     "metadata": {},
     "output_type": "execute_result"
    }
   ],
   "source": [
    "grouped.head()"
   ]
  },
  {
   "cell_type": "code",
   "execution_count": 139,
   "id": "b0eb7b50-e766-4ab0-b428-4449dca3838e",
   "metadata": {},
   "outputs": [
    {
     "data": {
      "text/html": [
       "<div>\n",
       "<style scoped>\n",
       "    .dataframe tbody tr th:only-of-type {\n",
       "        vertical-align: middle;\n",
       "    }\n",
       "\n",
       "    .dataframe tbody tr th {\n",
       "        vertical-align: top;\n",
       "    }\n",
       "\n",
       "    .dataframe thead th {\n",
       "        text-align: right;\n",
       "    }\n",
       "</style>\n",
       "<table border=\"1\" class=\"dataframe\">\n",
       "  <thead>\n",
       "    <tr style=\"text-align: right;\">\n",
       "      <th></th>\n",
       "      <th>기준_월</th>\n",
       "      <th>기준_시간대_1시간</th>\n",
       "      <th>자치구</th>\n",
       "      <th>집계_기준</th>\n",
       "      <th>전체_건수</th>\n",
       "    </tr>\n",
       "  </thead>\n",
       "  <tbody>\n",
       "    <tr>\n",
       "      <th>845</th>\n",
       "      <td>202406</td>\n",
       "      <td>23</td>\n",
       "      <td>종로구</td>\n",
       "      <td>출발시간</td>\n",
       "      <td>132458</td>\n",
       "    </tr>\n",
       "    <tr>\n",
       "      <th>846</th>\n",
       "      <td>202406</td>\n",
       "      <td>23</td>\n",
       "      <td>중구</td>\n",
       "      <td>도착시간</td>\n",
       "      <td>92762</td>\n",
       "    </tr>\n",
       "    <tr>\n",
       "      <th>847</th>\n",
       "      <td>202406</td>\n",
       "      <td>23</td>\n",
       "      <td>중구</td>\n",
       "      <td>출발시간</td>\n",
       "      <td>96916</td>\n",
       "    </tr>\n",
       "    <tr>\n",
       "      <th>848</th>\n",
       "      <td>202406</td>\n",
       "      <td>23</td>\n",
       "      <td>중랑구</td>\n",
       "      <td>도착시간</td>\n",
       "      <td>129033</td>\n",
       "    </tr>\n",
       "    <tr>\n",
       "      <th>849</th>\n",
       "      <td>202406</td>\n",
       "      <td>23</td>\n",
       "      <td>중랑구</td>\n",
       "      <td>출발시간</td>\n",
       "      <td>126721</td>\n",
       "    </tr>\n",
       "  </tbody>\n",
       "</table>\n",
       "</div>"
      ],
      "text/plain": [
       "       기준_월  기준_시간대_1시간  자치구 집계_기준   전체_건수\n",
       "845  202406          23  종로구  출발시간  132458\n",
       "846  202406          23   중구  도착시간   92762\n",
       "847  202406          23   중구  출발시간   96916\n",
       "848  202406          23  중랑구  도착시간  129033\n",
       "849  202406          23  중랑구  출발시간  126721"
      ]
     },
     "execution_count": 139,
     "metadata": {},
     "output_type": "execute_result"
    }
   ],
   "source": [
    "grouped.tail()"
   ]
  },
  {
   "cell_type": "code",
   "execution_count": 145,
   "id": "d118d229-3312-4cd4-b4f6-96c0a5f603cc",
   "metadata": {},
   "outputs": [
    {
     "data": {
      "text/plain": [
       "기준_월          0\n",
       "기준_시간대_1시간    0\n",
       "자치구           0\n",
       "집계_기준         0\n",
       "전체_건수         0\n",
       "dtype: int64"
      ]
     },
     "execution_count": 145,
     "metadata": {},
     "output_type": "execute_result"
    }
   ],
   "source": [
    "grouped.isnull().sum()"
   ]
  },
  {
   "cell_type": "code",
   "execution_count": 147,
   "id": "b11d2484-e01c-4a42-a94e-19995b4e9f3a",
   "metadata": {},
   "outputs": [
    {
     "data": {
      "text/plain": [
       "array([ 0,  1,  2,  3,  4,  8,  9, 10, 11, 12, 16, 17, 18, 19, 20, 21, 23])"
      ]
     },
     "execution_count": 147,
     "metadata": {},
     "output_type": "execute_result"
    }
   ],
   "source": [
    "grouped[\"기준_시간대_1시간\"].unique()"
   ]
  },
  {
   "cell_type": "code",
   "execution_count": 149,
   "id": "8aac07e5-b5a6-46f3-bbfc-b9ac795a652e",
   "metadata": {},
   "outputs": [
    {
     "data": {
      "text/html": [
       "<div>\n",
       "<style scoped>\n",
       "    .dataframe tbody tr th:only-of-type {\n",
       "        vertical-align: middle;\n",
       "    }\n",
       "\n",
       "    .dataframe tbody tr th {\n",
       "        vertical-align: top;\n",
       "    }\n",
       "\n",
       "    .dataframe thead th {\n",
       "        text-align: right;\n",
       "    }\n",
       "</style>\n",
       "<table border=\"1\" class=\"dataframe\">\n",
       "  <thead>\n",
       "    <tr style=\"text-align: right;\">\n",
       "      <th></th>\n",
       "      <th>기준_월</th>\n",
       "      <th>기준_시간대_1시간</th>\n",
       "      <th>자치구</th>\n",
       "      <th>집계_기준</th>\n",
       "      <th>전체_건수</th>\n",
       "    </tr>\n",
       "  </thead>\n",
       "  <tbody>\n",
       "  </tbody>\n",
       "</table>\n",
       "</div>"
      ],
      "text/plain": [
       "Empty DataFrame\n",
       "Columns: [기준_월, 기준_시간대_1시간, 자치구, 집계_기준, 전체_건수]\n",
       "Index: []"
      ]
     },
     "execution_count": 149,
     "metadata": {},
     "output_type": "execute_result"
    }
   ],
   "source": [
    "grouped[grouped[\"기준_시간대_1시간\"] == 5].head()"
   ]
  },
  {
   "cell_type": "code",
   "execution_count": 151,
   "id": "029eee14-8a67-442b-acf0-b217732dae4a",
   "metadata": {},
   "outputs": [
    {
     "data": {
      "text/html": [
       "<div>\n",
       "<style scoped>\n",
       "    .dataframe tbody tr th:only-of-type {\n",
       "        vertical-align: middle;\n",
       "    }\n",
       "\n",
       "    .dataframe tbody tr th {\n",
       "        vertical-align: top;\n",
       "    }\n",
       "\n",
       "    .dataframe thead th {\n",
       "        text-align: right;\n",
       "    }\n",
       "</style>\n",
       "<table border=\"1\" class=\"dataframe\">\n",
       "  <thead>\n",
       "    <tr style=\"text-align: right;\">\n",
       "      <th></th>\n",
       "      <th>기준_월</th>\n",
       "      <th>기준_시간대_1시간</th>\n",
       "      <th>자치구</th>\n",
       "      <th>집계_기준</th>\n",
       "      <th>전체_건수</th>\n",
       "    </tr>\n",
       "  </thead>\n",
       "  <tbody>\n",
       "  </tbody>\n",
       "</table>\n",
       "</div>"
      ],
      "text/plain": [
       "Empty DataFrame\n",
       "Columns: [기준_월, 기준_시간대_1시간, 자치구, 집계_기준, 전체_건수]\n",
       "Index: []"
      ]
     },
     "execution_count": 151,
     "metadata": {},
     "output_type": "execute_result"
    }
   ],
   "source": [
    "grouped[grouped[\"기준_시간대_1시간\"] == 6].head()"
   ]
  },
  {
   "cell_type": "code",
   "execution_count": 153,
   "id": "e0adf509-b764-4804-a5d3-ed2ecd30b558",
   "metadata": {},
   "outputs": [
    {
     "data": {
      "text/html": [
       "<div>\n",
       "<style scoped>\n",
       "    .dataframe tbody tr th:only-of-type {\n",
       "        vertical-align: middle;\n",
       "    }\n",
       "\n",
       "    .dataframe tbody tr th {\n",
       "        vertical-align: top;\n",
       "    }\n",
       "\n",
       "    .dataframe thead th {\n",
       "        text-align: right;\n",
       "    }\n",
       "</style>\n",
       "<table border=\"1\" class=\"dataframe\">\n",
       "  <thead>\n",
       "    <tr style=\"text-align: right;\">\n",
       "      <th></th>\n",
       "      <th>기준_월</th>\n",
       "      <th>기준_시간대_1시간</th>\n",
       "      <th>자치구</th>\n",
       "      <th>집계_기준</th>\n",
       "      <th>전체_건수</th>\n",
       "    </tr>\n",
       "  </thead>\n",
       "  <tbody>\n",
       "  </tbody>\n",
       "</table>\n",
       "</div>"
      ],
      "text/plain": [
       "Empty DataFrame\n",
       "Columns: [기준_월, 기준_시간대_1시간, 자치구, 집계_기준, 전체_건수]\n",
       "Index: []"
      ]
     },
     "execution_count": 153,
     "metadata": {},
     "output_type": "execute_result"
    }
   ],
   "source": [
    "grouped[grouped[\"기준_시간대_1시간\"] == 7].head()"
   ]
  },
  {
   "cell_type": "code",
   "execution_count": 141,
   "id": "d05aa1d0-e76b-4486-9b1e-17caa408c266",
   "metadata": {},
   "outputs": [
    {
     "data": {
      "text/html": [
       "<div>\n",
       "<style scoped>\n",
       "    .dataframe tbody tr th:only-of-type {\n",
       "        vertical-align: middle;\n",
       "    }\n",
       "\n",
       "    .dataframe tbody tr th {\n",
       "        vertical-align: top;\n",
       "    }\n",
       "\n",
       "    .dataframe thead th {\n",
       "        text-align: right;\n",
       "    }\n",
       "</style>\n",
       "<table border=\"1\" class=\"dataframe\">\n",
       "  <thead>\n",
       "    <tr style=\"text-align: right;\">\n",
       "      <th></th>\n",
       "      <th>기준_월</th>\n",
       "      <th>기준_시간대_1시간</th>\n",
       "      <th>자치구</th>\n",
       "      <th>반납량</th>\n",
       "      <th>대여량</th>\n",
       "      <th>순이동(대여-반납)</th>\n",
       "      <th>총처리량(대여+반납)</th>\n",
       "    </tr>\n",
       "  </thead>\n",
       "  <tbody>\n",
       "    <tr>\n",
       "      <th>0</th>\n",
       "      <td>202406</td>\n",
       "      <td>0</td>\n",
       "      <td>강남구</td>\n",
       "      <td>293.0</td>\n",
       "      <td>969.0</td>\n",
       "      <td>676.0</td>\n",
       "      <td>1262.0</td>\n",
       "    </tr>\n",
       "    <tr>\n",
       "      <th>1</th>\n",
       "      <td>202406</td>\n",
       "      <td>0</td>\n",
       "      <td>강동구</td>\n",
       "      <td>524.0</td>\n",
       "      <td>1565.0</td>\n",
       "      <td>1041.0</td>\n",
       "      <td>2089.0</td>\n",
       "    </tr>\n",
       "    <tr>\n",
       "      <th>2</th>\n",
       "      <td>202406</td>\n",
       "      <td>0</td>\n",
       "      <td>강북구</td>\n",
       "      <td>158.0</td>\n",
       "      <td>635.0</td>\n",
       "      <td>477.0</td>\n",
       "      <td>793.0</td>\n",
       "    </tr>\n",
       "    <tr>\n",
       "      <th>3</th>\n",
       "      <td>202406</td>\n",
       "      <td>0</td>\n",
       "      <td>강서구</td>\n",
       "      <td>1052.0</td>\n",
       "      <td>2891.0</td>\n",
       "      <td>1839.0</td>\n",
       "      <td>3943.0</td>\n",
       "    </tr>\n",
       "    <tr>\n",
       "      <th>4</th>\n",
       "      <td>202406</td>\n",
       "      <td>0</td>\n",
       "      <td>관악구</td>\n",
       "      <td>255.0</td>\n",
       "      <td>896.0</td>\n",
       "      <td>641.0</td>\n",
       "      <td>1151.0</td>\n",
       "    </tr>\n",
       "  </tbody>\n",
       "</table>\n",
       "</div>"
      ],
      "text/plain": [
       "     기준_월  기준_시간대_1시간  자치구     반납량     대여량  순이동(대여-반납)  총처리량(대여+반납)\n",
       "0  202406           0  강남구   293.0   969.0       676.0       1262.0\n",
       "1  202406           0  강동구   524.0  1565.0      1041.0       2089.0\n",
       "2  202406           0  강북구   158.0   635.0       477.0        793.0\n",
       "3  202406           0  강서구  1052.0  2891.0      1839.0       3943.0\n",
       "4  202406           0  관악구   255.0   896.0       641.0       1151.0"
      ]
     },
     "execution_count": 141,
     "metadata": {},
     "output_type": "execute_result"
    }
   ],
   "source": [
    "pivot_result.head()"
   ]
  },
  {
   "cell_type": "code",
   "execution_count": 143,
   "id": "fcfb4984-899e-4aad-aac4-5506fbd10665",
   "metadata": {},
   "outputs": [
    {
     "data": {
      "text/html": [
       "<div>\n",
       "<style scoped>\n",
       "    .dataframe tbody tr th:only-of-type {\n",
       "        vertical-align: middle;\n",
       "    }\n",
       "\n",
       "    .dataframe tbody tr th {\n",
       "        vertical-align: top;\n",
       "    }\n",
       "\n",
       "    .dataframe thead th {\n",
       "        text-align: right;\n",
       "    }\n",
       "</style>\n",
       "<table border=\"1\" class=\"dataframe\">\n",
       "  <thead>\n",
       "    <tr style=\"text-align: right;\">\n",
       "      <th></th>\n",
       "      <th>기준_월</th>\n",
       "      <th>기준_시간대_1시간</th>\n",
       "      <th>자치구</th>\n",
       "      <th>반납량</th>\n",
       "      <th>대여량</th>\n",
       "      <th>순이동(대여-반납)</th>\n",
       "      <th>총처리량(대여+반납)</th>\n",
       "    </tr>\n",
       "  </thead>\n",
       "  <tbody>\n",
       "    <tr>\n",
       "      <th>420</th>\n",
       "      <td>202406</td>\n",
       "      <td>23</td>\n",
       "      <td>용산구</td>\n",
       "      <td>88798.0</td>\n",
       "      <td>88823.0</td>\n",
       "      <td>25.0</td>\n",
       "      <td>177621.0</td>\n",
       "    </tr>\n",
       "    <tr>\n",
       "      <th>421</th>\n",
       "      <td>202406</td>\n",
       "      <td>23</td>\n",
       "      <td>은평구</td>\n",
       "      <td>111659.0</td>\n",
       "      <td>108972.0</td>\n",
       "      <td>-2687.0</td>\n",
       "      <td>220631.0</td>\n",
       "    </tr>\n",
       "    <tr>\n",
       "      <th>422</th>\n",
       "      <td>202406</td>\n",
       "      <td>23</td>\n",
       "      <td>종로구</td>\n",
       "      <td>127624.0</td>\n",
       "      <td>132458.0</td>\n",
       "      <td>4834.0</td>\n",
       "      <td>260082.0</td>\n",
       "    </tr>\n",
       "    <tr>\n",
       "      <th>423</th>\n",
       "      <td>202406</td>\n",
       "      <td>23</td>\n",
       "      <td>중구</td>\n",
       "      <td>92762.0</td>\n",
       "      <td>96916.0</td>\n",
       "      <td>4154.0</td>\n",
       "      <td>189678.0</td>\n",
       "    </tr>\n",
       "    <tr>\n",
       "      <th>424</th>\n",
       "      <td>202406</td>\n",
       "      <td>23</td>\n",
       "      <td>중랑구</td>\n",
       "      <td>129033.0</td>\n",
       "      <td>126721.0</td>\n",
       "      <td>-2312.0</td>\n",
       "      <td>255754.0</td>\n",
       "    </tr>\n",
       "  </tbody>\n",
       "</table>\n",
       "</div>"
      ],
      "text/plain": [
       "       기준_월  기준_시간대_1시간  자치구       반납량       대여량  순이동(대여-반납)  총처리량(대여+반납)\n",
       "420  202406          23  용산구   88798.0   88823.0        25.0     177621.0\n",
       "421  202406          23  은평구  111659.0  108972.0     -2687.0     220631.0\n",
       "422  202406          23  종로구  127624.0  132458.0      4834.0     260082.0\n",
       "423  202406          23   중구   92762.0   96916.0      4154.0     189678.0\n",
       "424  202406          23  중랑구  129033.0  126721.0     -2312.0     255754.0"
      ]
     },
     "execution_count": 143,
     "metadata": {},
     "output_type": "execute_result"
    }
   ],
   "source": [
    "pivot_result.tail()"
   ]
  },
  {
   "cell_type": "code",
   "execution_count": 155,
   "id": "55158722-7063-4ffa-a7f3-d95c538d9fca",
   "metadata": {},
   "outputs": [
    {
     "data": {
      "text/plain": [
       "array([ 0,  1,  2,  3,  4,  8,  9, 10, 11, 12, 16, 17, 18, 19, 20, 21, 23])"
      ]
     },
     "execution_count": 155,
     "metadata": {},
     "output_type": "execute_result"
    }
   ],
   "source": [
    "pivot_result[\"기준_시간대_1시간\"].unique()"
   ]
  },
  {
   "cell_type": "code",
   "execution_count": 157,
   "id": "c3c36faf-8dfa-4e9c-a937-09ad636315dd",
   "metadata": {},
   "outputs": [
    {
     "data": {
      "text/plain": [
       "(425, 7)"
      ]
     },
     "execution_count": 157,
     "metadata": {},
     "output_type": "execute_result"
    }
   ],
   "source": [
    "pivot_result.shape"
   ]
  },
  {
   "cell_type": "markdown",
   "id": "73597c63-eab6-46f2-a45b-3b887cb30533",
   "metadata": {},
   "source": [
    "# **2024년 6월 대여소별 대여가능 수량 (w/자치구)**"
   ]
  },
  {
   "cell_type": "markdown",
   "id": "269404b3-34c0-4b47-99dc-79d28dfff242",
   "metadata": {},
   "source": [
    "## 서울시 대여소별 공공자전거 대여가능 수량\n",
    "\n",
    "- https://data.seoul.go.kr/dataList/OA-22382/F/1/datasetView.do"
   ]
  },
  {
   "cell_type": "code",
   "execution_count": 166,
   "id": "39f220c5-22c6-438d-a0ab-fe2beb1f240b",
   "metadata": {},
   "outputs": [],
   "source": [
    "# 대여소 정보\n",
    "gu_dir = \"./data/working/공공자전거_대여소_정보_API.csv\"\n",
    "data_gu = pd.read_csv(gu_dir, encoding=\"utf-8-sig\")"
   ]
  },
  {
   "cell_type": "code",
   "execution_count": 168,
   "id": "b50848a7-aa19-4f8f-9691-43a47c1cf2e4",
   "metadata": {},
   "outputs": [
    {
     "data": {
      "text/html": [
       "<div>\n",
       "<style scoped>\n",
       "    .dataframe tbody tr th:only-of-type {\n",
       "        vertical-align: middle;\n",
       "    }\n",
       "\n",
       "    .dataframe tbody tr th {\n",
       "        vertical-align: top;\n",
       "    }\n",
       "\n",
       "    .dataframe thead th {\n",
       "        text-align: right;\n",
       "    }\n",
       "</style>\n",
       "<table border=\"1\" class=\"dataframe\">\n",
       "  <thead>\n",
       "    <tr style=\"text-align: right;\">\n",
       "      <th></th>\n",
       "      <th>STA_LOC</th>\n",
       "      <th>RENT_ID</th>\n",
       "      <th>RENT_NO</th>\n",
       "      <th>RENT_NM</th>\n",
       "      <th>RENT_ID_NM</th>\n",
       "      <th>HOLD_NUM</th>\n",
       "      <th>STA_ADD1</th>\n",
       "      <th>STA_ADD2</th>\n",
       "      <th>STA_LAT</th>\n",
       "      <th>STA_LONG</th>\n",
       "      <th>START_INDEX</th>\n",
       "      <th>END_INDEX</th>\n",
       "      <th>RNUM</th>\n",
       "    </tr>\n",
       "  </thead>\n",
       "  <tbody>\n",
       "    <tr>\n",
       "      <th>0</th>\n",
       "      <td>마포구</td>\n",
       "      <td>ST-10</td>\n",
       "      <td>108</td>\n",
       "      <td>서교동 사거리</td>\n",
       "      <td>108. 서교동 사거리</td>\n",
       "      <td>12.0</td>\n",
       "      <td>서울특별시 마포구 양화로 93</td>\n",
       "      <td>427</td>\n",
       "      <td>37.552746</td>\n",
       "      <td>126.918617</td>\n",
       "      <td>0</td>\n",
       "      <td>0</td>\n",
       "      <td>1</td>\n",
       "    </tr>\n",
       "    <tr>\n",
       "      <th>1</th>\n",
       "      <td>광진구</td>\n",
       "      <td>ST-100</td>\n",
       "      <td>503</td>\n",
       "      <td>더샵스타시티 C동 앞</td>\n",
       "      <td>503. 더샵스타시티 C동 앞</td>\n",
       "      <td>15.0</td>\n",
       "      <td>서울특별시 광진구 아차산로 262</td>\n",
       "      <td>더샵스타시티 C동 앞</td>\n",
       "      <td>37.536667</td>\n",
       "      <td>127.073593</td>\n",
       "      <td>0</td>\n",
       "      <td>0</td>\n",
       "      <td>2</td>\n",
       "    </tr>\n",
       "    <tr>\n",
       "      <th>2</th>\n",
       "      <td>양천구</td>\n",
       "      <td>ST-1000</td>\n",
       "      <td>729</td>\n",
       "      <td>서부식자재마트 건너편</td>\n",
       "      <td>729. 서부식자재마트 건너편</td>\n",
       "      <td>10.0</td>\n",
       "      <td>서울특별시 양천구 신정동 236</td>\n",
       "      <td>서부식자재마트 건너편</td>\n",
       "      <td>37.510380</td>\n",
       "      <td>126.866798</td>\n",
       "      <td>0</td>\n",
       "      <td>0</td>\n",
       "      <td>3</td>\n",
       "    </tr>\n",
       "    <tr>\n",
       "      <th>3</th>\n",
       "      <td>양천구</td>\n",
       "      <td>ST-1002</td>\n",
       "      <td>731</td>\n",
       "      <td>서울시 도로환경관리센터</td>\n",
       "      <td>731. 서울시 도로환경관리센터</td>\n",
       "      <td>10.0</td>\n",
       "      <td>서울특별시 양천구 목동동로 316-6</td>\n",
       "      <td>서울시 도로환경관리센터</td>\n",
       "      <td>37.529900</td>\n",
       "      <td>126.876541</td>\n",
       "      <td>0</td>\n",
       "      <td>0</td>\n",
       "      <td>4</td>\n",
       "    </tr>\n",
       "    <tr>\n",
       "      <th>4</th>\n",
       "      <td>양천구</td>\n",
       "      <td>ST-1003</td>\n",
       "      <td>732</td>\n",
       "      <td>신월중학교</td>\n",
       "      <td>732. 신월중학교</td>\n",
       "      <td>10.0</td>\n",
       "      <td>서울특별시 양천구 화곡로 59</td>\n",
       "      <td>신월동 이마트</td>\n",
       "      <td>37.539551</td>\n",
       "      <td>126.828300</td>\n",
       "      <td>0</td>\n",
       "      <td>0</td>\n",
       "      <td>5</td>\n",
       "    </tr>\n",
       "  </tbody>\n",
       "</table>\n",
       "</div>"
      ],
      "text/plain": [
       "  STA_LOC  RENT_ID  RENT_NO       RENT_NM         RENT_ID_NM  HOLD_NUM  \\\n",
       "0     마포구    ST-10      108       서교동 사거리       108. 서교동 사거리      12.0   \n",
       "1     광진구   ST-100      503   더샵스타시티 C동 앞   503. 더샵스타시티 C동 앞      15.0   \n",
       "2     양천구  ST-1000      729   서부식자재마트 건너편   729. 서부식자재마트 건너편      10.0   \n",
       "3     양천구  ST-1002      731  서울시 도로환경관리센터  731. 서울시 도로환경관리센터      10.0   \n",
       "4     양천구  ST-1003      732         신월중학교         732. 신월중학교      10.0   \n",
       "\n",
       "               STA_ADD1      STA_ADD2    STA_LAT    STA_LONG  START_INDEX  \\\n",
       "0      서울특별시 마포구 양화로 93           427  37.552746  126.918617            0   \n",
       "1    서울특별시 광진구 아차산로 262   더샵스타시티 C동 앞  37.536667  127.073593            0   \n",
       "2    서울특별시 양천구 신정동 236    서부식자재마트 건너편  37.510380  126.866798            0   \n",
       "3  서울특별시 양천구 목동동로 316-6  서울시 도로환경관리센터  37.529900  126.876541            0   \n",
       "4      서울특별시 양천구 화곡로 59       신월동 이마트  37.539551  126.828300            0   \n",
       "\n",
       "   END_INDEX  RNUM  \n",
       "0          0     1  \n",
       "1          0     2  \n",
       "2          0     3  \n",
       "3          0     4  \n",
       "4          0     5  "
      ]
     },
     "execution_count": 168,
     "metadata": {},
     "output_type": "execute_result"
    }
   ],
   "source": [
    "data_gu.head()"
   ]
  },
  {
   "cell_type": "code",
   "execution_count": 172,
   "id": "34821c14-7502-421b-aedc-1375b62a5af5",
   "metadata": {},
   "outputs": [
    {
     "data": {
      "text/plain": [
       "(3180, 13)"
      ]
     },
     "execution_count": 172,
     "metadata": {},
     "output_type": "execute_result"
    }
   ],
   "source": [
    "data_gu.shape"
   ]
  },
  {
   "cell_type": "markdown",
   "id": "fe79d029-7549-41f9-a70b-9d4219934c7a",
   "metadata": {},
   "source": [
    "## 서울시 대여소별 공공자전거 대여가능 수량\n",
    "\n",
    "- https://data.seoul.go.kr/dataList/OA-22382/F/1/datasetView.do"
   ]
  },
  {
   "cell_type": "code",
   "execution_count": 185,
   "id": "6a549b5e-b94c-41a7-975b-91b085397d0c",
   "metadata": {},
   "outputs": [],
   "source": [
    "# 대여가능 수량 정보\n",
    "available = \"./data/raw/대여소별_대여가능_수량_1시간단위.csv\"\n",
    "data = pd.read_csv(available, encoding=\"cp949\")"
   ]
  },
  {
   "cell_type": "code",
   "execution_count": 197,
   "id": "b386cc9a-b00c-4bab-ac07-2f00371aabef",
   "metadata": {},
   "outputs": [
    {
     "data": {
      "text/html": [
       "<div>\n",
       "<style scoped>\n",
       "    .dataframe tbody tr th:only-of-type {\n",
       "        vertical-align: middle;\n",
       "    }\n",
       "\n",
       "    .dataframe tbody tr th {\n",
       "        vertical-align: top;\n",
       "    }\n",
       "\n",
       "    .dataframe thead th {\n",
       "        text-align: right;\n",
       "    }\n",
       "</style>\n",
       "<table border=\"1\" class=\"dataframe\">\n",
       "  <thead>\n",
       "    <tr style=\"text-align: right;\">\n",
       "      <th></th>\n",
       "      <th>일시</th>\n",
       "      <th>대여소번호</th>\n",
       "      <th>대여소명</th>\n",
       "      <th>시간대</th>\n",
       "      <th>거치대수량</th>\n",
       "    </tr>\n",
       "  </thead>\n",
       "  <tbody>\n",
       "    <tr>\n",
       "      <th>0</th>\n",
       "      <td>2024-06-01</td>\n",
       "      <td>101</td>\n",
       "      <td>101. (구)합정동 주민센터</td>\n",
       "      <td>0</td>\n",
       "      <td>0</td>\n",
       "    </tr>\n",
       "    <tr>\n",
       "      <th>1</th>\n",
       "      <td>2024-06-01</td>\n",
       "      <td>102</td>\n",
       "      <td>102. 망원역 1번출구 앞</td>\n",
       "      <td>0</td>\n",
       "      <td>24</td>\n",
       "    </tr>\n",
       "    <tr>\n",
       "      <th>2</th>\n",
       "      <td>2024-06-01</td>\n",
       "      <td>103</td>\n",
       "      <td>103. 망원역 2번출구 앞</td>\n",
       "      <td>0</td>\n",
       "      <td>18</td>\n",
       "    </tr>\n",
       "    <tr>\n",
       "      <th>3</th>\n",
       "      <td>2024-06-01</td>\n",
       "      <td>104</td>\n",
       "      <td>104. 합정역 1번출구 앞</td>\n",
       "      <td>0</td>\n",
       "      <td>1</td>\n",
       "    </tr>\n",
       "    <tr>\n",
       "      <th>4</th>\n",
       "      <td>2024-06-01</td>\n",
       "      <td>105</td>\n",
       "      <td>105. 합정역 5번출구 앞</td>\n",
       "      <td>0</td>\n",
       "      <td>2</td>\n",
       "    </tr>\n",
       "  </tbody>\n",
       "</table>\n",
       "</div>"
      ],
      "text/plain": [
       "           일시  대여소번호              대여소명  시간대  거치대수량\n",
       "0  2024-06-01    101  101. (구)합정동 주민센터    0      0\n",
       "1  2024-06-01    102   102. 망원역 1번출구 앞    0     24\n",
       "2  2024-06-01    103   103. 망원역 2번출구 앞    0     18\n",
       "3  2024-06-01    104   104. 합정역 1번출구 앞    0      1\n",
       "4  2024-06-01    105   105. 합정역 5번출구 앞    0      2"
      ]
     },
     "execution_count": 197,
     "metadata": {},
     "output_type": "execute_result"
    }
   ],
   "source": [
    "data.head()"
   ]
  },
  {
   "cell_type": "code",
   "execution_count": 199,
   "id": "d03502b0-935f-4305-9109-899a6105793d",
   "metadata": {},
   "outputs": [
    {
     "data": {
      "text/plain": [
       "(2107400, 5)"
      ]
     },
     "execution_count": 199,
     "metadata": {},
     "output_type": "execute_result"
    }
   ],
   "source": [
    "data.shape"
   ]
  },
  {
   "cell_type": "code",
   "execution_count": 201,
   "id": "7c287767-4f6e-40c0-9263-52063ffaefa3",
   "metadata": {},
   "outputs": [
    {
     "name": "stdout",
     "output_type": "stream",
     "text": [
      "<class 'pandas.core.frame.DataFrame'>\n",
      "RangeIndex: 2107400 entries, 0 to 2107399\n",
      "Data columns (total 5 columns):\n",
      " #   Column  Dtype \n",
      "---  ------  ----- \n",
      " 0   일시      object\n",
      " 1   대여소번호   int64 \n",
      " 2   대여소명    object\n",
      " 3   시간대     int64 \n",
      " 4   거치대수량   int64 \n",
      "dtypes: int64(3), object(2)\n",
      "memory usage: 80.4+ MB\n"
     ]
    }
   ],
   "source": [
    "data.info()"
   ]
  },
  {
   "cell_type": "code",
   "execution_count": 186,
   "id": "2b8cc048-9608-4e58-999a-65856f133ef9",
   "metadata": {},
   "outputs": [
    {
     "data": {
      "text/html": [
       "<div>\n",
       "<style scoped>\n",
       "    .dataframe tbody tr th:only-of-type {\n",
       "        vertical-align: middle;\n",
       "    }\n",
       "\n",
       "    .dataframe tbody tr th {\n",
       "        vertical-align: top;\n",
       "    }\n",
       "\n",
       "    .dataframe thead th {\n",
       "        text-align: right;\n",
       "    }\n",
       "</style>\n",
       "<table border=\"1\" class=\"dataframe\">\n",
       "  <thead>\n",
       "    <tr style=\"text-align: right;\">\n",
       "      <th></th>\n",
       "      <th>일시</th>\n",
       "      <th>대여소번호</th>\n",
       "      <th>대여소명</th>\n",
       "      <th>시간대</th>\n",
       "      <th>거치대수량</th>\n",
       "    </tr>\n",
       "  </thead>\n",
       "  <tbody>\n",
       "    <tr>\n",
       "      <th>30920</th>\n",
       "      <td>2024-06-01</td>\n",
       "      <td>101</td>\n",
       "      <td>101. (구)합정동 주민센터</td>\n",
       "      <td>12</td>\n",
       "      <td>0</td>\n",
       "    </tr>\n",
       "    <tr>\n",
       "      <th>30921</th>\n",
       "      <td>2024-06-01</td>\n",
       "      <td>102</td>\n",
       "      <td>102. 망원역 1번출구 앞</td>\n",
       "      <td>12</td>\n",
       "      <td>24</td>\n",
       "    </tr>\n",
       "    <tr>\n",
       "      <th>30922</th>\n",
       "      <td>2024-06-01</td>\n",
       "      <td>103</td>\n",
       "      <td>103. 망원역 2번출구 앞</td>\n",
       "      <td>12</td>\n",
       "      <td>17</td>\n",
       "    </tr>\n",
       "    <tr>\n",
       "      <th>30923</th>\n",
       "      <td>2024-06-01</td>\n",
       "      <td>104</td>\n",
       "      <td>104. 합정역 1번출구 앞</td>\n",
       "      <td>12</td>\n",
       "      <td>15</td>\n",
       "    </tr>\n",
       "    <tr>\n",
       "      <th>30924</th>\n",
       "      <td>2024-06-01</td>\n",
       "      <td>105</td>\n",
       "      <td>105. 합정역 5번출구 앞</td>\n",
       "      <td>12</td>\n",
       "      <td>1</td>\n",
       "    </tr>\n",
       "    <tr>\n",
       "      <th>...</th>\n",
       "      <td>...</td>\n",
       "      <td>...</td>\n",
       "      <td>...</td>\n",
       "      <td>...</td>\n",
       "      <td>...</td>\n",
       "    </tr>\n",
       "    <tr>\n",
       "      <th>2073350</th>\n",
       "      <td>2024-06-30</td>\n",
       "      <td>6058</td>\n",
       "      <td>6058. 서울도시건축전시관 옆</td>\n",
       "      <td>12</td>\n",
       "      <td>0</td>\n",
       "    </tr>\n",
       "    <tr>\n",
       "      <th>2073351</th>\n",
       "      <td>2024-06-30</td>\n",
       "      <td>6059</td>\n",
       "      <td>6059. 덕수중학교</td>\n",
       "      <td>12</td>\n",
       "      <td>0</td>\n",
       "    </tr>\n",
       "    <tr>\n",
       "      <th>2073352</th>\n",
       "      <td>2024-06-30</td>\n",
       "      <td>6171</td>\n",
       "      <td>6171. 월드빌딩 앞</td>\n",
       "      <td>12</td>\n",
       "      <td>13</td>\n",
       "    </tr>\n",
       "    <tr>\n",
       "      <th>2073353</th>\n",
       "      <td>2024-06-30</td>\n",
       "      <td>6172</td>\n",
       "      <td>6172. 가양5단지아파트</td>\n",
       "      <td>12</td>\n",
       "      <td>6</td>\n",
       "    </tr>\n",
       "    <tr>\n",
       "      <th>2073354</th>\n",
       "      <td>2024-06-30</td>\n",
       "      <td>6173</td>\n",
       "      <td>6173. 서울자동차운전전문학원</td>\n",
       "      <td>12</td>\n",
       "      <td>2</td>\n",
       "    </tr>\n",
       "  </tbody>\n",
       "</table>\n",
       "<p>89472 rows × 5 columns</p>\n",
       "</div>"
      ],
      "text/plain": [
       "                 일시  대여소번호               대여소명  시간대  거치대수량\n",
       "30920    2024-06-01    101   101. (구)합정동 주민센터   12      0\n",
       "30921    2024-06-01    102    102. 망원역 1번출구 앞   12     24\n",
       "30922    2024-06-01    103    103. 망원역 2번출구 앞   12     17\n",
       "30923    2024-06-01    104    104. 합정역 1번출구 앞   12     15\n",
       "30924    2024-06-01    105    105. 합정역 5번출구 앞   12      1\n",
       "...             ...    ...                ...  ...    ...\n",
       "2073350  2024-06-30   6058  6058. 서울도시건축전시관 옆   12      0\n",
       "2073351  2024-06-30   6059        6059. 덕수중학교   12      0\n",
       "2073352  2024-06-30   6171       6171. 월드빌딩 앞   12     13\n",
       "2073353  2024-06-30   6172     6172. 가양5단지아파트   12      6\n",
       "2073354  2024-06-30   6173  6173. 서울자동차운전전문학원   12      2\n",
       "\n",
       "[89472 rows x 5 columns]"
      ]
     },
     "execution_count": 186,
     "metadata": {},
     "output_type": "execute_result"
    }
   ],
   "source": [
    "data[data[\"시간대\"] == 12]"
   ]
  },
  {
   "cell_type": "code",
   "execution_count": 191,
   "id": "ec967930-a975-454c-83d2-2f9e3014c1eb",
   "metadata": {},
   "outputs": [
    {
     "data": {
      "text/plain": [
       "일시       0\n",
       "대여소번호    0\n",
       "대여소명     0\n",
       "시간대      0\n",
       "거치대수량    0\n",
       "dtype: int64"
      ]
     },
     "execution_count": 191,
     "metadata": {},
     "output_type": "execute_result"
    }
   ],
   "source": [
    "data.isnull().sum()"
   ]
  },
  {
   "cell_type": "code",
   "execution_count": 193,
   "id": "afed2f46-5032-43b9-9391-7c981c11b702",
   "metadata": {},
   "outputs": [
    {
     "data": {
      "text/plain": [
       "array(['2024-06-01', '2024-06-02', '2024-06-03', '2024-06-04',\n",
       "       '2024-06-05', '2024-06-06', '2024-06-07', '2024-06-08',\n",
       "       '2024-06-09', '2024-06-10', '2024-06-11', '2024-06-12',\n",
       "       '2024-06-13', '2024-06-14', '2024-06-15', '2024-06-16',\n",
       "       '2024-06-17', '2024-06-18', '2024-06-19', '2024-06-20',\n",
       "       '2024-06-21', '2024-06-22', '2024-06-23', '2024-06-24',\n",
       "       '2024-06-25', '2024-06-26', '2024-06-27', '2024-06-28',\n",
       "       '2024-06-29', '2024-06-30'], dtype=object)"
      ]
     },
     "execution_count": 193,
     "metadata": {},
     "output_type": "execute_result"
    }
   ],
   "source": [
    "data[\"일시\"].unique()"
   ]
  },
  {
   "cell_type": "code",
   "execution_count": 195,
   "id": "caa3d916-1400-451b-9054-85aeea68042b",
   "metadata": {},
   "outputs": [
    {
     "data": {
      "text/plain": [
       "array([ 0,  1,  2,  3,  4,  6,  7,  8,  9, 10, 12, 13, 14, 15, 16, 17, 18,\n",
       "       19, 20, 21, 22, 23, 11], dtype=int64)"
      ]
     },
     "execution_count": 195,
     "metadata": {},
     "output_type": "execute_result"
    }
   ],
   "source": [
    "data[\"시간대\"].unique()"
   ]
  },
  {
   "cell_type": "markdown",
   "id": "e20ce443-a499-4179-b5d3-a356234af88f",
   "metadata": {},
   "source": [
    "## 대여소별 공공자전거 대여가능 + 자치구 매핑"
   ]
  },
  {
   "cell_type": "code",
   "execution_count": 204,
   "id": "ac9c0b56-0e7f-4dba-9c90-e21500fff0af",
   "metadata": {},
   "outputs": [
    {
     "name": "stdout",
     "output_type": "stream",
     "text": [
      "이미 존재합니다: ./data/working/대여소별_대여가능_수량_1시간단위_w_자치구.csv\n"
     ]
    }
   ],
   "source": [
    "mapping = data_gu.set_index(\"RENT_NO\")[\"STA_LOC\"].to_dict()\n",
    "\n",
    "# data_merged\n",
    "data_merged = data.copy()\n",
    "data_merged[\"대여소번호\"] = data_merged[\"대여소번호\"].astype(int)\n",
    "data_merged[\"대여소자치구\"] = data_merged[\"대여소번호\"].map(mapping)\n",
    "\n",
    "# 컬럼 순서 변경\n",
    "data_merged = data_merged[[\"일시\", \"대여소번호\", \"대여소명\", \"대여소자치구\", \"시간대\", \"거치대수량\"]]\n",
    "\n",
    "# CSV 저장\n",
    "output = \"./data/working/대여소별_대여가능_수량_1시간단위_w_자치구.csv\"\n",
    "\n",
    "if os.path.exists(output):\n",
    "    print(f\"이미 존재합니다: {output}\")\n",
    "else:\n",
    "    data_merged.to_csv(output, index=False, encoding=\"utf-8-sig\")\n",
    "    print(f\"저장 완료: {output}\")"
   ]
  },
  {
   "cell_type": "code",
   "execution_count": 206,
   "id": "3e8b8a6f-9678-4e2a-8be1-e47ed57356c3",
   "metadata": {},
   "outputs": [
    {
     "data": {
      "text/html": [
       "<div>\n",
       "<style scoped>\n",
       "    .dataframe tbody tr th:only-of-type {\n",
       "        vertical-align: middle;\n",
       "    }\n",
       "\n",
       "    .dataframe tbody tr th {\n",
       "        vertical-align: top;\n",
       "    }\n",
       "\n",
       "    .dataframe thead th {\n",
       "        text-align: right;\n",
       "    }\n",
       "</style>\n",
       "<table border=\"1\" class=\"dataframe\">\n",
       "  <thead>\n",
       "    <tr style=\"text-align: right;\">\n",
       "      <th></th>\n",
       "      <th>일시</th>\n",
       "      <th>대여소번호</th>\n",
       "      <th>대여소명</th>\n",
       "      <th>대여소자치구</th>\n",
       "      <th>시간대</th>\n",
       "      <th>거치대수량</th>\n",
       "    </tr>\n",
       "  </thead>\n",
       "  <tbody>\n",
       "    <tr>\n",
       "      <th>0</th>\n",
       "      <td>2024-06-01</td>\n",
       "      <td>101</td>\n",
       "      <td>101. (구)합정동 주민센터</td>\n",
       "      <td>마포구</td>\n",
       "      <td>0</td>\n",
       "      <td>0</td>\n",
       "    </tr>\n",
       "    <tr>\n",
       "      <th>1</th>\n",
       "      <td>2024-06-01</td>\n",
       "      <td>102</td>\n",
       "      <td>102. 망원역 1번출구 앞</td>\n",
       "      <td>마포구</td>\n",
       "      <td>0</td>\n",
       "      <td>24</td>\n",
       "    </tr>\n",
       "    <tr>\n",
       "      <th>2</th>\n",
       "      <td>2024-06-01</td>\n",
       "      <td>103</td>\n",
       "      <td>103. 망원역 2번출구 앞</td>\n",
       "      <td>마포구</td>\n",
       "      <td>0</td>\n",
       "      <td>18</td>\n",
       "    </tr>\n",
       "    <tr>\n",
       "      <th>3</th>\n",
       "      <td>2024-06-01</td>\n",
       "      <td>104</td>\n",
       "      <td>104. 합정역 1번출구 앞</td>\n",
       "      <td>마포구</td>\n",
       "      <td>0</td>\n",
       "      <td>1</td>\n",
       "    </tr>\n",
       "    <tr>\n",
       "      <th>4</th>\n",
       "      <td>2024-06-01</td>\n",
       "      <td>105</td>\n",
       "      <td>105. 합정역 5번출구 앞</td>\n",
       "      <td>마포구</td>\n",
       "      <td>0</td>\n",
       "      <td>2</td>\n",
       "    </tr>\n",
       "  </tbody>\n",
       "</table>\n",
       "</div>"
      ],
      "text/plain": [
       "           일시  대여소번호              대여소명 대여소자치구  시간대  거치대수량\n",
       "0  2024-06-01    101  101. (구)합정동 주민센터    마포구    0      0\n",
       "1  2024-06-01    102   102. 망원역 1번출구 앞    마포구    0     24\n",
       "2  2024-06-01    103   103. 망원역 2번출구 앞    마포구    0     18\n",
       "3  2024-06-01    104   104. 합정역 1번출구 앞    마포구    0      1\n",
       "4  2024-06-01    105   105. 합정역 5번출구 앞    마포구    0      2"
      ]
     },
     "execution_count": 206,
     "metadata": {},
     "output_type": "execute_result"
    }
   ],
   "source": [
    "data_merged.head()"
   ]
  },
  {
   "cell_type": "code",
   "execution_count": 208,
   "id": "646964c9-9213-4bfb-ad52-94082d97cace",
   "metadata": {},
   "outputs": [
    {
     "data": {
      "text/html": [
       "<div>\n",
       "<style scoped>\n",
       "    .dataframe tbody tr th:only-of-type {\n",
       "        vertical-align: middle;\n",
       "    }\n",
       "\n",
       "    .dataframe tbody tr th {\n",
       "        vertical-align: top;\n",
       "    }\n",
       "\n",
       "    .dataframe thead th {\n",
       "        text-align: right;\n",
       "    }\n",
       "</style>\n",
       "<table border=\"1\" class=\"dataframe\">\n",
       "  <thead>\n",
       "    <tr style=\"text-align: right;\">\n",
       "      <th></th>\n",
       "      <th>일시</th>\n",
       "      <th>대여소번호</th>\n",
       "      <th>대여소명</th>\n",
       "      <th>대여소자치구</th>\n",
       "      <th>시간대</th>\n",
       "      <th>거치대수량</th>\n",
       "    </tr>\n",
       "  </thead>\n",
       "  <tbody>\n",
       "    <tr>\n",
       "      <th>2107395</th>\n",
       "      <td>2024-06-30</td>\n",
       "      <td>6058</td>\n",
       "      <td>6058. 서울도시건축전시관 옆</td>\n",
       "      <td>중구</td>\n",
       "      <td>23</td>\n",
       "      <td>2</td>\n",
       "    </tr>\n",
       "    <tr>\n",
       "      <th>2107396</th>\n",
       "      <td>2024-06-30</td>\n",
       "      <td>6059</td>\n",
       "      <td>6059. 덕수중학교</td>\n",
       "      <td>중구</td>\n",
       "      <td>23</td>\n",
       "      <td>1</td>\n",
       "    </tr>\n",
       "    <tr>\n",
       "      <th>2107397</th>\n",
       "      <td>2024-06-30</td>\n",
       "      <td>6171</td>\n",
       "      <td>6171. 월드빌딩 앞</td>\n",
       "      <td>강서구</td>\n",
       "      <td>23</td>\n",
       "      <td>7</td>\n",
       "    </tr>\n",
       "    <tr>\n",
       "      <th>2107398</th>\n",
       "      <td>2024-06-30</td>\n",
       "      <td>6172</td>\n",
       "      <td>6172. 가양5단지아파트</td>\n",
       "      <td>강서구</td>\n",
       "      <td>23</td>\n",
       "      <td>7</td>\n",
       "    </tr>\n",
       "    <tr>\n",
       "      <th>2107399</th>\n",
       "      <td>2024-06-30</td>\n",
       "      <td>6173</td>\n",
       "      <td>6173. 서울자동차운전전문학원</td>\n",
       "      <td>강서구</td>\n",
       "      <td>23</td>\n",
       "      <td>2</td>\n",
       "    </tr>\n",
       "  </tbody>\n",
       "</table>\n",
       "</div>"
      ],
      "text/plain": [
       "                 일시  대여소번호               대여소명 대여소자치구  시간대  거치대수량\n",
       "2107395  2024-06-30   6058  6058. 서울도시건축전시관 옆     중구   23      2\n",
       "2107396  2024-06-30   6059        6059. 덕수중학교     중구   23      1\n",
       "2107397  2024-06-30   6171       6171. 월드빌딩 앞    강서구   23      7\n",
       "2107398  2024-06-30   6172     6172. 가양5단지아파트    강서구   23      7\n",
       "2107399  2024-06-30   6173  6173. 서울자동차운전전문학원    강서구   23      2"
      ]
     },
     "execution_count": 208,
     "metadata": {},
     "output_type": "execute_result"
    }
   ],
   "source": [
    "data_merged.tail()"
   ]
  },
  {
   "cell_type": "code",
   "execution_count": 210,
   "id": "ca36a93c-b7ab-4637-bebd-174133f0ed77",
   "metadata": {},
   "outputs": [
    {
     "data": {
      "text/plain": [
       "(2107400, 6)"
      ]
     },
     "execution_count": 210,
     "metadata": {},
     "output_type": "execute_result"
    }
   ],
   "source": [
    "data_merged.shape"
   ]
  },
  {
   "cell_type": "code",
   "execution_count": 212,
   "id": "01950314-402f-4d70-a8e8-3003bb0a8b21",
   "metadata": {},
   "outputs": [
    {
     "name": "stdout",
     "output_type": "stream",
     "text": [
      "<class 'pandas.core.frame.DataFrame'>\n",
      "RangeIndex: 2107400 entries, 0 to 2107399\n",
      "Data columns (total 6 columns):\n",
      " #   Column  Dtype \n",
      "---  ------  ----- \n",
      " 0   일시      object\n",
      " 1   대여소번호   int32 \n",
      " 2   대여소명    object\n",
      " 3   대여소자치구  object\n",
      " 4   시간대     int64 \n",
      " 5   거치대수량   int64 \n",
      "dtypes: int32(1), int64(2), object(3)\n",
      "memory usage: 88.4+ MB\n"
     ]
    }
   ],
   "source": [
    "data_merged.info()"
   ]
  },
  {
   "cell_type": "code",
   "execution_count": 225,
   "id": "e90ca7ab-9992-4fd7-bc67-7cc36a585c04",
   "metadata": {},
   "outputs": [
    {
     "data": {
      "text/plain": [
       "일시          0\n",
       "대여소번호       0\n",
       "대여소명        0\n",
       "대여소자치구    679\n",
       "시간대         0\n",
       "거치대수량       0\n",
       "dtype: int64"
      ]
     },
     "execution_count": 225,
     "metadata": {},
     "output_type": "execute_result"
    }
   ],
   "source": [
    "data_merged.isnull().sum()"
   ]
  },
  {
   "cell_type": "code",
   "execution_count": 227,
   "id": "bb67f5ce-8b77-4582-82d1-b78b2cb2d51f",
   "metadata": {},
   "outputs": [
    {
     "data": {
      "text/plain": [
       "array([ 0,  1,  2,  3,  4,  6,  7,  8,  9, 10, 12, 13, 14, 15, 16, 17, 18,\n",
       "       19, 20, 21, 22, 23, 11], dtype=int64)"
      ]
     },
     "execution_count": 227,
     "metadata": {},
     "output_type": "execute_result"
    }
   ],
   "source": [
    "data_merged[\"시간대\"].unique()"
   ]
  },
  {
   "cell_type": "code",
   "execution_count": 214,
   "id": "4f8d3997-390f-438a-9b98-c83a59fe4e60",
   "metadata": {},
   "outputs": [],
   "source": [
    "# 매핑 안 된 값\n",
    "missing = data_merged[data_merged[\"대여소자치구\"].isna()][\"대여소번호\"].unique()"
   ]
  },
  {
   "cell_type": "code",
   "execution_count": 216,
   "id": "83ffa752-9bba-4e6c-a31b-5e83b1628a8d",
   "metadata": {},
   "outputs": [
    {
     "name": "stdout",
     "output_type": "stream",
     "text": [
      "매핑되지 않은 대여소번호 개수: 1\n",
      "[3787]\n"
     ]
    }
   ],
   "source": [
    "print(f\"매핑되지 않은 대여소번호 개수: {len(missing)}\")\n",
    "print(missing[:10])"
   ]
  },
  {
   "cell_type": "code",
   "execution_count": 218,
   "id": "f40540f6-234e-4b68-a109-6426330dde52",
   "metadata": {},
   "outputs": [],
   "source": [
    "missing_rows = data_merged[data_merged[\"대여소자치구\"].isna()]"
   ]
  },
  {
   "cell_type": "code",
   "execution_count": 221,
   "id": "79bafac0-527f-417e-8892-4e32b7645ea9",
   "metadata": {},
   "outputs": [
    {
     "data": {
      "text/html": [
       "<div>\n",
       "<style scoped>\n",
       "    .dataframe tbody tr th:only-of-type {\n",
       "        vertical-align: middle;\n",
       "    }\n",
       "\n",
       "    .dataframe tbody tr th {\n",
       "        vertical-align: top;\n",
       "    }\n",
       "\n",
       "    .dataframe thead th {\n",
       "        text-align: right;\n",
       "    }\n",
       "</style>\n",
       "<table border=\"1\" class=\"dataframe\">\n",
       "  <thead>\n",
       "    <tr style=\"text-align: right;\">\n",
       "      <th></th>\n",
       "      <th>일시</th>\n",
       "      <th>대여소번호</th>\n",
       "      <th>대여소명</th>\n",
       "      <th>대여소자치구</th>\n",
       "      <th>시간대</th>\n",
       "      <th>거치대수량</th>\n",
       "    </tr>\n",
       "  </thead>\n",
       "  <tbody>\n",
       "    <tr>\n",
       "      <th>2345</th>\n",
       "      <td>2024-06-01</td>\n",
       "      <td>3787</td>\n",
       "      <td>3787. 가양나들목</td>\n",
       "      <td>NaN</td>\n",
       "      <td>0</td>\n",
       "      <td>14</td>\n",
       "    </tr>\n",
       "    <tr>\n",
       "      <th>5437</th>\n",
       "      <td>2024-06-01</td>\n",
       "      <td>3787</td>\n",
       "      <td>3787. 가양나들목</td>\n",
       "      <td>NaN</td>\n",
       "      <td>1</td>\n",
       "      <td>14</td>\n",
       "    </tr>\n",
       "    <tr>\n",
       "      <th>8529</th>\n",
       "      <td>2024-06-01</td>\n",
       "      <td>3787</td>\n",
       "      <td>3787. 가양나들목</td>\n",
       "      <td>NaN</td>\n",
       "      <td>2</td>\n",
       "      <td>14</td>\n",
       "    </tr>\n",
       "    <tr>\n",
       "      <th>11621</th>\n",
       "      <td>2024-06-01</td>\n",
       "      <td>3787</td>\n",
       "      <td>3787. 가양나들목</td>\n",
       "      <td>NaN</td>\n",
       "      <td>3</td>\n",
       "      <td>14</td>\n",
       "    </tr>\n",
       "    <tr>\n",
       "      <th>14713</th>\n",
       "      <td>2024-06-01</td>\n",
       "      <td>3787</td>\n",
       "      <td>3787. 가양나들목</td>\n",
       "      <td>NaN</td>\n",
       "      <td>4</td>\n",
       "      <td>14</td>\n",
       "    </tr>\n",
       "  </tbody>\n",
       "</table>\n",
       "</div>"
      ],
      "text/plain": [
       "               일시  대여소번호         대여소명 대여소자치구  시간대  거치대수량\n",
       "2345   2024-06-01   3787  3787. 가양나들목    NaN    0     14\n",
       "5437   2024-06-01   3787  3787. 가양나들목    NaN    1     14\n",
       "8529   2024-06-01   3787  3787. 가양나들목    NaN    2     14\n",
       "11621  2024-06-01   3787  3787. 가양나들목    NaN    3     14\n",
       "14713  2024-06-01   3787  3787. 가양나들목    NaN    4     14"
      ]
     },
     "execution_count": 221,
     "metadata": {},
     "output_type": "execute_result"
    }
   ],
   "source": [
    "missing_rows.head()"
   ]
  },
  {
   "cell_type": "code",
   "execution_count": 223,
   "id": "9099d936-16f8-4674-a751-49c601272c41",
   "metadata": {},
   "outputs": [
    {
     "data": {
      "text/plain": [
       "(679, 6)"
      ]
     },
     "execution_count": 223,
     "metadata": {},
     "output_type": "execute_result"
    }
   ],
   "source": [
    "missing_rows.shape"
   ]
  },
  {
   "cell_type": "code",
   "execution_count": null,
   "id": "14c5e458-8f02-4a93-9c1e-1f041048f313",
   "metadata": {},
   "outputs": [],
   "source": []
  }
 ],
 "metadata": {
  "kernelspec": {
   "display_name": "Python [conda env:base] *",
   "language": "python",
   "name": "conda-base-py"
  },
  "language_info": {
   "codemirror_mode": {
    "name": "ipython",
    "version": 3
   },
   "file_extension": ".py",
   "mimetype": "text/x-python",
   "name": "python",
   "nbconvert_exporter": "python",
   "pygments_lexer": "ipython3",
   "version": "3.12.7"
  }
 },
 "nbformat": 4,
 "nbformat_minor": 5
}
