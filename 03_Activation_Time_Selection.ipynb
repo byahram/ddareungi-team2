{
 "cells": [
  {
   "cell_type": "code",
   "execution_count": 37,
   "id": "32a48932-f89d-4c2d-9aaf-1731346e4167",
   "metadata": {
    "id": "32a48932-f89d-4c2d-9aaf-1731346e4167"
   },
   "outputs": [],
   "source": [
    "import pandas as pd\n",
    "import matplotlib.pyplot as plt\n",
    "import numpy as np\n",
    "import matplotlib.font_manager as fm\n",
    "import os\n",
    "\n",
    "# 기본 한글 폰트 설정 (시각화 한글 깨짐 방지)\n",
    "plt.rcParams['font.family'] = 'Malgun Gothic'\n",
    "# 마이너스 깨짐 방지\n",
    "plt.rcParams['axes.unicode_minus'] = False\n",
    "\n",
    "CAPTURE_DIR = \"./captures\"\n",
    "os.makedirs(CAPTURE_DIR, exist_ok=True)"
   ]
  },
  {
   "cell_type": "code",
   "execution_count": 2,
   "id": "8863ed44-9ee6-4961-a8ad-0f13779c709a",
   "metadata": {
    "id": "8863ed44-9ee6-4961-a8ad-0f13779c709a"
   },
   "outputs": [],
   "source": [
    "df = pd.read_csv(\"./data/working/tpss_bcycl_od_statnhm_202406_통합_w_자치구.csv\")"
   ]
  },
  {
   "cell_type": "code",
   "execution_count": 3,
   "id": "643e5285-b7d8-4c9f-bf76-decd86e7a6fb",
   "metadata": {
    "id": "643e5285-b7d8-4c9f-bf76-decd86e7a6fb",
    "outputId": "90e5e338-e8a6-488c-ee7a-ebf580e8b22c"
   },
   "outputs": [
    {
     "data": {
      "text/html": [
       "<div>\n",
       "<style scoped>\n",
       "    .dataframe tbody tr th:only-of-type {\n",
       "        vertical-align: middle;\n",
       "    }\n",
       "\n",
       "    .dataframe tbody tr th {\n",
       "        vertical-align: top;\n",
       "    }\n",
       "\n",
       "    .dataframe thead th {\n",
       "        text-align: right;\n",
       "    }\n",
       "</style>\n",
       "<table border=\"1\" class=\"dataframe\">\n",
       "  <thead>\n",
       "    <tr style=\"text-align: right;\">\n",
       "      <th></th>\n",
       "      <th>기준_날짜</th>\n",
       "      <th>집계_기준</th>\n",
       "      <th>기준_시간대</th>\n",
       "      <th>시작_대여소_ID</th>\n",
       "      <th>시작_대여소명</th>\n",
       "      <th>시작_대여소_자치구</th>\n",
       "      <th>종료_대여소_ID</th>\n",
       "      <th>종료_대여소명</th>\n",
       "      <th>종료_대여소_자치구</th>\n",
       "      <th>전체_건수</th>\n",
       "      <th>전체_이용_분</th>\n",
       "      <th>전체_이용_거리</th>\n",
       "    </tr>\n",
       "  </thead>\n",
       "  <tbody>\n",
       "    <tr>\n",
       "      <th>0</th>\n",
       "      <td>20240601</td>\n",
       "      <td>출발시간</td>\n",
       "      <td>0</td>\n",
       "      <td>ST-1002</td>\n",
       "      <td>목1동_004_1</td>\n",
       "      <td>양천구</td>\n",
       "      <td>ST-1017</td>\n",
       "      <td>목5동_059_1</td>\n",
       "      <td>양천구</td>\n",
       "      <td>1</td>\n",
       "      <td>8.0</td>\n",
       "      <td>870.0</td>\n",
       "    </tr>\n",
       "    <tr>\n",
       "      <th>1</th>\n",
       "      <td>20240601</td>\n",
       "      <td>출발시간</td>\n",
       "      <td>0</td>\n",
       "      <td>ST-1015</td>\n",
       "      <td>목5동_001_1</td>\n",
       "      <td>양천구</td>\n",
       "      <td>ST-997</td>\n",
       "      <td>목4동_021_1</td>\n",
       "      <td>양천구</td>\n",
       "      <td>1</td>\n",
       "      <td>10.0</td>\n",
       "      <td>1552.0</td>\n",
       "    </tr>\n",
       "    <tr>\n",
       "      <th>2</th>\n",
       "      <td>20240601</td>\n",
       "      <td>출발시간</td>\n",
       "      <td>0</td>\n",
       "      <td>ST-1036</td>\n",
       "      <td>역촌동_001_1</td>\n",
       "      <td>은평구</td>\n",
       "      <td>ST-1035</td>\n",
       "      <td>불광2동_021_1</td>\n",
       "      <td>은평구</td>\n",
       "      <td>1</td>\n",
       "      <td>42.0</td>\n",
       "      <td>4980.0</td>\n",
       "    </tr>\n",
       "    <tr>\n",
       "      <th>3</th>\n",
       "      <td>20240601</td>\n",
       "      <td>출발시간</td>\n",
       "      <td>0</td>\n",
       "      <td>ST-1045</td>\n",
       "      <td>성내2동_007_1</td>\n",
       "      <td>강동구</td>\n",
       "      <td>ST-1580</td>\n",
       "      <td>오륜동_001_3</td>\n",
       "      <td>송파구</td>\n",
       "      <td>1</td>\n",
       "      <td>8.0</td>\n",
       "      <td>1923.0</td>\n",
       "    </tr>\n",
       "    <tr>\n",
       "      <th>4</th>\n",
       "      <td>20240601</td>\n",
       "      <td>출발시간</td>\n",
       "      <td>0</td>\n",
       "      <td>ST-1047</td>\n",
       "      <td>성내1동_023_1</td>\n",
       "      <td>강동구</td>\n",
       "      <td>ST-488</td>\n",
       "      <td>암사1동_044_1</td>\n",
       "      <td>강동구</td>\n",
       "      <td>1</td>\n",
       "      <td>18.0</td>\n",
       "      <td>3530.0</td>\n",
       "    </tr>\n",
       "  </tbody>\n",
       "</table>\n",
       "</div>"
      ],
      "text/plain": [
       "      기준_날짜 집계_기준  기준_시간대 시작_대여소_ID     시작_대여소명 시작_대여소_자치구 종료_대여소_ID  \\\n",
       "0  20240601  출발시간       0   ST-1002   목1동_004_1        양천구   ST-1017   \n",
       "1  20240601  출발시간       0   ST-1015   목5동_001_1        양천구    ST-997   \n",
       "2  20240601  출발시간       0   ST-1036   역촌동_001_1        은평구   ST-1035   \n",
       "3  20240601  출발시간       0   ST-1045  성내2동_007_1        강동구   ST-1580   \n",
       "4  20240601  출발시간       0   ST-1047  성내1동_023_1        강동구    ST-488   \n",
       "\n",
       "      종료_대여소명 종료_대여소_자치구  전체_건수  전체_이용_분  전체_이용_거리  \n",
       "0   목5동_059_1        양천구      1      8.0     870.0  \n",
       "1   목4동_021_1        양천구      1     10.0    1552.0  \n",
       "2  불광2동_021_1        은평구      1     42.0    4980.0  \n",
       "3   오륜동_001_3        송파구      1      8.0    1923.0  \n",
       "4  암사1동_044_1        강동구      1     18.0    3530.0  "
      ]
     },
     "execution_count": 3,
     "metadata": {},
     "output_type": "execute_result"
    }
   ],
   "source": [
    "df.head()"
   ]
  },
  {
   "cell_type": "code",
   "execution_count": 7,
   "id": "973a203e-4c7c-4acb-bd1a-b20d5cc88912",
   "metadata": {
    "id": "973a203e-4c7c-4acb-bd1a-b20d5cc88912",
    "outputId": "a324cb60-8bac-4f6f-8501-b4c15e4cc05a"
   },
   "outputs": [
    {
     "name": "stdout",
     "output_type": "stream",
     "text": [
      "<class 'pandas.core.frame.DataFrame'>\n",
      "RangeIndex: 8831528 entries, 0 to 8831527\n",
      "Data columns (total 12 columns):\n",
      " #   Column      Dtype  \n",
      "---  ------      -----  \n",
      " 0   기준_날짜       int64  \n",
      " 1   집계_기준       object \n",
      " 2   기준_시간대      int64  \n",
      " 3   시작_대여소_ID   object \n",
      " 4   시작_대여소명     object \n",
      " 5   시작_대여소_자치구  object \n",
      " 6   종료_대여소_ID   object \n",
      " 7   종료_대여소명     object \n",
      " 8   종료_대여소_자치구  object \n",
      " 9   전체_건수       int64  \n",
      " 10  전체_이용_분     float64\n",
      " 11  전체_이용_거리    float64\n",
      "dtypes: float64(2), int64(3), object(7)\n",
      "memory usage: 808.6+ MB\n"
     ]
    }
   ],
   "source": [
    "df.info()"
   ]
  },
  {
   "cell_type": "code",
   "execution_count": 9,
   "id": "bc4df65e-d8f6-4cc4-ae6e-4de77e67e944",
   "metadata": {
    "id": "bc4df65e-d8f6-4cc4-ae6e-4de77e67e944",
    "outputId": "310c5ba0-19a4-4438-9f9b-188c74f9239e"
   },
   "outputs": [
    {
     "data": {
      "text/plain": [
       "(8831528, 12)"
      ]
     },
     "execution_count": 9,
     "metadata": {},
     "output_type": "execute_result"
    }
   ],
   "source": [
    "df.shape"
   ]
  },
  {
   "cell_type": "code",
   "execution_count": 11,
   "id": "9ee4cea7-5784-4f87-bfad-712f5a63c66d",
   "metadata": {
    "id": "9ee4cea7-5784-4f87-bfad-712f5a63c66d"
   },
   "outputs": [],
   "source": [
    "# 이용량 파악을 위해서 집계_기준 == 출발시간만 추출\n",
    "df = df[df[\"집계_기준\"] == \"출발시간\"]"
   ]
  },
  {
   "cell_type": "code",
   "execution_count": 12,
   "id": "4e2623bd-50a1-41a4-8a70-4d07fdc43478",
   "metadata": {
    "id": "4e2623bd-50a1-41a4-8a70-4d07fdc43478",
    "outputId": "73514716-d549-4bca-b9b7-c77beb3b8968"
   },
   "outputs": [
    {
     "data": {
      "text/plain": [
       "(4428007, 12)"
      ]
     },
     "execution_count": 12,
     "metadata": {},
     "output_type": "execute_result"
    }
   ],
   "source": [
    "df.shape"
   ]
  },
  {
   "cell_type": "code",
   "execution_count": 15,
   "id": "6d4576da-e81c-4f2d-a07c-6ce9de543697",
   "metadata": {
    "id": "6d4576da-e81c-4f2d-a07c-6ce9de543697",
    "outputId": "33ff64ed-7a58-4e98-dd15-eb40b36f21a5"
   },
   "outputs": [
    {
     "data": {
      "text/plain": [
       "array([   0,    5,   10,   15,   20,   25,   30,   35,   40,   45,   50,\n",
       "         55,  100,  105,  110,  115,  120,  125,  130,  135,  140,  145,\n",
       "        150,  155,  200,  205,  210,  215,  220,  225,  230,  235,  240,\n",
       "        245,  250,  255,  300,  305,  310,  315,  320,  325,  330,  335,\n",
       "        340,  345,  350,  355,  400,  405,  410,  415,  420,  425,  430,\n",
       "        435,  440,  445,  450,  455,  500,  505,  510,  515,  520,  525,\n",
       "        530,  535,  540,  545,  550,  555,  600,  605,  610,  615,  620,\n",
       "        625,  630,  635,  640,  645,  650,  655,  700,  705,  710,  715,\n",
       "        720,  725,  730,  735,  740,  745,  750,  755,  800,  805,  810,\n",
       "        815,  820,  825,  830,  835,  840,  845,  850,  855,  900,  905,\n",
       "        910,  915,  920,  925,  930,  935,  940,  945,  950,  955, 1000,\n",
       "       1005, 1010, 1015, 1020, 1025, 1030, 1035, 1040, 1045, 1050, 1055,\n",
       "       1100, 1105, 1110, 1115, 1120, 1125, 1130, 1135, 1140, 1145, 1150,\n",
       "       1155, 1200, 1205, 1210, 1215, 1220, 1225, 1230, 1235, 1240, 1245,\n",
       "       1250, 1255, 1300, 1305, 1310, 1315, 1320, 1325, 1330, 1335, 1340,\n",
       "       1345, 1350, 1355, 1400, 1405, 1410, 1415, 1420, 1425, 1430, 1435,\n",
       "       1440, 1445, 1450, 1455, 1500, 1505, 1510, 1515, 1520, 1525, 1530,\n",
       "       1535, 1540, 1545, 1550, 1555, 1600, 1605, 1610, 1615, 1620, 1625,\n",
       "       1630, 1635, 1640, 1645, 1650, 1655, 1700, 1705, 1710, 1715, 1720,\n",
       "       1725, 1730, 1735, 1740, 1745, 1750, 1755, 1800, 1805, 1810, 1815,\n",
       "       1820, 1825, 1830, 1835, 1840, 1845, 1850, 1855, 1900, 1905, 1910,\n",
       "       1915, 1920, 1925, 1930, 1935, 1940, 1945, 1950, 1955, 2000, 2005,\n",
       "       2010, 2015, 2020, 2025, 2030, 2035, 2040, 2045, 2050, 2055, 2100,\n",
       "       2105, 2110, 2115, 2120, 2125, 2130, 2135, 2140, 2145, 2150, 2155,\n",
       "       2200, 2205, 2210, 2215, 2220, 2225, 2230, 2235, 2240, 2245, 2250,\n",
       "       2255, 2300, 2305, 2310, 2315, 2320, 2325, 2330, 2335, 2340, 2345,\n",
       "       2350, 2355], dtype=int64)"
      ]
     },
     "execution_count": 15,
     "metadata": {},
     "output_type": "execute_result"
    }
   ],
   "source": [
    "# 기준_시간대가 5분 단위로 집계됨\n",
    "df[\"기준_시간대\"].unique()"
   ]
  },
  {
   "cell_type": "markdown",
   "id": "d9fb5809-7a51-4865-95a5-886456f9691f",
   "metadata": {
    "id": "d9fb5809-7a51-4865-95a5-886456f9691f"
   },
   "source": [
    "# 시간대 별로 그룹화\n",
    "\n",
    "- 시간대를 1시간 단위로 그룹화 해서 1시간 마다의 이용량을 구함"
   ]
  },
  {
   "cell_type": "code",
   "execution_count": 18,
   "id": "d749db13-e87d-4bc9-8945-f9f1ab121627",
   "metadata": {
    "id": "d749db13-e87d-4bc9-8945-f9f1ab121627"
   },
   "outputs": [],
   "source": [
    "df[\"기준_월\"] = \"202406\"\n",
    "\n",
    "# 숫자형\n",
    "df[\"전체_건수\"]   = pd.to_numeric(df[\"전체_건수\"], errors=\"coerce\").fillna(0).astype(int)\n",
    "df[\"기준_시간대\"] = pd.to_numeric(df[\"기준_시간대\"], errors=\"coerce\").fillna(0).astype(int)\n",
    "\n",
    "# 기준_시간대_1시간 (0~23)\n",
    "df[\"기준_시간대_1시간\"] = df[\"기준_시간대\"] // 100\n",
    "df[\"기준_시간대_1시간\"] = df[\"기준_시간대_1시간\"].clip(0, 23)\n",
    "\n",
    "# 출발 > 시작_대여소_자치구, 도착 > 종료_대여소_자치구\n",
    "df[\"자치구\"] = df[\"시작_대여소_자치구\"]\n",
    "\n",
    "# 자치구 × 1시간 × 집계기준 그룹화\n",
    "grouped = (\n",
    "    df.groupby([\"기준_월\", \"기준_시간대_1시간\", \"자치구\"], as_index=False)[\"전체_건수\"]\n",
    "      .sum()\n",
    "      .sort_values([\"기준_월\", \"기준_시간대_1시간\", \"자치구\"])\n",
    ")"
   ]
  },
  {
   "cell_type": "code",
   "execution_count": 19,
   "id": "39f4f28f-2e66-4efa-b9f0-6e5bb5f06f78",
   "metadata": {
    "id": "39f4f28f-2e66-4efa-b9f0-6e5bb5f06f78",
    "outputId": "c2092bda-4d12-4e63-bf02-4200ee78e856"
   },
   "outputs": [
    {
     "data": {
      "text/html": [
       "<div>\n",
       "<style scoped>\n",
       "    .dataframe tbody tr th:only-of-type {\n",
       "        vertical-align: middle;\n",
       "    }\n",
       "\n",
       "    .dataframe tbody tr th {\n",
       "        vertical-align: top;\n",
       "    }\n",
       "\n",
       "    .dataframe thead th {\n",
       "        text-align: right;\n",
       "    }\n",
       "</style>\n",
       "<table border=\"1\" class=\"dataframe\">\n",
       "  <thead>\n",
       "    <tr style=\"text-align: right;\">\n",
       "      <th></th>\n",
       "      <th>기준_월</th>\n",
       "      <th>기준_시간대_1시간</th>\n",
       "      <th>자치구</th>\n",
       "      <th>전체_건수</th>\n",
       "    </tr>\n",
       "  </thead>\n",
       "  <tbody>\n",
       "    <tr>\n",
       "      <th>0</th>\n",
       "      <td>202406</td>\n",
       "      <td>0</td>\n",
       "      <td>강남구</td>\n",
       "      <td>3369</td>\n",
       "    </tr>\n",
       "    <tr>\n",
       "      <th>1</th>\n",
       "      <td>202406</td>\n",
       "      <td>0</td>\n",
       "      <td>강동구</td>\n",
       "      <td>4983</td>\n",
       "    </tr>\n",
       "    <tr>\n",
       "      <th>2</th>\n",
       "      <td>202406</td>\n",
       "      <td>0</td>\n",
       "      <td>강북구</td>\n",
       "      <td>2177</td>\n",
       "    </tr>\n",
       "    <tr>\n",
       "      <th>3</th>\n",
       "      <td>202406</td>\n",
       "      <td>0</td>\n",
       "      <td>강서구</td>\n",
       "      <td>9125</td>\n",
       "    </tr>\n",
       "    <tr>\n",
       "      <th>4</th>\n",
       "      <td>202406</td>\n",
       "      <td>0</td>\n",
       "      <td>관악구</td>\n",
       "      <td>3450</td>\n",
       "    </tr>\n",
       "  </tbody>\n",
       "</table>\n",
       "</div>"
      ],
      "text/plain": [
       "     기준_월  기준_시간대_1시간  자치구  전체_건수\n",
       "0  202406           0  강남구   3369\n",
       "1  202406           0  강동구   4983\n",
       "2  202406           0  강북구   2177\n",
       "3  202406           0  강서구   9125\n",
       "4  202406           0  관악구   3450"
      ]
     },
     "execution_count": 19,
     "metadata": {},
     "output_type": "execute_result"
    }
   ],
   "source": [
    "grouped.head()"
   ]
  },
  {
   "cell_type": "code",
   "execution_count": 22,
   "id": "b76f5d6f-5e4f-4917-af9c-3b8af058c50a",
   "metadata": {
    "id": "b76f5d6f-5e4f-4917-af9c-3b8af058c50a",
    "outputId": "70c79acd-294c-4c0e-832a-397d84e47d94"
   },
   "outputs": [
    {
     "data": {
      "text/plain": [
       "array([ 0,  1,  2,  3,  4,  5,  6,  7,  8,  9, 10, 11, 12, 13, 14, 15, 16,\n",
       "       17, 18, 19, 20, 21, 22, 23])"
      ]
     },
     "execution_count": 22,
     "metadata": {},
     "output_type": "execute_result"
    }
   ],
   "source": [
    "# 시간대가 (0 ~ 23)으로 나오는지 확인\n",
    "grouped[\"기준_시간대_1시간\"].unique()"
   ]
  },
  {
   "cell_type": "code",
   "execution_count": 24,
   "id": "483fec09-0a9b-4115-a6ac-a0045844bf6f",
   "metadata": {
    "id": "483fec09-0a9b-4115-a6ac-a0045844bf6f",
    "outputId": "5db8c4d4-4ea9-4e31-b9b2-12bef90c7f5f"
   },
   "outputs": [
    {
     "data": {
      "text/plain": [
       "array(['강남구', '강동구', '강북구', '강서구', '관악구', '광진구', '구로구', '금천구', '노원구',\n",
       "       '도봉구', '동대문구', '동작구', '마포구', '서대문구', '서초구', '성동구', '성북구', '송파구',\n",
       "       '양천구', '영등포구', '용산구', '은평구', '종로구', '중구', '중랑구'], dtype=object)"
      ]
     },
     "execution_count": 24,
     "metadata": {},
     "output_type": "execute_result"
    }
   ],
   "source": [
    "# 자치구가 누락된 값이 있는지 확인\n",
    "grouped[\"자치구\"].unique()"
   ]
  },
  {
   "cell_type": "code",
   "execution_count": 26,
   "id": "58107ffc-4e4e-4be6-8516-31c413c1c1c7",
   "metadata": {
    "id": "58107ffc-4e4e-4be6-8516-31c413c1c1c7",
    "outputId": "5fe4bdb2-6d3a-4722-98b3-019c57341df3"
   },
   "outputs": [
    {
     "data": {
      "text/plain": [
       "25"
      ]
     },
     "execution_count": 26,
     "metadata": {},
     "output_type": "execute_result"
    }
   ],
   "source": [
    "grouped[\"자치구\"].nunique()"
   ]
  },
  {
   "cell_type": "code",
   "execution_count": 28,
   "id": "fe2e63a8-afe5-4331-ac94-29701a988ecf",
   "metadata": {
    "id": "fe2e63a8-afe5-4331-ac94-29701a988ecf"
   },
   "outputs": [],
   "source": [
    "# 자치구로 별로 분리 되어있는 것을 1시간 단위로 다시 그룹화\n",
    "time_grouped = grouped.groupby(\"기준_시간대_1시간\")[\"전체_건수\"].sum().reset_index()"
   ]
  },
  {
   "cell_type": "code",
   "execution_count": 30,
   "id": "6f51f100-e7ed-4cb8-9272-900a83edccd3",
   "metadata": {
    "id": "6f51f100-e7ed-4cb8-9272-900a83edccd3",
    "outputId": "69b391d5-8efd-45f0-d4d9-ec9763b4142b"
   },
   "outputs": [
    {
     "data": {
      "text/html": [
       "<div>\n",
       "<style scoped>\n",
       "    .dataframe tbody tr th:only-of-type {\n",
       "        vertical-align: middle;\n",
       "    }\n",
       "\n",
       "    .dataframe tbody tr th {\n",
       "        vertical-align: top;\n",
       "    }\n",
       "\n",
       "    .dataframe thead th {\n",
       "        text-align: right;\n",
       "    }\n",
       "</style>\n",
       "<table border=\"1\" class=\"dataframe\">\n",
       "  <thead>\n",
       "    <tr style=\"text-align: right;\">\n",
       "      <th></th>\n",
       "      <th>기준_시간대_1시간</th>\n",
       "      <th>전체_건수</th>\n",
       "    </tr>\n",
       "  </thead>\n",
       "  <tbody>\n",
       "    <tr>\n",
       "      <th>0</th>\n",
       "      <td>0</td>\n",
       "      <td>102694</td>\n",
       "    </tr>\n",
       "    <tr>\n",
       "      <th>1</th>\n",
       "      <td>1</td>\n",
       "      <td>68551</td>\n",
       "    </tr>\n",
       "    <tr>\n",
       "      <th>2</th>\n",
       "      <td>2</td>\n",
       "      <td>45583</td>\n",
       "    </tr>\n",
       "    <tr>\n",
       "      <th>3</th>\n",
       "      <td>3</td>\n",
       "      <td>31170</td>\n",
       "    </tr>\n",
       "    <tr>\n",
       "      <th>4</th>\n",
       "      <td>4</td>\n",
       "      <td>25950</td>\n",
       "    </tr>\n",
       "  </tbody>\n",
       "</table>\n",
       "</div>"
      ],
      "text/plain": [
       "   기준_시간대_1시간   전체_건수\n",
       "0           0  102694\n",
       "1           1   68551\n",
       "2           2   45583\n",
       "3           3   31170\n",
       "4           4   25950"
      ]
     },
     "execution_count": 30,
     "metadata": {},
     "output_type": "execute_result"
    }
   ],
   "source": [
    "time_grouped.head()"
   ]
  },
  {
   "cell_type": "code",
   "execution_count": 32,
   "id": "fe8e732e-b49e-455f-b917-d60ac79050c4",
   "metadata": {
    "id": "fe8e732e-b49e-455f-b917-d60ac79050c4",
    "outputId": "4a7b423a-690c-4edd-f340-115b349d205d"
   },
   "outputs": [
    {
     "data": {
      "text/plain": [
       "True"
      ]
     },
     "execution_count": 32,
     "metadata": {},
     "output_type": "execute_result"
    }
   ],
   "source": [
    "# 데이터 누락 확인\n",
    "time_grouped[\"전체_건수\"].sum() == grouped[\"전체_건수\"].sum()"
   ]
  },
  {
   "cell_type": "code",
   "execution_count": 34,
   "id": "a2a11e14-50b7-4abc-a420-26c90ad94f17",
   "metadata": {
    "id": "a2a11e14-50b7-4abc-a420-26c90ad94f17",
    "outputId": "c955e8d5-ae43-439c-f4de-945d0547cc12"
   },
   "outputs": [
    {
     "data": {
      "text/plain": [
       "196256.125"
      ]
     },
     "execution_count": 34,
     "metadata": {},
     "output_type": "execute_result"
    }
   ],
   "source": [
    "# 전체 건수의 평균값을 구함\n",
    "time_grouped[\"전체_건수\"].mean()"
   ]
  },
  {
   "cell_type": "markdown",
   "id": "4179be00-4a4c-470c-a2aa-08a1861e39b8",
   "metadata": {
    "id": "4179be00-4a4c-470c-a2aa-08a1861e39b8"
   },
   "source": [
    "# 이용량 시각화\n",
    "- 기준 시간대 별로 이용량이 얼마나 되는지 눈으로 쉽게 파악하기 위해서 시각화함\n",
    "- 시각화를 통해 활성 시간, 비활성 시간을 구함"
   ]
  },
  {
   "cell_type": "code",
   "execution_count": 39,
   "id": "518d8c28-e1cf-447d-b11b-1f685cae7dd5",
   "metadata": {
    "id": "518d8c28-e1cf-447d-b11b-1f685cae7dd5",
    "outputId": "6229b9f5-1063-478b-e573-4d8a741abedf"
   },
   "outputs": [
    {
     "data": {
      "image/png": "[encoded data removed]",
      "text/plain": [
       "<Figure size 640x480 with 1 Axes>"
      ]
     },
     "metadata": {},
     "output_type": "display_data"
    }
   ],
   "source": [
    "# 평균\n",
    "counts = time_grouped.groupby(\"기준_시간대_1시간\")[\"전체_건수\"].sum()\n",
    "means = time_grouped[\"전체_건수\"].mean()\n",
    "\n",
    "plt.figure()\n",
    "plt.bar(counts.index, counts.values)\n",
    "\n",
    "plt.axhline(y = means, color = \"red\", linestyle = \"--\")\n",
    "\n",
    "plt.title(\"기준 시간대별 분포\")\n",
    "plt.xlabel(\"기준 시간대 (1시간 단위)\")\n",
    "plt.ylabel(\"개수\")\n",
    "\n",
    "plt.xticks(range(0, 24))\n",
    "plt.grid(axis=\"y\")\n",
    "plt.savefig(os.path.join(CAPTURE_DIR, \"03_Activation_Time_Mean.png\"), dpi=300)\n",
    "\n",
    "plt.show()"
   ]
  },
  {
   "cell_type": "code",
   "execution_count": 41,
   "id": "1a51282e-bd00-40bc-80d8-ba26fc5bf80a",
   "metadata": {
    "id": "1a51282e-bd00-40bc-80d8-ba26fc5bf80a"
   },
   "outputs": [
    {
     "data": {
      "image/png": "[encoded data removed]",
      "text/plain": [
       "<Figure size 640x480 with 1 Axes>"
      ]
     },
     "metadata": {},
     "output_type": "display_data"
    }
   ],
   "source": [
    "# 중앙값 + 사분위수\n",
    "counts = time_grouped.groupby(\"기준_시간대_1시간\")[\"전체_건수\"].sum()\n",
    "\n",
    "# 중앙값, 사분위수 계산\n",
    "median = counts.median()\n",
    "q1 = counts.quantile(0.25)\n",
    "q3 = counts.quantile(0.75)\n",
    "\n",
    "plt.figure()\n",
    "\n",
    "# 시간대별 색상 구분\n",
    "colors = []\n",
    "for val in counts.values:\n",
    "    if val <= q1:\n",
    "        colors.append(\"lightgray\")   # 비활성\n",
    "    elif val >= q3:\n",
    "        colors.append(\"orange\")      # 활성\n",
    "    else:\n",
    "        colors.append(\"skyblue\")     # 중간\n",
    "\n",
    "plt.bar(counts.index, counts.values, color=colors)\n",
    "\n",
    "# 중앙값 선\n",
    "plt.axhline(y=median, color=\"green\", linestyle=\"--\", label=f\"중앙값 ({median:.0f})\")\n",
    "\n",
    "# IQR 범위 음영\n",
    "plt.axhspan(q1, q3, color=\"purple\", alpha=0.15, label=f\"IQR ({q1:.0f}~{q3:.0f})\")\n",
    "\n",
    "plt.title(\"기준 시간대별 분포 (IQR 기준 구분)\")\n",
    "plt.xlabel(\"기준 시간대 (1시간 단위)\")\n",
    "plt.ylabel(\"개수\")\n",
    "\n",
    "plt.xticks(range(0, 24))\n",
    "plt.grid(axis=\"y\")\n",
    "\n",
    "# 범례 수동 추가\n",
    "from matplotlib.patches import Patch\n",
    "legend_handles = [\n",
    "    Patch(color=\"lightgray\", label=\"비활성 (≤ Q1)\"),\n",
    "    Patch(color=\"skyblue\", label=\"중간 (Q1~Q3)\"),\n",
    "    Patch(color=\"orange\", label=\"활성 (≥ Q3)\"),\n",
    "    Patch(color=\"green\", label=\"중앙값\"),\n",
    "    Patch(facecolor=\"purple\", alpha=0.15, label=\"IQR 범위\")\n",
    "]\n",
    "plt.legend(handles=legend_handles)\n",
    "plt.savefig(os.path.join(CAPTURE_DIR, \"03_Activation_Time_IQR.png\"), dpi=300)\n",
    "\n",
    "plt.show()"
   ]
  },
  {
   "cell_type": "code",
   "execution_count": null,
   "id": "b1008722-ba32-491e-b94b-e9e6aa2fdc06",
   "metadata": {},
   "outputs": [],
   "source": []
  }
 ],
 "metadata": {
  "colab": {
   "provenance": []
  },
  "kernelspec": {
   "display_name": "Python [conda env:base] *",
   "language": "python",
   "name": "conda-base-py"
  },
  "language_info": {
   "codemirror_mode": {
    "name": "ipython",
    "version": 3
   },
   "file_extension": ".py",
   "mimetype": "text/x-python",
   "name": "python",
   "nbconvert_exporter": "python",
   "pygments_lexer": "ipython3",
   "version": "3.12.7"
  }
 },
 "nbformat": 4,
 "nbformat_minor": 5
}
