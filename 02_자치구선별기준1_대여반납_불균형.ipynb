{
 "cells": [
  {
   "cell_type": "code",
   "execution_count": 2,
   "id": "798ba7d7-51ef-4e8f-bfd6-5f425456587c",
   "metadata": {},
   "outputs": [],
   "source": [
    "import requests, pandas as pd\n",
    "import glob\n",
    "import os\n",
    "import time\n",
    "import re\n",
    "import numpy as np\n",
    "\n",
    "from dotenv import load_dotenv"
   ]
  },
  {
   "cell_type": "code",
   "execution_count": 4,
   "id": "81baa8e9-fbce-44a5-becd-a598cb65484c",
   "metadata": {},
   "outputs": [],
   "source": [
    "# .env 파일 로드\n",
    "load_dotenv()\n",
    "\n",
    "# .env에서 API_KEY 불러오기\n",
    "API_KEY = os.getenv(\"API_KEY\")\n",
    "if not API_KEY:\n",
    "    raise ValueError(\"API_KEY가 .env에서 로드되지 않았습니다. 확인필요!!\")"
   ]
  },
  {
   "cell_type": "code",
   "execution_count": 6,
   "id": "0e1768fd-f3bc-4db0-8702-ec2607a813c4",
   "metadata": {},
   "outputs": [],
   "source": [
    "RAW_DIR = \"./data/raw/\"\n",
    "OUTPUT_DIR = \"./data/working/\"\n",
    "\n",
    "# 디렉터리 보장\n",
    "os.makedirs(RAW_DIR, exist_ok=True)\n",
    "os.makedirs(OUTPUT_DIR, exist_ok=True)"
   ]
  },
  {
   "cell_type": "markdown",
   "id": "4b22a02e-284e-4500-b1b9-9ee4243d409e",
   "metadata": {},
   "source": [
    "# 1. 2024년 6월 데이터 통합 파일 생성"
   ]
  },
  {
   "cell_type": "markdown",
   "id": "5bba2084-e490-4a2c-b97c-525a10f63493",
   "metadata": {},
   "source": [
    "### dataset) 서울시 따릉이 대여소별 대여/반납 승객수 정보\n",
    "\n",
    "- https://data.seoul.go.kr/dataList/OA-21229/F/1/datasetView.do"
   ]
  },
  {
   "cell_type": "code",
   "execution_count": 10,
   "id": "bc332241-54d0-4943-83b0-2d6ebe87c3b0",
   "metadata": {},
   "outputs": [
    {
     "name": "stdout",
     "output_type": "stream",
     "text": [
      "파일 수: 30\n",
      "저장 완료: ./data/working/tpss_bcycl_od_statnhm_202406_통합.csv\n"
     ]
    }
   ],
   "source": [
    "output_csv = os.path.join(OUTPUT_DIR, \"tpss_bcycl_od_statnhm_202406_통합.csv\")\n",
    "\n",
    "# 통합 파일 존재 여부 확인\n",
    "if os.path.exists(output_csv):\n",
    "    print(f\"이미 통합 파일이 존재합니다: {output_csv}\")\n",
    "else:\n",
    "    # 대상 파일 목록\n",
    "    files = sorted(glob.glob(os.path.join(RAW_DIR, \"tpss_bcycl_od_statnhm_202406*.csv\")))\n",
    "    print(f\"파일 수: {len(files)}\")\n",
    "\n",
    "    if not files:\n",
    "        raise FileNotFoundError(\"원본 CSV가 없습니다.\")\n",
    "\n",
    "    # 모든 파일 읽어서 하나의 DF로\n",
    "    df_list = []\n",
    "    for f in files:\n",
    "        for enc in (\"cp949\", \"euc-kr\", \"utf-8-sig\"):\n",
    "            try:\n",
    "                df = pd.read_csv(f, encoding=enc, low_memory=False)\n",
    "                df_list.append(df)\n",
    "                break\n",
    "            except UnicodeDecodeError:\n",
    "                continue\n",
    "        else:\n",
    "            raise RuntimeError(f\"인코딩 감지 실패: {f}\")\n",
    "\n",
    "    df_all = pd.concat(df_list, ignore_index=True)\n",
    "\n",
    "    # CSV 저장\n",
    "    df_all.to_csv(output_csv, index=False, encoding=\"utf-8-sig\")\n",
    "    print(f\"저장 완료: {output_csv}\")"
   ]
  },
  {
   "cell_type": "code",
   "execution_count": 12,
   "id": "279a6cee-3965-4954-8d26-ef9d6a3598ea",
   "metadata": {},
   "outputs": [],
   "source": [
    "data1 = pd.read_csv(\"./data/working/tpss_bcycl_od_statnhm_202406_통합.csv\")"
   ]
  },
  {
   "cell_type": "code",
   "execution_count": 13,
   "id": "f33aa303-b9c3-4389-b680-5bb6a51b04f1",
   "metadata": {},
   "outputs": [
    {
     "data": {
      "text/plain": [
       "(8831528, 10)"
      ]
     },
     "execution_count": 13,
     "metadata": {},
     "output_type": "execute_result"
    }
   ],
   "source": [
    "data1.shape"
   ]
  },
  {
   "cell_type": "code",
   "execution_count": 16,
   "id": "4d94159d-522d-448e-ba90-6d9d02bf56b9",
   "metadata": {},
   "outputs": [
    {
     "data": {
      "text/html": [
       "<div>\n",
       "<style scoped>\n",
       "    .dataframe tbody tr th:only-of-type {\n",
       "        vertical-align: middle;\n",
       "    }\n",
       "\n",
       "    .dataframe tbody tr th {\n",
       "        vertical-align: top;\n",
       "    }\n",
       "\n",
       "    .dataframe thead th {\n",
       "        text-align: right;\n",
       "    }\n",
       "</style>\n",
       "<table border=\"1\" class=\"dataframe\">\n",
       "  <thead>\n",
       "    <tr style=\"text-align: right;\">\n",
       "      <th></th>\n",
       "      <th>기준_날짜</th>\n",
       "      <th>집계_기준</th>\n",
       "      <th>기준_시간대</th>\n",
       "      <th>시작_대여소_ID</th>\n",
       "      <th>시작_대여소명</th>\n",
       "      <th>종료_대여소_ID</th>\n",
       "      <th>종료_대여소명</th>\n",
       "      <th>전체_건수</th>\n",
       "      <th>전체_이용_분</th>\n",
       "      <th>전체_이용_거리</th>\n",
       "    </tr>\n",
       "  </thead>\n",
       "  <tbody>\n",
       "    <tr>\n",
       "      <th>0</th>\n",
       "      <td>20240601</td>\n",
       "      <td>출발시간</td>\n",
       "      <td>0</td>\n",
       "      <td>ST-1002</td>\n",
       "      <td>목1동_004_1</td>\n",
       "      <td>ST-1017</td>\n",
       "      <td>목5동_059_1</td>\n",
       "      <td>1</td>\n",
       "      <td>8.0</td>\n",
       "      <td>870.0</td>\n",
       "    </tr>\n",
       "    <tr>\n",
       "      <th>1</th>\n",
       "      <td>20240601</td>\n",
       "      <td>출발시간</td>\n",
       "      <td>0</td>\n",
       "      <td>ST-1015</td>\n",
       "      <td>목5동_001_1</td>\n",
       "      <td>ST-997</td>\n",
       "      <td>목4동_021_1</td>\n",
       "      <td>1</td>\n",
       "      <td>10.0</td>\n",
       "      <td>1552.0</td>\n",
       "    </tr>\n",
       "    <tr>\n",
       "      <th>2</th>\n",
       "      <td>20240601</td>\n",
       "      <td>출발시간</td>\n",
       "      <td>0</td>\n",
       "      <td>ST-1036</td>\n",
       "      <td>역촌동_001_1</td>\n",
       "      <td>ST-1035</td>\n",
       "      <td>불광2동_021_1</td>\n",
       "      <td>1</td>\n",
       "      <td>42.0</td>\n",
       "      <td>4980.0</td>\n",
       "    </tr>\n",
       "    <tr>\n",
       "      <th>3</th>\n",
       "      <td>20240601</td>\n",
       "      <td>출발시간</td>\n",
       "      <td>0</td>\n",
       "      <td>ST-1045</td>\n",
       "      <td>성내2동_007_1</td>\n",
       "      <td>ST-1580</td>\n",
       "      <td>오륜동_001_3</td>\n",
       "      <td>1</td>\n",
       "      <td>8.0</td>\n",
       "      <td>1923.0</td>\n",
       "    </tr>\n",
       "    <tr>\n",
       "      <th>4</th>\n",
       "      <td>20240601</td>\n",
       "      <td>출발시간</td>\n",
       "      <td>0</td>\n",
       "      <td>ST-1047</td>\n",
       "      <td>성내1동_023_1</td>\n",
       "      <td>ST-488</td>\n",
       "      <td>암사1동_044_1</td>\n",
       "      <td>1</td>\n",
       "      <td>18.0</td>\n",
       "      <td>3530.0</td>\n",
       "    </tr>\n",
       "  </tbody>\n",
       "</table>\n",
       "</div>"
      ],
      "text/plain": [
       "      기준_날짜 집계_기준  기준_시간대 시작_대여소_ID     시작_대여소명 종료_대여소_ID     종료_대여소명  전체_건수  \\\n",
       "0  20240601  출발시간       0   ST-1002   목1동_004_1   ST-1017   목5동_059_1      1   \n",
       "1  20240601  출발시간       0   ST-1015   목5동_001_1    ST-997   목4동_021_1      1   \n",
       "2  20240601  출발시간       0   ST-1036   역촌동_001_1   ST-1035  불광2동_021_1      1   \n",
       "3  20240601  출발시간       0   ST-1045  성내2동_007_1   ST-1580   오륜동_001_3      1   \n",
       "4  20240601  출발시간       0   ST-1047  성내1동_023_1    ST-488  암사1동_044_1      1   \n",
       "\n",
       "   전체_이용_분  전체_이용_거리  \n",
       "0      8.0     870.0  \n",
       "1     10.0    1552.0  \n",
       "2     42.0    4980.0  \n",
       "3      8.0    1923.0  \n",
       "4     18.0    3530.0  "
      ]
     },
     "execution_count": 16,
     "metadata": {},
     "output_type": "execute_result"
    }
   ],
   "source": [
    "data1.head()"
   ]
  },
  {
   "cell_type": "code",
   "execution_count": 18,
   "id": "403f7943-586e-40c3-a840-b6c2ca047531",
   "metadata": {},
   "outputs": [
    {
     "data": {
      "text/plain": [
       "기준_날짜          int64\n",
       "집계_기준         object\n",
       "기준_시간대         int64\n",
       "시작_대여소_ID     object\n",
       "시작_대여소명       object\n",
       "종료_대여소_ID     object\n",
       "종료_대여소명       object\n",
       "전체_건수          int64\n",
       "전체_이용_분      float64\n",
       "전체_이용_거리     float64\n",
       "dtype: object"
      ]
     },
     "execution_count": 18,
     "metadata": {},
     "output_type": "execute_result"
    }
   ],
   "source": [
    "data1.dtypes"
   ]
  },
  {
   "cell_type": "code",
   "execution_count": 20,
   "id": "f6c10fc2-7366-47ae-aa7c-516c967f5588",
   "metadata": {},
   "outputs": [
    {
     "data": {
      "text/plain": [
       "Index(['기준_날짜', '집계_기준', '기준_시간대', '시작_대여소_ID', '시작_대여소명', '종료_대여소_ID',\n",
       "       '종료_대여소명', '전체_건수', '전체_이용_분', '전체_이용_거리'],\n",
       "      dtype='object')"
      ]
     },
     "execution_count": 20,
     "metadata": {},
     "output_type": "execute_result"
    }
   ],
   "source": [
    "data1.columns"
   ]
  },
  {
   "cell_type": "markdown",
   "id": "401b1e41-a98e-4859-b9fa-f7834822e4fe",
   "metadata": {},
   "source": [
    "# 2. 공공자전거 대여소 정보 가져오기"
   ]
  },
  {
   "cell_type": "markdown",
   "id": "4d3b9a76-13e2-46ad-9524-079a3753befb",
   "metadata": {},
   "source": [
    "### dataset) 서울시 공공자전거 대여소 정보\n",
    "\n",
    "- https://data.seoul.go.kr/dataList/OA-13252/F/1/datasetView.do"
   ]
  },
  {
   "cell_type": "markdown",
   "id": "e0b915db-ba10-4c03-81fa-87ac3a9cb91f",
   "metadata": {},
   "source": [
    "### csv 파일 사용 (6월 기준)"
   ]
  },
  {
   "cell_type": "code",
   "execution_count": 35,
   "id": "e8a541ec-23f0-434c-8012-361c0b7b55cb",
   "metadata": {},
   "outputs": [
    {
     "name": "stdout",
     "output_type": "stream",
     "text": [
      "이미 파일이 존재합니다: ./data/working/공공자전거_대여소_정보_CSV.csv\n"
     ]
    }
   ],
   "source": [
    "file = \"./data/raw/공공자전거_대여소_정보(24.6월_기준).xlsx\"\n",
    "output = \"./data/working/공공자전거_대여소_정보_CSV.csv\"\n",
    "\n",
    "# output 파일 존재 여부 확인\n",
    "if os.path.exists(output):\n",
    "    print(\"이미 파일이 존재합니다:\", output)\n",
    "else:\n",
    "    data_excel = pd.read_excel(file, sheet_name=\"대여소현황\", header=None)\n",
    "\n",
    "    # 6행부터 실제 데이터\n",
    "    data_excel = data_excel.iloc[5:].copy()\n",
    "\n",
    "    # 커스텀 헤더\n",
    "    custom_header = [\"대여소번호\", \"보관소(대여소)명\", \"자치구\", \"상세주소\", \n",
    "                     \"위도\", \"경도\", \"설치시기\", \"LCD거치대수\", \"QR거치대수\", \"운영방식\"]\n",
    "    data_excel.columns = custom_header\n",
    "\n",
    "    # '대여소번호' 문자열 처리 (앞에 0 보존)\n",
    "    data_excel[\"대여소번호\"] = data_excel[\"대여소번호\"].astype(str).str.zfill(5)\n",
    "\n",
    "    # csv 저장\n",
    "    os.makedirs(os.path.dirname(output), exist_ok=True)\n",
    "    data_excel.to_csv(output, index=False, encoding=\"utf-8-sig\")\n",
    "    print(\"저장 완료:\", output)"
   ]
  },
  {
   "cell_type": "code",
   "execution_count": 37,
   "id": "9f92cdab-eb63-41f3-893a-1f45d2f93432",
   "metadata": {},
   "outputs": [],
   "source": [
    "data_csv = pd.read_csv(\"./data/working/공공자전거_대여소_정보_CSV.csv\")"
   ]
  },
  {
   "cell_type": "code",
   "execution_count": 39,
   "id": "0c719457-ac0e-40af-9e93-cbcca76a851c",
   "metadata": {},
   "outputs": [
    {
     "data": {
      "text/html": [
       "<div>\n",
       "<style scoped>\n",
       "    .dataframe tbody tr th:only-of-type {\n",
       "        vertical-align: middle;\n",
       "    }\n",
       "\n",
       "    .dataframe tbody tr th {\n",
       "        vertical-align: top;\n",
       "    }\n",
       "\n",
       "    .dataframe thead th {\n",
       "        text-align: right;\n",
       "    }\n",
       "</style>\n",
       "<table border=\"1\" class=\"dataframe\">\n",
       "  <thead>\n",
       "    <tr style=\"text-align: right;\">\n",
       "      <th></th>\n",
       "      <th>대여소번호</th>\n",
       "      <th>보관소(대여소)명</th>\n",
       "      <th>자치구</th>\n",
       "      <th>상세주소</th>\n",
       "      <th>위도</th>\n",
       "      <th>경도</th>\n",
       "      <th>설치시기</th>\n",
       "      <th>LCD거치대수</th>\n",
       "      <th>QR거치대수</th>\n",
       "      <th>운영방식</th>\n",
       "    </tr>\n",
       "  </thead>\n",
       "  <tbody>\n",
       "    <tr>\n",
       "      <th>0</th>\n",
       "      <td>301</td>\n",
       "      <td>경복궁역 7번출구 앞</td>\n",
       "      <td>종로구</td>\n",
       "      <td>서울특별시 종로구 사직로 지하130 경복궁역 7번출구 앞</td>\n",
       "      <td>37.575794</td>\n",
       "      <td>126.971451</td>\n",
       "      <td>2015-10-07 12:03:46</td>\n",
       "      <td>20.0</td>\n",
       "      <td>20.0</td>\n",
       "      <td>QR</td>\n",
       "    </tr>\n",
       "    <tr>\n",
       "      <th>1</th>\n",
       "      <td>302</td>\n",
       "      <td>경복궁역 4번출구 뒤</td>\n",
       "      <td>종로구</td>\n",
       "      <td>서울특별시 종로구 사직로 지하130 경복궁역 4번출구 뒤</td>\n",
       "      <td>37.575947</td>\n",
       "      <td>126.974060</td>\n",
       "      <td>2015-10-07 12:04:22</td>\n",
       "      <td>12.0</td>\n",
       "      <td>12.0</td>\n",
       "      <td>QR</td>\n",
       "    </tr>\n",
       "    <tr>\n",
       "      <th>2</th>\n",
       "      <td>303</td>\n",
       "      <td>광화문역 1번출구 앞</td>\n",
       "      <td>종로구</td>\n",
       "      <td>서울특별시 종로구 세종대로 지하189 세종로공원</td>\n",
       "      <td>37.571770</td>\n",
       "      <td>126.974663</td>\n",
       "      <td>2015-10-07 00:00:00</td>\n",
       "      <td>8.0</td>\n",
       "      <td>8.0</td>\n",
       "      <td>QR</td>\n",
       "    </tr>\n",
       "    <tr>\n",
       "      <th>3</th>\n",
       "      <td>305</td>\n",
       "      <td>종로구청 옆</td>\n",
       "      <td>종로구</td>\n",
       "      <td>서울특별시 종로구 세종로 84-1</td>\n",
       "      <td>37.572559</td>\n",
       "      <td>126.978333</td>\n",
       "      <td>2015-01-07 00:00:00</td>\n",
       "      <td>16.0</td>\n",
       "      <td>16.0</td>\n",
       "      <td>QR</td>\n",
       "    </tr>\n",
       "    <tr>\n",
       "      <th>4</th>\n",
       "      <td>307</td>\n",
       "      <td>서울역사박물관 앞</td>\n",
       "      <td>종로구</td>\n",
       "      <td>서울특별시 종로구 새문안로 55 서울역사박물관 앞</td>\n",
       "      <td>37.570000</td>\n",
       "      <td>126.971100</td>\n",
       "      <td>2015-10-07 12:09:09</td>\n",
       "      <td>11.0</td>\n",
       "      <td>11.0</td>\n",
       "      <td>QR</td>\n",
       "    </tr>\n",
       "  </tbody>\n",
       "</table>\n",
       "</div>"
      ],
      "text/plain": [
       "   대여소번호     보관소(대여소)명  자치구                             상세주소         위도  \\\n",
       "0    301   경복궁역 7번출구 앞  종로구  서울특별시 종로구 사직로 지하130 경복궁역 7번출구 앞  37.575794   \n",
       "1    302   경복궁역 4번출구 뒤  종로구  서울특별시 종로구 사직로 지하130 경복궁역 4번출구 뒤  37.575947   \n",
       "2    303   광화문역 1번출구 앞  종로구       서울특별시 종로구 세종대로 지하189 세종로공원  37.571770   \n",
       "3    305        종로구청 옆  종로구               서울특별시 종로구 세종로 84-1  37.572559   \n",
       "4    307     서울역사박물관 앞  종로구      서울특별시 종로구 새문안로 55 서울역사박물관 앞  37.570000   \n",
       "\n",
       "           경도                 설치시기  LCD거치대수  QR거치대수 운영방식  \n",
       "0  126.971451  2015-10-07 12:03:46     20.0    20.0   QR  \n",
       "1  126.974060  2015-10-07 12:04:22     12.0    12.0   QR  \n",
       "2  126.974663  2015-10-07 00:00:00      8.0     8.0   QR  \n",
       "3  126.978333  2015-01-07 00:00:00     16.0    16.0   QR  \n",
       "4  126.971100  2015-10-07 12:09:09     11.0    11.0   QR  "
      ]
     },
     "execution_count": 39,
     "metadata": {},
     "output_type": "execute_result"
    }
   ],
   "source": [
    "data_csv.head()"
   ]
  },
  {
   "cell_type": "code",
   "execution_count": 31,
   "id": "103588ea-bdd4-4a99-855d-dedb7ec4c66d",
   "metadata": {},
   "outputs": [
    {
     "data": {
      "text/plain": [
       "(2763, 10)"
      ]
     },
     "execution_count": 31,
     "metadata": {},
     "output_type": "execute_result"
    }
   ],
   "source": [
    "data_csv.shape"
   ]
  },
  {
   "cell_type": "code",
   "execution_count": 33,
   "id": "ec5a7e61-bfef-4b6a-9ead-097091680035",
   "metadata": {},
   "outputs": [
    {
     "data": {
      "text/plain": [
       "Index(['대여소번호', '보관소(대여소)명', '자치구', '상세주소', '위도', '경도', '설치시기', 'LCD거치대수',\n",
       "       'QR거치대수', '운영방식'],\n",
       "      dtype='object')"
      ]
     },
     "execution_count": 33,
     "metadata": {},
     "output_type": "execute_result"
    }
   ],
   "source": [
    "data_csv.columns"
   ]
  },
  {
   "cell_type": "markdown",
   "id": "67b7d56b-e783-476d-a192-abed2ecd6460",
   "metadata": {},
   "source": [
    "### api 사용"
   ]
  },
  {
   "cell_type": "code",
   "execution_count": 41,
   "id": "f57e209e-a70d-4c68-8e8e-1b57d5af68f6",
   "metadata": {
    "jp-MarkdownHeadingCollapsed": true
   },
   "outputs": [
    {
     "name": "stdout",
     "output_type": "stream",
     "text": [
      "저장 완료 : ./data/working/공공자전거_대여소_정보_API.csv\n"
     ]
    }
   ],
   "source": [
    "SERVICE = \"tbCycleStationInfo\"\n",
    "BASE = f\"http://openapi.seoul.go.kr:8088/{API_KEY}/json/{SERVICE}\"\n",
    "PAGE_SIZE = 1000\n",
    "SLEEP_SEC = 0.2\n",
    "\n",
    "output_path = \"./data/working/공공자전거_대여소_정보_API.csv\"\n",
    "\n",
    "if os.path.exists(output_path):\n",
    "    print(\"이미 파일이 존재합니다:\", output_path)\n",
    "else:\n",
    "    all_rows = []\n",
    "    start = 1\n",
    "\n",
    "    while True:\n",
    "        end = start + PAGE_SIZE - 1\n",
    "        url = f\"{BASE}/{start}/{end}/\"\n",
    "        \n",
    "        try:\n",
    "            res = requests.get(url, timeout=30)\n",
    "            res.raise_for_status()\n",
    "            js = res.json()\n",
    "        except Exception as e:\n",
    "            print(f\"[ERROR] {start}-{end} 구간 요청 실패: {e}\")\n",
    "            break\n",
    "    \n",
    "        # 응답 파싱\n",
    "        root = js.get(SERVICE) or (js.get(list(js.keys())[0]) if js else None)\n",
    "        rows = (root or {}).get(\"row\", [])\n",
    "    \n",
    "        if not rows:\n",
    "            print(f\"데이터 없음: {start}-{end} 구간에서 종료\")\n",
    "            break\n",
    "    \n",
    "        all_rows.extend(rows)\n",
    "    \n",
    "        # 마지막 페이지(1000건 미만)면 종료\n",
    "        if len(rows) < PAGE_SIZE:\n",
    "            break\n",
    "    \n",
    "        # 다음 구간으로\n",
    "        start += PAGE_SIZE\n",
    "        time.sleep(SLEEP_SEC)\n",
    "\n",
    "    # DataFrame 변환\n",
    "    data_api = pd.DataFrame(all_rows)\n",
    "    \n",
    "    # 저장\n",
    "    os.makedirs(os.path.dirname(output_path), exist_ok=True)\n",
    "    data_api.to_csv(output_path, index=False, encoding=\"utf-8-sig\")\n",
    "    print(f\"저장 완료 : {output_path}\")"
   ]
  },
  {
   "cell_type": "code",
   "execution_count": 43,
   "id": "2b49a54f-7b07-4d45-ab83-f13215cedc59",
   "metadata": {},
   "outputs": [],
   "source": [
    "data_api = pd.read_csv(output_path, encoding=\"utf-8-sig\")"
   ]
  },
  {
   "cell_type": "code",
   "execution_count": 45,
   "id": "5d4d1255-e2b1-4624-96cb-c6ec5e7704d8",
   "metadata": {},
   "outputs": [
    {
     "data": {
      "text/html": [
       "<div>\n",
       "<style scoped>\n",
       "    .dataframe tbody tr th:only-of-type {\n",
       "        vertical-align: middle;\n",
       "    }\n",
       "\n",
       "    .dataframe tbody tr th {\n",
       "        vertical-align: top;\n",
       "    }\n",
       "\n",
       "    .dataframe thead th {\n",
       "        text-align: right;\n",
       "    }\n",
       "</style>\n",
       "<table border=\"1\" class=\"dataframe\">\n",
       "  <thead>\n",
       "    <tr style=\"text-align: right;\">\n",
       "      <th></th>\n",
       "      <th>STA_LOC</th>\n",
       "      <th>RENT_ID</th>\n",
       "      <th>RENT_NO</th>\n",
       "      <th>RENT_NM</th>\n",
       "      <th>RENT_ID_NM</th>\n",
       "      <th>HOLD_NUM</th>\n",
       "      <th>STA_ADD1</th>\n",
       "      <th>STA_ADD2</th>\n",
       "      <th>STA_LAT</th>\n",
       "      <th>STA_LONG</th>\n",
       "      <th>START_INDEX</th>\n",
       "      <th>END_INDEX</th>\n",
       "      <th>RNUM</th>\n",
       "    </tr>\n",
       "  </thead>\n",
       "  <tbody>\n",
       "    <tr>\n",
       "      <th>0</th>\n",
       "      <td>마포구</td>\n",
       "      <td>ST-10</td>\n",
       "      <td>108</td>\n",
       "      <td>서교동 사거리</td>\n",
       "      <td>108. 서교동 사거리</td>\n",
       "      <td>12.0</td>\n",
       "      <td>서울특별시 마포구 양화로 93</td>\n",
       "      <td>427</td>\n",
       "      <td>37.552746</td>\n",
       "      <td>126.918617</td>\n",
       "      <td>0</td>\n",
       "      <td>0</td>\n",
       "      <td>1</td>\n",
       "    </tr>\n",
       "    <tr>\n",
       "      <th>1</th>\n",
       "      <td>광진구</td>\n",
       "      <td>ST-100</td>\n",
       "      <td>503</td>\n",
       "      <td>더샵스타시티 C동 앞</td>\n",
       "      <td>503. 더샵스타시티 C동 앞</td>\n",
       "      <td>15.0</td>\n",
       "      <td>서울특별시 광진구 아차산로 262</td>\n",
       "      <td>더샵스타시티 C동 앞</td>\n",
       "      <td>37.536667</td>\n",
       "      <td>127.073593</td>\n",
       "      <td>0</td>\n",
       "      <td>0</td>\n",
       "      <td>2</td>\n",
       "    </tr>\n",
       "    <tr>\n",
       "      <th>2</th>\n",
       "      <td>양천구</td>\n",
       "      <td>ST-1000</td>\n",
       "      <td>729</td>\n",
       "      <td>서부식자재마트 건너편</td>\n",
       "      <td>729. 서부식자재마트 건너편</td>\n",
       "      <td>10.0</td>\n",
       "      <td>서울특별시 양천구 신정동 236</td>\n",
       "      <td>서부식자재마트 건너편</td>\n",
       "      <td>37.510380</td>\n",
       "      <td>126.866798</td>\n",
       "      <td>0</td>\n",
       "      <td>0</td>\n",
       "      <td>3</td>\n",
       "    </tr>\n",
       "    <tr>\n",
       "      <th>3</th>\n",
       "      <td>양천구</td>\n",
       "      <td>ST-1002</td>\n",
       "      <td>731</td>\n",
       "      <td>서울시 도로환경관리센터</td>\n",
       "      <td>731. 서울시 도로환경관리센터</td>\n",
       "      <td>10.0</td>\n",
       "      <td>서울특별시 양천구 목동동로 316-6</td>\n",
       "      <td>서울시 도로환경관리센터</td>\n",
       "      <td>37.529900</td>\n",
       "      <td>126.876541</td>\n",
       "      <td>0</td>\n",
       "      <td>0</td>\n",
       "      <td>4</td>\n",
       "    </tr>\n",
       "    <tr>\n",
       "      <th>4</th>\n",
       "      <td>양천구</td>\n",
       "      <td>ST-1003</td>\n",
       "      <td>732</td>\n",
       "      <td>신월중학교</td>\n",
       "      <td>732. 신월중학교</td>\n",
       "      <td>10.0</td>\n",
       "      <td>서울특별시 양천구 화곡로 59</td>\n",
       "      <td>신월동 이마트</td>\n",
       "      <td>37.539551</td>\n",
       "      <td>126.828300</td>\n",
       "      <td>0</td>\n",
       "      <td>0</td>\n",
       "      <td>5</td>\n",
       "    </tr>\n",
       "  </tbody>\n",
       "</table>\n",
       "</div>"
      ],
      "text/plain": [
       "  STA_LOC  RENT_ID  RENT_NO       RENT_NM         RENT_ID_NM  HOLD_NUM  \\\n",
       "0     마포구    ST-10      108       서교동 사거리       108. 서교동 사거리      12.0   \n",
       "1     광진구   ST-100      503   더샵스타시티 C동 앞   503. 더샵스타시티 C동 앞      15.0   \n",
       "2     양천구  ST-1000      729   서부식자재마트 건너편   729. 서부식자재마트 건너편      10.0   \n",
       "3     양천구  ST-1002      731  서울시 도로환경관리센터  731. 서울시 도로환경관리센터      10.0   \n",
       "4     양천구  ST-1003      732         신월중학교         732. 신월중학교      10.0   \n",
       "\n",
       "               STA_ADD1      STA_ADD2    STA_LAT    STA_LONG  START_INDEX  \\\n",
       "0      서울특별시 마포구 양화로 93           427  37.552746  126.918617            0   \n",
       "1    서울특별시 광진구 아차산로 262   더샵스타시티 C동 앞  37.536667  127.073593            0   \n",
       "2    서울특별시 양천구 신정동 236    서부식자재마트 건너편  37.510380  126.866798            0   \n",
       "3  서울특별시 양천구 목동동로 316-6  서울시 도로환경관리센터  37.529900  126.876541            0   \n",
       "4      서울특별시 양천구 화곡로 59       신월동 이마트  37.539551  126.828300            0   \n",
       "\n",
       "   END_INDEX  RNUM  \n",
       "0          0     1  \n",
       "1          0     2  \n",
       "2          0     3  \n",
       "3          0     4  \n",
       "4          0     5  "
      ]
     },
     "execution_count": 45,
     "metadata": {},
     "output_type": "execute_result"
    }
   ],
   "source": [
    "data_api.head()"
   ]
  },
  {
   "cell_type": "code",
   "execution_count": 47,
   "id": "9bee1379-0f84-4dd7-93e3-1cc5e2dc2463",
   "metadata": {},
   "outputs": [
    {
     "data": {
      "text/plain": [
       "(3180, 13)"
      ]
     },
     "execution_count": 47,
     "metadata": {},
     "output_type": "execute_result"
    }
   ],
   "source": [
    "data_api.shape"
   ]
  },
  {
   "cell_type": "code",
   "execution_count": 49,
   "id": "6b619434-161f-4e5a-b67a-0e125a9be604",
   "metadata": {},
   "outputs": [
    {
     "data": {
      "text/plain": [
       "STA_LOC         object\n",
       "RENT_ID         object\n",
       "RENT_NO          int64\n",
       "RENT_NM         object\n",
       "RENT_ID_NM      object\n",
       "HOLD_NUM       float64\n",
       "STA_ADD1        object\n",
       "STA_ADD2        object\n",
       "STA_LAT        float64\n",
       "STA_LONG       float64\n",
       "START_INDEX      int64\n",
       "END_INDEX        int64\n",
       "RNUM             int64\n",
       "dtype: object"
      ]
     },
     "execution_count": 49,
     "metadata": {},
     "output_type": "execute_result"
    }
   ],
   "source": [
    "data_api.dtypes"
   ]
  },
  {
   "cell_type": "code",
   "execution_count": 51,
   "id": "797fe18f-926a-4e84-ac08-40f40af9326a",
   "metadata": {},
   "outputs": [
    {
     "data": {
      "text/plain": [
       "Index(['STA_LOC', 'RENT_ID', 'RENT_NO', 'RENT_NM', 'RENT_ID_NM', 'HOLD_NUM',\n",
       "       'STA_ADD1', 'STA_ADD2', 'STA_LAT', 'STA_LONG', 'START_INDEX',\n",
       "       'END_INDEX', 'RNUM'],\n",
       "      dtype='object')"
      ]
     },
     "execution_count": 51,
     "metadata": {},
     "output_type": "execute_result"
    }
   ],
   "source": [
    "data_api.columns"
   ]
  },
  {
   "cell_type": "markdown",
   "id": "7abef67f-6af2-4206-a29d-b4f8191261e5",
   "metadata": {},
   "source": [
    "# 3. 6월 데이터 통합본 + 자치구 매핑"
   ]
  },
  {
   "cell_type": "code",
   "execution_count": 54,
   "id": "7b5584c9-de7e-475e-bedc-be6018961516",
   "metadata": {},
   "outputs": [
    {
     "name": "stdout",
     "output_type": "stream",
     "text": [
      "저장 완료: ./data/working/tpss_bcycl_od_statnhm_202406_통합_w_자치구.csv\n"
     ]
    }
   ],
   "source": [
    "output_path = \"./data/working/tpss_bcycl_od_statnhm_202406_통합_w_자치구.csv\"\n",
    "\n",
    "seoul_gu = data_api.set_index(\"RENT_ID\")[\"STA_LOC\"]\n",
    "\n",
    "# data1에 컬럼 생성\n",
    "if \"시작_대여소_자치구\" not in data1.columns:\n",
    "    data1[\"시작_대여소_자치구\"] = data1[\"시작_대여소_ID\"].map(seoul_gu)\n",
    "\n",
    "if \"종료_대여소_자치구\" not in data1.columns:\n",
    "    data1[\"종료_대여소_자치구\"] = data1[\"종료_대여소_ID\"].map(seoul_gu)\n",
    "\n",
    "# 컬럼 순서\n",
    "new_cols = [\n",
    "    \"기준_날짜\", \"집계_기준\", \"기준_시간대\",\n",
    "    \"시작_대여소_ID\", \"시작_대여소명\", \"시작_대여소_자치구\",\n",
    "    \"종료_대여소_ID\", \"종료_대여소명\", \"종료_대여소_자치구\",\n",
    "    \"전체_건수\", \"전체_이용_분\", \"전체_이용_거리\"\n",
    "]\n",
    "data1 = data1[new_cols]\n",
    "\n",
    "if os.path.exists(output_path):\n",
    "    print(\"이미 존재합니다:\", output_path)\n",
    "else:\n",
    "    os.makedirs(os.path.dirname(output_path), exist_ok=True)\n",
    "    data1.to_csv(output_path, index=False, encoding=\"utf-8-sig\")\n",
    "    print(f\"저장 완료: {output_path}\")"
   ]
  },
  {
   "cell_type": "code",
   "execution_count": 56,
   "id": "71b93f71-2481-4f74-a15f-c233fcd9be44",
   "metadata": {},
   "outputs": [],
   "source": [
    "data1_merged = pd.read_csv(output_path)"
   ]
  },
  {
   "cell_type": "code",
   "execution_count": 57,
   "id": "4d0c00b4-cacd-4866-b903-b24bbddad5b5",
   "metadata": {},
   "outputs": [
    {
     "data": {
      "text/plain": [
       "(8831528, 12)"
      ]
     },
     "execution_count": 57,
     "metadata": {},
     "output_type": "execute_result"
    }
   ],
   "source": [
    "data1_merged.shape"
   ]
  },
  {
   "cell_type": "code",
   "execution_count": 58,
   "id": "729226b1-fd0d-43cf-9e99-02261906154d",
   "metadata": {},
   "outputs": [
    {
     "data": {
      "text/html": [
       "<div>\n",
       "<style scoped>\n",
       "    .dataframe tbody tr th:only-of-type {\n",
       "        vertical-align: middle;\n",
       "    }\n",
       "\n",
       "    .dataframe tbody tr th {\n",
       "        vertical-align: top;\n",
       "    }\n",
       "\n",
       "    .dataframe thead th {\n",
       "        text-align: right;\n",
       "    }\n",
       "</style>\n",
       "<table border=\"1\" class=\"dataframe\">\n",
       "  <thead>\n",
       "    <tr style=\"text-align: right;\">\n",
       "      <th></th>\n",
       "      <th>기준_날짜</th>\n",
       "      <th>집계_기준</th>\n",
       "      <th>기준_시간대</th>\n",
       "      <th>시작_대여소_ID</th>\n",
       "      <th>시작_대여소명</th>\n",
       "      <th>시작_대여소_자치구</th>\n",
       "      <th>종료_대여소_ID</th>\n",
       "      <th>종료_대여소명</th>\n",
       "      <th>종료_대여소_자치구</th>\n",
       "      <th>전체_건수</th>\n",
       "      <th>전체_이용_분</th>\n",
       "      <th>전체_이용_거리</th>\n",
       "    </tr>\n",
       "  </thead>\n",
       "  <tbody>\n",
       "    <tr>\n",
       "      <th>0</th>\n",
       "      <td>20240601</td>\n",
       "      <td>출발시간</td>\n",
       "      <td>0</td>\n",
       "      <td>ST-1002</td>\n",
       "      <td>목1동_004_1</td>\n",
       "      <td>양천구</td>\n",
       "      <td>ST-1017</td>\n",
       "      <td>목5동_059_1</td>\n",
       "      <td>양천구</td>\n",
       "      <td>1</td>\n",
       "      <td>8.0</td>\n",
       "      <td>870.0</td>\n",
       "    </tr>\n",
       "    <tr>\n",
       "      <th>1</th>\n",
       "      <td>20240601</td>\n",
       "      <td>출발시간</td>\n",
       "      <td>0</td>\n",
       "      <td>ST-1015</td>\n",
       "      <td>목5동_001_1</td>\n",
       "      <td>양천구</td>\n",
       "      <td>ST-997</td>\n",
       "      <td>목4동_021_1</td>\n",
       "      <td>양천구</td>\n",
       "      <td>1</td>\n",
       "      <td>10.0</td>\n",
       "      <td>1552.0</td>\n",
       "    </tr>\n",
       "    <tr>\n",
       "      <th>2</th>\n",
       "      <td>20240601</td>\n",
       "      <td>출발시간</td>\n",
       "      <td>0</td>\n",
       "      <td>ST-1036</td>\n",
       "      <td>역촌동_001_1</td>\n",
       "      <td>은평구</td>\n",
       "      <td>ST-1035</td>\n",
       "      <td>불광2동_021_1</td>\n",
       "      <td>은평구</td>\n",
       "      <td>1</td>\n",
       "      <td>42.0</td>\n",
       "      <td>4980.0</td>\n",
       "    </tr>\n",
       "    <tr>\n",
       "      <th>3</th>\n",
       "      <td>20240601</td>\n",
       "      <td>출발시간</td>\n",
       "      <td>0</td>\n",
       "      <td>ST-1045</td>\n",
       "      <td>성내2동_007_1</td>\n",
       "      <td>강동구</td>\n",
       "      <td>ST-1580</td>\n",
       "      <td>오륜동_001_3</td>\n",
       "      <td>송파구</td>\n",
       "      <td>1</td>\n",
       "      <td>8.0</td>\n",
       "      <td>1923.0</td>\n",
       "    </tr>\n",
       "    <tr>\n",
       "      <th>4</th>\n",
       "      <td>20240601</td>\n",
       "      <td>출발시간</td>\n",
       "      <td>0</td>\n",
       "      <td>ST-1047</td>\n",
       "      <td>성내1동_023_1</td>\n",
       "      <td>강동구</td>\n",
       "      <td>ST-488</td>\n",
       "      <td>암사1동_044_1</td>\n",
       "      <td>강동구</td>\n",
       "      <td>1</td>\n",
       "      <td>18.0</td>\n",
       "      <td>3530.0</td>\n",
       "    </tr>\n",
       "  </tbody>\n",
       "</table>\n",
       "</div>"
      ],
      "text/plain": [
       "      기준_날짜 집계_기준  기준_시간대 시작_대여소_ID     시작_대여소명 시작_대여소_자치구 종료_대여소_ID  \\\n",
       "0  20240601  출발시간       0   ST-1002   목1동_004_1        양천구   ST-1017   \n",
       "1  20240601  출발시간       0   ST-1015   목5동_001_1        양천구    ST-997   \n",
       "2  20240601  출발시간       0   ST-1036   역촌동_001_1        은평구   ST-1035   \n",
       "3  20240601  출발시간       0   ST-1045  성내2동_007_1        강동구   ST-1580   \n",
       "4  20240601  출발시간       0   ST-1047  성내1동_023_1        강동구    ST-488   \n",
       "\n",
       "      종료_대여소명 종료_대여소_자치구  전체_건수  전체_이용_분  전체_이용_거리  \n",
       "0   목5동_059_1        양천구      1      8.0     870.0  \n",
       "1   목4동_021_1        양천구      1     10.0    1552.0  \n",
       "2  불광2동_021_1        은평구      1     42.0    4980.0  \n",
       "3   오륜동_001_3        송파구      1      8.0    1923.0  \n",
       "4  암사1동_044_1        강동구      1     18.0    3530.0  "
      ]
     },
     "execution_count": 58,
     "metadata": {},
     "output_type": "execute_result"
    }
   ],
   "source": [
    "data1_merged.head()"
   ]
  },
  {
   "cell_type": "code",
   "execution_count": 68,
   "id": "67490b1f-9b5a-44b1-9f61-3394fb326d90",
   "metadata": {},
   "outputs": [
    {
     "name": "stdout",
     "output_type": "stream",
     "text": [
      "null 값 있는 행 : 31838\n"
     ]
    },
    {
     "data": {
      "text/html": [
       "<div>\n",
       "<style scoped>\n",
       "    .dataframe tbody tr th:only-of-type {\n",
       "        vertical-align: middle;\n",
       "    }\n",
       "\n",
       "    .dataframe tbody tr th {\n",
       "        vertical-align: top;\n",
       "    }\n",
       "\n",
       "    .dataframe thead th {\n",
       "        text-align: right;\n",
       "    }\n",
       "</style>\n",
       "<table border=\"1\" class=\"dataframe\">\n",
       "  <thead>\n",
       "    <tr style=\"text-align: right;\">\n",
       "      <th></th>\n",
       "      <th>기준_날짜</th>\n",
       "      <th>집계_기준</th>\n",
       "      <th>기준_시간대</th>\n",
       "      <th>시작_대여소_ID</th>\n",
       "      <th>시작_대여소명</th>\n",
       "      <th>시작_대여소_자치구</th>\n",
       "      <th>종료_대여소_ID</th>\n",
       "      <th>종료_대여소명</th>\n",
       "      <th>종료_대여소_자치구</th>\n",
       "      <th>전체_건수</th>\n",
       "      <th>전체_이용_분</th>\n",
       "      <th>전체_이용_거리</th>\n",
       "    </tr>\n",
       "  </thead>\n",
       "  <tbody>\n",
       "    <tr>\n",
       "      <th>132</th>\n",
       "      <td>20240601</td>\n",
       "      <td>출발시간</td>\n",
       "      <td>0</td>\n",
       "      <td>ST-2308</td>\n",
       "      <td>화양동_041_2</td>\n",
       "      <td>광진구</td>\n",
       "      <td>X</td>\n",
       "      <td>NaN</td>\n",
       "      <td>NaN</td>\n",
       "      <td>1</td>\n",
       "      <td>114.0</td>\n",
       "      <td>605.0</td>\n",
       "    </tr>\n",
       "    <tr>\n",
       "      <th>805</th>\n",
       "      <td>20240601</td>\n",
       "      <td>출발시간</td>\n",
       "      <td>10</td>\n",
       "      <td>ST-1236</td>\n",
       "      <td>신도림동_062_1</td>\n",
       "      <td>구로구</td>\n",
       "      <td>X</td>\n",
       "      <td>NaN</td>\n",
       "      <td>NaN</td>\n",
       "      <td>1</td>\n",
       "      <td>60.0</td>\n",
       "      <td>3026.0</td>\n",
       "    </tr>\n",
       "    <tr>\n",
       "      <th>832</th>\n",
       "      <td>20240601</td>\n",
       "      <td>출발시간</td>\n",
       "      <td>10</td>\n",
       "      <td>ST-1353</td>\n",
       "      <td>영등포본동_044_1</td>\n",
       "      <td>영등포구</td>\n",
       "      <td>X</td>\n",
       "      <td>NaN</td>\n",
       "      <td>NaN</td>\n",
       "      <td>1</td>\n",
       "      <td>20.0</td>\n",
       "      <td>1976.0</td>\n",
       "    </tr>\n",
       "    <tr>\n",
       "      <th>943</th>\n",
       "      <td>20240601</td>\n",
       "      <td>출발시간</td>\n",
       "      <td>10</td>\n",
       "      <td>ST-2502</td>\n",
       "      <td>용신동_003_1</td>\n",
       "      <td>동대문구</td>\n",
       "      <td>X</td>\n",
       "      <td>NaN</td>\n",
       "      <td>NaN</td>\n",
       "      <td>1</td>\n",
       "      <td>60.0</td>\n",
       "      <td>7054.0</td>\n",
       "    </tr>\n",
       "    <tr>\n",
       "      <th>1103</th>\n",
       "      <td>20240601</td>\n",
       "      <td>출발시간</td>\n",
       "      <td>10</td>\n",
       "      <td>ST-910</td>\n",
       "      <td>월곡2동_015_1</td>\n",
       "      <td>성북구</td>\n",
       "      <td>X</td>\n",
       "      <td>NaN</td>\n",
       "      <td>NaN</td>\n",
       "      <td>1</td>\n",
       "      <td>4.0</td>\n",
       "      <td>533.0</td>\n",
       "    </tr>\n",
       "  </tbody>\n",
       "</table>\n",
       "</div>"
      ],
      "text/plain": [
       "         기준_날짜 집계_기준  기준_시간대 시작_대여소_ID      시작_대여소명 시작_대여소_자치구 종료_대여소_ID  \\\n",
       "132   20240601  출발시간       0   ST-2308    화양동_041_2        광진구         X   \n",
       "805   20240601  출발시간      10   ST-1236   신도림동_062_1        구로구         X   \n",
       "832   20240601  출발시간      10   ST-1353  영등포본동_044_1       영등포구         X   \n",
       "943   20240601  출발시간      10   ST-2502    용신동_003_1       동대문구         X   \n",
       "1103  20240601  출발시간      10    ST-910   월곡2동_015_1        성북구         X   \n",
       "\n",
       "     종료_대여소명 종료_대여소_자치구  전체_건수  전체_이용_분  전체_이용_거리  \n",
       "132      NaN        NaN      1    114.0     605.0  \n",
       "805      NaN        NaN      1     60.0    3026.0  \n",
       "832      NaN        NaN      1     20.0    1976.0  \n",
       "943      NaN        NaN      1     60.0    7054.0  \n",
       "1103     NaN        NaN      1      4.0     533.0  "
      ]
     },
     "execution_count": 68,
     "metadata": {},
     "output_type": "execute_result"
    }
   ],
   "source": [
    "# null 값이 있는 행만 필터링\n",
    "null_rows = data1[\n",
    "    data1[\"시작_대여소_자치구\"].isna() | data1[\"종료_대여소_자치구\"].isna()\n",
    "]\n",
    "\n",
    "print(\"null 값 있는 행 :\", len(null_rows))\n",
    "null_rows.head()\n",
    "\n",
    "# # CSV 저장\n",
    "# output_path = os.path.join(OUTPUT_DIR, \"tpss_bcycl_od_statnhm_202406_통합_w_자치구null.csv\")\n",
    "# null_rows.to_csv(output_path, index=False, encoding=\"utf-8-sig\")\n",
    "# print(f\"null행 저장 완료: {output_path}\")"
   ]
  },
  {
   "cell_type": "markdown",
   "id": "0f4d27ef-633a-4f62-9a49-0faf76bf18ea",
   "metadata": {},
   "source": [
    "# 4. 시간대별, 자치구별 그룹화"
   ]
  },
  {
   "cell_type": "code",
   "execution_count": 101,
   "id": "a36472c5-b46d-4e04-aff8-f36402cf664e",
   "metadata": {},
   "outputs": [],
   "source": [
    "# 원본 보존\n",
    "df = data1_merged.copy()\n",
    "\n",
    "df[\"기준_월\"] = \"202406\"\n",
    "\n",
    "# 출발시간/도착시\n",
    "df[\"집계_기준\"] = (\n",
    "    df[\"집계_기준\"]\n",
    "    .astype(str)\n",
    "      .str.replace(\"_\", \"\", regex=False)\n",
    "      .str.strip()\n",
    ")\n",
    "\n",
    "df = df[df[\"집계_기준\"].isin([\"출발시간\", \"도착시간\"])].copy()\n",
    "\n",
    "# 숫자형\n",
    "df[\"전체_건수\"]   = pd.to_numeric(df[\"전체_건수\"], errors=\"coerce\").fillna(0).astype(int)\n",
    "df[\"기준_시간대\"] = pd.to_numeric(df[\"기준_시간대\"], errors=\"coerce\").fillna(0).astype(int)\n",
    "\n",
    "# 기준_시간대_1시간 (0~23)\n",
    "df[\"기준_시간대_1시간\"] = (df[\"기준_시간대\"] // 12).astype(int).clip(0, 23)\n",
    "\n",
    "# 출발 > 시작_대여소_자치구, 도착 > 종료_대여소_자치구\n",
    "df[\"자치구\"] = np.where(\n",
    "    df[\"집계_기준\"] == \"출발시간\",\n",
    "    df[\"시작_대여소_자치구\"],\n",
    "    df[\"종료_대여소_자치구\"]\n",
    ")\n",
    "\n",
    "# 자치구 × 1시간 × 집계기준 그룹화\n",
    "grouped = (\n",
    "    df.groupby([\"기준_월\", \"기준_시간대_1시간\", \"자치구\", \"집계_기준\"], as_index=False)[\"전체_건수\"]\n",
    "      .sum()\n",
    "      .sort_values([\"기준_월\", \"기준_시간대_1시간\", \"자치구\", \"집계_기준\"])\n",
    ")\n",
    "\n",
    "# Pivot\n",
    "pivot_result = (\n",
    "    grouped.pivot_table(\n",
    "        index=[\"기준_월\", \"기준_시간대_1시간\", \"자치구\"],\n",
    "        columns=\"집계_기준\",\n",
    "        values=\"전체_건수\",\n",
    "        fill_value=0\n",
    "    )\n",
    "    .reset_index()\n",
    ")\n",
    "\n",
    "pivot_result.columns.name = None\n",
    "\n",
    "# 컬럼명 변경\n",
    "pivot_result = pivot_result.rename(\n",
    "    columns={\"출발시간\": \"대여량\", \"도착시간\": \"반납량\"}\n",
    ")\n",
    "\n",
    "# 지표 계산\n",
    "if {\"대여량\", \"반납량\"}.issubset(pivot_result.columns):\n",
    "    pivot_result[\"순이동(대여-반납)\"] = pivot_result[\"대여량\"] - pivot_result[\"반납량\"]\n",
    "    pivot_result[\"총처리량(대여+반납)\"] = pivot_result[\"대여량\"] + pivot_result[\"반납량\"]"
   ]
  },
  {
   "cell_type": "code",
   "execution_count": 102,
   "id": "63a4b6b7-37b4-43b9-bcc8-6865bed174f5",
   "metadata": {},
   "outputs": [
    {
     "data": {
      "text/plain": [
       "(850, 5)"
      ]
     },
     "execution_count": 102,
     "metadata": {},
     "output_type": "execute_result"
    }
   ],
   "source": [
    "grouped.shape"
   ]
  },
  {
   "cell_type": "code",
   "execution_count": 103,
   "id": "5badc4ea-b07e-4b48-bfaf-3f27f39f3241",
   "metadata": {},
   "outputs": [
    {
     "name": "stdout",
     "output_type": "stream",
     "text": [
      "<class 'pandas.core.frame.DataFrame'>\n",
      "RangeIndex: 850 entries, 0 to 849\n",
      "Data columns (total 5 columns):\n",
      " #   Column      Non-Null Count  Dtype \n",
      "---  ------      --------------  ----- \n",
      " 0   기준_월        850 non-null    object\n",
      " 1   기준_시간대_1시간  850 non-null    int32 \n",
      " 2   자치구         850 non-null    object\n",
      " 3   집계_기준       850 non-null    object\n",
      " 4   전체_건수       850 non-null    int32 \n",
      "dtypes: int32(2), object(3)\n",
      "memory usage: 26.7+ KB\n"
     ]
    }
   ],
   "source": [
    "grouped.info()"
   ]
  },
  {
   "cell_type": "code",
   "execution_count": 104,
   "id": "7ccc405f-4b4d-4f6d-bba9-f57bc0d5dc58",
   "metadata": {},
   "outputs": [
    {
     "data": {
      "text/html": [
       "<div>\n",
       "<style scoped>\n",
       "    .dataframe tbody tr th:only-of-type {\n",
       "        vertical-align: middle;\n",
       "    }\n",
       "\n",
       "    .dataframe tbody tr th {\n",
       "        vertical-align: top;\n",
       "    }\n",
       "\n",
       "    .dataframe thead th {\n",
       "        text-align: right;\n",
       "    }\n",
       "</style>\n",
       "<table border=\"1\" class=\"dataframe\">\n",
       "  <thead>\n",
       "    <tr style=\"text-align: right;\">\n",
       "      <th></th>\n",
       "      <th>기준_월</th>\n",
       "      <th>기준_시간대_1시간</th>\n",
       "      <th>자치구</th>\n",
       "      <th>집계_기준</th>\n",
       "      <th>전체_건수</th>\n",
       "    </tr>\n",
       "  </thead>\n",
       "  <tbody>\n",
       "    <tr>\n",
       "      <th>0</th>\n",
       "      <td>202406</td>\n",
       "      <td>0</td>\n",
       "      <td>강남구</td>\n",
       "      <td>도착시간</td>\n",
       "      <td>293</td>\n",
       "    </tr>\n",
       "    <tr>\n",
       "      <th>1</th>\n",
       "      <td>202406</td>\n",
       "      <td>0</td>\n",
       "      <td>강남구</td>\n",
       "      <td>출발시간</td>\n",
       "      <td>969</td>\n",
       "    </tr>\n",
       "    <tr>\n",
       "      <th>2</th>\n",
       "      <td>202406</td>\n",
       "      <td>0</td>\n",
       "      <td>강동구</td>\n",
       "      <td>도착시간</td>\n",
       "      <td>524</td>\n",
       "    </tr>\n",
       "    <tr>\n",
       "      <th>3</th>\n",
       "      <td>202406</td>\n",
       "      <td>0</td>\n",
       "      <td>강동구</td>\n",
       "      <td>출발시간</td>\n",
       "      <td>1565</td>\n",
       "    </tr>\n",
       "    <tr>\n",
       "      <th>4</th>\n",
       "      <td>202406</td>\n",
       "      <td>0</td>\n",
       "      <td>강북구</td>\n",
       "      <td>도착시간</td>\n",
       "      <td>158</td>\n",
       "    </tr>\n",
       "  </tbody>\n",
       "</table>\n",
       "</div>"
      ],
      "text/plain": [
       "     기준_월  기준_시간대_1시간  자치구 집계_기준  전체_건수\n",
       "0  202406           0  강남구  도착시간    293\n",
       "1  202406           0  강남구  출발시간    969\n",
       "2  202406           0  강동구  도착시간    524\n",
       "3  202406           0  강동구  출발시간   1565\n",
       "4  202406           0  강북구  도착시간    158"
      ]
     },
     "execution_count": 104,
     "metadata": {},
     "output_type": "execute_result"
    }
   ],
   "source": [
    "grouped.head()"
   ]
  },
  {
   "cell_type": "code",
   "execution_count": 105,
   "id": "9c01f71e-387e-46f0-a181-d419e2cadd29",
   "metadata": {},
   "outputs": [
    {
     "data": {
      "text/html": [
       "<div>\n",
       "<style scoped>\n",
       "    .dataframe tbody tr th:only-of-type {\n",
       "        vertical-align: middle;\n",
       "    }\n",
       "\n",
       "    .dataframe tbody tr th {\n",
       "        vertical-align: top;\n",
       "    }\n",
       "\n",
       "    .dataframe thead th {\n",
       "        text-align: right;\n",
       "    }\n",
       "</style>\n",
       "<table border=\"1\" class=\"dataframe\">\n",
       "  <thead>\n",
       "    <tr style=\"text-align: right;\">\n",
       "      <th></th>\n",
       "      <th>기준_월</th>\n",
       "      <th>기준_시간대_1시간</th>\n",
       "      <th>자치구</th>\n",
       "      <th>집계_기준</th>\n",
       "      <th>전체_건수</th>\n",
       "    </tr>\n",
       "  </thead>\n",
       "  <tbody>\n",
       "    <tr>\n",
       "      <th>845</th>\n",
       "      <td>202406</td>\n",
       "      <td>23</td>\n",
       "      <td>종로구</td>\n",
       "      <td>출발시간</td>\n",
       "      <td>132458</td>\n",
       "    </tr>\n",
       "    <tr>\n",
       "      <th>846</th>\n",
       "      <td>202406</td>\n",
       "      <td>23</td>\n",
       "      <td>중구</td>\n",
       "      <td>도착시간</td>\n",
       "      <td>92762</td>\n",
       "    </tr>\n",
       "    <tr>\n",
       "      <th>847</th>\n",
       "      <td>202406</td>\n",
       "      <td>23</td>\n",
       "      <td>중구</td>\n",
       "      <td>출발시간</td>\n",
       "      <td>96916</td>\n",
       "    </tr>\n",
       "    <tr>\n",
       "      <th>848</th>\n",
       "      <td>202406</td>\n",
       "      <td>23</td>\n",
       "      <td>중랑구</td>\n",
       "      <td>도착시간</td>\n",
       "      <td>129033</td>\n",
       "    </tr>\n",
       "    <tr>\n",
       "      <th>849</th>\n",
       "      <td>202406</td>\n",
       "      <td>23</td>\n",
       "      <td>중랑구</td>\n",
       "      <td>출발시간</td>\n",
       "      <td>126721</td>\n",
       "    </tr>\n",
       "  </tbody>\n",
       "</table>\n",
       "</div>"
      ],
      "text/plain": [
       "       기준_월  기준_시간대_1시간  자치구 집계_기준   전체_건수\n",
       "845  202406          23  종로구  출발시간  132458\n",
       "846  202406          23   중구  도착시간   92762\n",
       "847  202406          23   중구  출발시간   96916\n",
       "848  202406          23  중랑구  도착시간  129033\n",
       "849  202406          23  중랑구  출발시간  126721"
      ]
     },
     "execution_count": 105,
     "metadata": {},
     "output_type": "execute_result"
    }
   ],
   "source": [
    "grouped.tail()"
   ]
  },
  {
   "cell_type": "code",
   "execution_count": 111,
   "id": "694311ca-f713-437d-a6ea-c1dcfed7baa7",
   "metadata": {},
   "outputs": [
    {
     "data": {
      "text/html": [
       "<div>\n",
       "<style scoped>\n",
       "    .dataframe tbody tr th:only-of-type {\n",
       "        vertical-align: middle;\n",
       "    }\n",
       "\n",
       "    .dataframe tbody tr th {\n",
       "        vertical-align: top;\n",
       "    }\n",
       "\n",
       "    .dataframe thead th {\n",
       "        text-align: right;\n",
       "    }\n",
       "</style>\n",
       "<table border=\"1\" class=\"dataframe\">\n",
       "  <thead>\n",
       "    <tr style=\"text-align: right;\">\n",
       "      <th></th>\n",
       "      <th>기준_월</th>\n",
       "      <th>기준_시간대_1시간</th>\n",
       "      <th>자치구</th>\n",
       "      <th>반납량</th>\n",
       "      <th>대여량</th>\n",
       "      <th>순이동(대여-반납)</th>\n",
       "      <th>총처리량(대여+반납)</th>\n",
       "    </tr>\n",
       "  </thead>\n",
       "  <tbody>\n",
       "    <tr>\n",
       "      <th>0</th>\n",
       "      <td>202406</td>\n",
       "      <td>0</td>\n",
       "      <td>강남구</td>\n",
       "      <td>293.0</td>\n",
       "      <td>969.0</td>\n",
       "      <td>676.0</td>\n",
       "      <td>1262.0</td>\n",
       "    </tr>\n",
       "    <tr>\n",
       "      <th>1</th>\n",
       "      <td>202406</td>\n",
       "      <td>0</td>\n",
       "      <td>강동구</td>\n",
       "      <td>524.0</td>\n",
       "      <td>1565.0</td>\n",
       "      <td>1041.0</td>\n",
       "      <td>2089.0</td>\n",
       "    </tr>\n",
       "    <tr>\n",
       "      <th>2</th>\n",
       "      <td>202406</td>\n",
       "      <td>0</td>\n",
       "      <td>강북구</td>\n",
       "      <td>158.0</td>\n",
       "      <td>635.0</td>\n",
       "      <td>477.0</td>\n",
       "      <td>793.0</td>\n",
       "    </tr>\n",
       "    <tr>\n",
       "      <th>3</th>\n",
       "      <td>202406</td>\n",
       "      <td>0</td>\n",
       "      <td>강서구</td>\n",
       "      <td>1052.0</td>\n",
       "      <td>2891.0</td>\n",
       "      <td>1839.0</td>\n",
       "      <td>3943.0</td>\n",
       "    </tr>\n",
       "    <tr>\n",
       "      <th>4</th>\n",
       "      <td>202406</td>\n",
       "      <td>0</td>\n",
       "      <td>관악구</td>\n",
       "      <td>255.0</td>\n",
       "      <td>896.0</td>\n",
       "      <td>641.0</td>\n",
       "      <td>1151.0</td>\n",
       "    </tr>\n",
       "  </tbody>\n",
       "</table>\n",
       "</div>"
      ],
      "text/plain": [
       "     기준_월  기준_시간대_1시간  자치구     반납량     대여량  순이동(대여-반납)  총처리량(대여+반납)\n",
       "0  202406           0  강남구   293.0   969.0       676.0       1262.0\n",
       "1  202406           0  강동구   524.0  1565.0      1041.0       2089.0\n",
       "2  202406           0  강북구   158.0   635.0       477.0        793.0\n",
       "3  202406           0  강서구  1052.0  2891.0      1839.0       3943.0\n",
       "4  202406           0  관악구   255.0   896.0       641.0       1151.0"
      ]
     },
     "execution_count": 111,
     "metadata": {},
     "output_type": "execute_result"
    }
   ],
   "source": [
    "pivot_result.head()"
   ]
  },
  {
   "cell_type": "code",
   "execution_count": 113,
   "id": "44d37397-f515-4e95-b0f0-8f1e8a068272",
   "metadata": {},
   "outputs": [
    {
     "data": {
      "text/html": [
       "<div>\n",
       "<style scoped>\n",
       "    .dataframe tbody tr th:only-of-type {\n",
       "        vertical-align: middle;\n",
       "    }\n",
       "\n",
       "    .dataframe tbody tr th {\n",
       "        vertical-align: top;\n",
       "    }\n",
       "\n",
       "    .dataframe thead th {\n",
       "        text-align: right;\n",
       "    }\n",
       "</style>\n",
       "<table border=\"1\" class=\"dataframe\">\n",
       "  <thead>\n",
       "    <tr style=\"text-align: right;\">\n",
       "      <th></th>\n",
       "      <th>기준_월</th>\n",
       "      <th>기준_시간대_1시간</th>\n",
       "      <th>자치구</th>\n",
       "      <th>반납량</th>\n",
       "      <th>대여량</th>\n",
       "      <th>순이동(대여-반납)</th>\n",
       "      <th>총처리량(대여+반납)</th>\n",
       "    </tr>\n",
       "  </thead>\n",
       "  <tbody>\n",
       "    <tr>\n",
       "      <th>420</th>\n",
       "      <td>202406</td>\n",
       "      <td>23</td>\n",
       "      <td>용산구</td>\n",
       "      <td>88798.0</td>\n",
       "      <td>88823.0</td>\n",
       "      <td>25.0</td>\n",
       "      <td>177621.0</td>\n",
       "    </tr>\n",
       "    <tr>\n",
       "      <th>421</th>\n",
       "      <td>202406</td>\n",
       "      <td>23</td>\n",
       "      <td>은평구</td>\n",
       "      <td>111659.0</td>\n",
       "      <td>108972.0</td>\n",
       "      <td>-2687.0</td>\n",
       "      <td>220631.0</td>\n",
       "    </tr>\n",
       "    <tr>\n",
       "      <th>422</th>\n",
       "      <td>202406</td>\n",
       "      <td>23</td>\n",
       "      <td>종로구</td>\n",
       "      <td>127624.0</td>\n",
       "      <td>132458.0</td>\n",
       "      <td>4834.0</td>\n",
       "      <td>260082.0</td>\n",
       "    </tr>\n",
       "    <tr>\n",
       "      <th>423</th>\n",
       "      <td>202406</td>\n",
       "      <td>23</td>\n",
       "      <td>중구</td>\n",
       "      <td>92762.0</td>\n",
       "      <td>96916.0</td>\n",
       "      <td>4154.0</td>\n",
       "      <td>189678.0</td>\n",
       "    </tr>\n",
       "    <tr>\n",
       "      <th>424</th>\n",
       "      <td>202406</td>\n",
       "      <td>23</td>\n",
       "      <td>중랑구</td>\n",
       "      <td>129033.0</td>\n",
       "      <td>126721.0</td>\n",
       "      <td>-2312.0</td>\n",
       "      <td>255754.0</td>\n",
       "    </tr>\n",
       "  </tbody>\n",
       "</table>\n",
       "</div>"
      ],
      "text/plain": [
       "       기준_월  기준_시간대_1시간  자치구       반납량       대여량  순이동(대여-반납)  총처리량(대여+반납)\n",
       "420  202406          23  용산구   88798.0   88823.0        25.0     177621.0\n",
       "421  202406          23  은평구  111659.0  108972.0     -2687.0     220631.0\n",
       "422  202406          23  종로구  127624.0  132458.0      4834.0     260082.0\n",
       "423  202406          23   중구   92762.0   96916.0      4154.0     189678.0\n",
       "424  202406          23  중랑구  129033.0  126721.0     -2312.0     255754.0"
      ]
     },
     "execution_count": 113,
     "metadata": {},
     "output_type": "execute_result"
    }
   ],
   "source": [
    "pivot_result.tail()"
   ]
  },
  {
   "cell_type": "code",
   "execution_count": 115,
   "id": "937355f9-3959-4436-bad3-5fa3b9559f15",
   "metadata": {},
   "outputs": [
    {
     "data": {
      "text/plain": [
       "(425, 7)"
      ]
     },
     "execution_count": 115,
     "metadata": {},
     "output_type": "execute_result"
    }
   ],
   "source": [
    "pivot_result.shape"
   ]
  },
  {
   "cell_type": "code",
   "execution_count": null,
   "id": "6301176c-5443-4b31-9052-16cf37e5cff1",
   "metadata": {},
   "outputs": [],
   "source": []
  }
 ],
 "metadata": {
  "kernelspec": {
   "display_name": "Python [conda env:base] *",
   "language": "python",
   "name": "conda-base-py"
  },
  "language_info": {
   "codemirror_mode": {
    "name": "ipython",
    "version": 3
   },
   "file_extension": ".py",
   "mimetype": "text/x-python",
   "name": "python",
   "nbconvert_exporter": "python",
   "pygments_lexer": "ipython3",
   "version": "3.12.7"
  }
 },
 "nbformat": 4,
 "nbformat_minor": 5
}
