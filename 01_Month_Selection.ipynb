{
 "cells": [
  {
   "cell_type": "markdown",
   "id": "02a72d4c-eb2f-4201-b388-fba74d9ecdff",
   "metadata": {},
   "source": [
    "# **Step 01. 월별 이용량 분석 및 대상 월 선별**\n",
    "\n",
    "- \"어떤 달을 분석 대상으로 고를지\"\n",
    "- 2024년 1월 ~ 12월 데이터 사용\n",
    "- https://data.seoul.go.kr/dataList/OA-14994/F/1/datasetView.do"
   ]
  },
  {
   "cell_type": "code",
   "execution_count": 2,
   "id": "b06dda1d-0119-4f8c-ad55-2a94d652990e",
   "metadata": {},
   "outputs": [],
   "source": [
    "import os\n",
    "import numpy as np\n",
    "import pandas as pd\n",
    "import matplotlib.pyplot as plt\n",
    "import matplotlib\n",
    "import seaborn as sns\n",
    "\n",
    "# 한글 폰트 설정\n",
    "plt.rc('font', family='Malgun Gothic')\n",
    "matplotlib.rcParams['axes.unicode_minus'] = False"
   ]
  },
  {
   "cell_type": "code",
   "execution_count": 3,
   "id": "56b16ed1-9f3a-4290-8a5f-e27ccb3c28d6",
   "metadata": {},
   "outputs": [],
   "source": [
    "REPORT_DIR = \"./reports\"\n",
    "os.makedirs(REPORT_DIR, exist_ok=True)"
   ]
  },
  {
   "cell_type": "markdown",
   "id": "2684a889-8022-4e23-8011-f16d19f8fdae",
   "metadata": {},
   "source": [
    "## 1. 파일 병합 및 저장"
   ]
  },
  {
   "cell_type": "code",
   "execution_count": 7,
   "id": "d3106ff7-687a-40f7-9c1d-05a4f334cde7",
   "metadata": {},
   "outputs": [
    {
     "name": "stdout",
     "output_type": "stream",
     "text": [
      "이미 존재합니다. :  ./data/working/서울특별시_공공자전거_대여소별_이용정보(월별)_2024년_통합.csv\n"
     ]
    }
   ],
   "source": [
    "RAW1 = \"./data/raw/서울특별시_공공자전거_대여소별_이용정보(월별)_24.1-6.csv\"\n",
    "RAW2 = \"./data/raw/서울특별시_공공자전거_대여소별_이용정보(월별)_24.7-12.csv\"\n",
    "OUTPUT_DATA = \"./data/working/서울특별시_공공자전거_대여소별_이용정보(월별)_2024년_통합.csv\"\n",
    "\n",
    "\n",
    "if os.path.exists(OUTPUT_DATA):\n",
    "    print(\"이미 존재합니다. : \", OUTPUT_DATA)\n",
    "else:\n",
    "    # CSV 불러오기\n",
    "    df1 = pd.read_csv(RAW1, encoding=\"cp949\")\n",
    "    df2 = pd.read_csv(RAW2, encoding=\"cp949\")\n",
    "\n",
    "    # 파일 합치기\n",
    "    df_merged = pd.concat([df1, df2], ignore_index=True)\n",
    "\n",
    "    # 합친 데이터 저장\n",
    "    df_merged.to_csv(OUTPUT_DATA, index=False, encoding=\"utf-8-sig\")\n",
    "\n",
    "    print(\"저장 완료:\", OUTPUT_DATA)"
   ]
  },
  {
   "cell_type": "markdown",
   "id": "c0d31fb7-35b3-4f16-98ae-2162dabed99a",
   "metadata": {},
   "source": [
    "## 2. 데이터 확인"
   ]
  },
  {
   "cell_type": "code",
   "execution_count": 10,
   "id": "a56a4d22-af81-49d1-87a5-0f02c3406475",
   "metadata": {},
   "outputs": [],
   "source": [
    "file = \"./data/working/서울특별시_공공자전거_대여소별_이용정보(월별)_2024년_통합.csv\"\n",
    "df = pd.read_csv(file, encoding=\"utf-8-sig\")"
   ]
  },
  {
   "cell_type": "code",
   "execution_count": 12,
   "id": "a19d08b7-8f8a-4295-b482-a1352eba2e50",
   "metadata": {},
   "outputs": [
    {
     "data": {
      "text/html": [
       "<div>\n",
       "<style scoped>\n",
       "    .dataframe tbody tr th:only-of-type {\n",
       "        vertical-align: middle;\n",
       "    }\n",
       "\n",
       "    .dataframe tbody tr th {\n",
       "        vertical-align: top;\n",
       "    }\n",
       "\n",
       "    .dataframe thead th {\n",
       "        text-align: right;\n",
       "    }\n",
       "</style>\n",
       "<table border=\"1\" class=\"dataframe\">\n",
       "  <thead>\n",
       "    <tr style=\"text-align: right;\">\n",
       "      <th></th>\n",
       "      <th>자치구</th>\n",
       "      <th>대여소명</th>\n",
       "      <th>기준년월</th>\n",
       "      <th>대여건수</th>\n",
       "      <th>반납건수</th>\n",
       "    </tr>\n",
       "  </thead>\n",
       "  <tbody>\n",
       "    <tr>\n",
       "      <th>0</th>\n",
       "      <td>강남구</td>\n",
       "      <td>2301. 현대고등학교 건너편</td>\n",
       "      <td>202401</td>\n",
       "      <td>332</td>\n",
       "      <td>356</td>\n",
       "    </tr>\n",
       "    <tr>\n",
       "      <th>1</th>\n",
       "      <td>강남구</td>\n",
       "      <td>2302. 교보타워 버스정류장(신논현역 3번출구 후면)</td>\n",
       "      <td>202401</td>\n",
       "      <td>517</td>\n",
       "      <td>500</td>\n",
       "    </tr>\n",
       "    <tr>\n",
       "      <th>2</th>\n",
       "      <td>강남구</td>\n",
       "      <td>2303. 논현역 10번출구</td>\n",
       "      <td>202401</td>\n",
       "      <td>554</td>\n",
       "      <td>512</td>\n",
       "    </tr>\n",
       "    <tr>\n",
       "      <th>3</th>\n",
       "      <td>강남구</td>\n",
       "      <td>2304. 대현그린타워</td>\n",
       "      <td>202401</td>\n",
       "      <td>131</td>\n",
       "      <td>72</td>\n",
       "    </tr>\n",
       "    <tr>\n",
       "      <th>4</th>\n",
       "      <td>강남구</td>\n",
       "      <td>2305. MCM 본사 직영점 앞</td>\n",
       "      <td>202401</td>\n",
       "      <td>169</td>\n",
       "      <td>174</td>\n",
       "    </tr>\n",
       "  </tbody>\n",
       "</table>\n",
       "</div>"
      ],
      "text/plain": [
       "   자치구                            대여소명    기준년월  대여건수  반납건수\n",
       "0  강남구                2301. 현대고등학교 건너편  202401   332   356\n",
       "1  강남구  2302. 교보타워 버스정류장(신논현역 3번출구 후면)  202401   517   500\n",
       "2  강남구                 2303. 논현역 10번출구  202401   554   512\n",
       "3  강남구                    2304. 대현그린타워  202401   131    72\n",
       "4  강남구              2305. MCM 본사 직영점 앞  202401   169   174"
      ]
     },
     "execution_count": 12,
     "metadata": {},
     "output_type": "execute_result"
    }
   ],
   "source": [
    "df.head()"
   ]
  },
  {
   "cell_type": "code",
   "execution_count": 14,
   "id": "a5e2e30e-adf9-4698-bcdd-51eed02627b7",
   "metadata": {},
   "outputs": [
    {
     "data": {
      "text/html": [
       "<div>\n",
       "<style scoped>\n",
       "    .dataframe tbody tr th:only-of-type {\n",
       "        vertical-align: middle;\n",
       "    }\n",
       "\n",
       "    .dataframe tbody tr th {\n",
       "        vertical-align: top;\n",
       "    }\n",
       "\n",
       "    .dataframe thead th {\n",
       "        text-align: right;\n",
       "    }\n",
       "</style>\n",
       "<table border=\"1\" class=\"dataframe\">\n",
       "  <thead>\n",
       "    <tr style=\"text-align: right;\">\n",
       "      <th></th>\n",
       "      <th>자치구</th>\n",
       "      <th>대여소명</th>\n",
       "      <th>기준년월</th>\n",
       "      <th>대여건수</th>\n",
       "      <th>반납건수</th>\n",
       "    </tr>\n",
       "  </thead>\n",
       "  <tbody>\n",
       "    <tr>\n",
       "      <th>32781</th>\n",
       "      <td>중랑구</td>\n",
       "      <td>4846. 상봉동양엔파트 앞</td>\n",
       "      <td>202411</td>\n",
       "      <td>689</td>\n",
       "      <td>698</td>\n",
       "    </tr>\n",
       "    <tr>\n",
       "      <th>32782</th>\n",
       "      <td>중랑구</td>\n",
       "      <td>4846. 상봉동양엔파트 앞</td>\n",
       "      <td>202412</td>\n",
       "      <td>428</td>\n",
       "      <td>419</td>\n",
       "    </tr>\n",
       "    <tr>\n",
       "      <th>32783</th>\n",
       "      <td>중랑구</td>\n",
       "      <td>4847. 신내역시티프라디움 앞</td>\n",
       "      <td>202410</td>\n",
       "      <td>341</td>\n",
       "      <td>350</td>\n",
       "    </tr>\n",
       "    <tr>\n",
       "      <th>32784</th>\n",
       "      <td>중랑구</td>\n",
       "      <td>4847. 신내역시티프라디움 앞</td>\n",
       "      <td>202411</td>\n",
       "      <td>555</td>\n",
       "      <td>542</td>\n",
       "    </tr>\n",
       "    <tr>\n",
       "      <th>32785</th>\n",
       "      <td>중랑구</td>\n",
       "      <td>4847. 신내역시티프라디움 앞</td>\n",
       "      <td>202412</td>\n",
       "      <td>348</td>\n",
       "      <td>316</td>\n",
       "    </tr>\n",
       "  </tbody>\n",
       "</table>\n",
       "</div>"
      ],
      "text/plain": [
       "       자치구               대여소명    기준년월  대여건수  반납건수\n",
       "32781  중랑구    4846. 상봉동양엔파트 앞  202411   689   698\n",
       "32782  중랑구    4846. 상봉동양엔파트 앞  202412   428   419\n",
       "32783  중랑구  4847. 신내역시티프라디움 앞  202410   341   350\n",
       "32784  중랑구  4847. 신내역시티프라디움 앞  202411   555   542\n",
       "32785  중랑구  4847. 신내역시티프라디움 앞  202412   348   316"
      ]
     },
     "execution_count": 14,
     "metadata": {},
     "output_type": "execute_result"
    }
   ],
   "source": [
    "df.tail()"
   ]
  },
  {
   "cell_type": "code",
   "execution_count": 16,
   "id": "74afdf53-67bd-46cb-a8b2-9febf1a32af8",
   "metadata": {},
   "outputs": [
    {
     "data": {
      "text/plain": [
       "(32786, 5)"
      ]
     },
     "execution_count": 16,
     "metadata": {},
     "output_type": "execute_result"
    }
   ],
   "source": [
    "df.shape"
   ]
  },
  {
   "cell_type": "code",
   "execution_count": 18,
   "id": "c389b6da-d0a3-4881-86c7-838e8c06bf9a",
   "metadata": {},
   "outputs": [
    {
     "name": "stdout",
     "output_type": "stream",
     "text": [
      "<class 'pandas.core.frame.DataFrame'>\n",
      "RangeIndex: 32786 entries, 0 to 32785\n",
      "Data columns (total 5 columns):\n",
      " #   Column  Non-Null Count  Dtype \n",
      "---  ------  --------------  ----- \n",
      " 0   자치구     32786 non-null  object\n",
      " 1   대여소명    32786 non-null  object\n",
      " 2   기준년월    32786 non-null  int64 \n",
      " 3   대여건수    32786 non-null  int64 \n",
      " 4   반납건수    32786 non-null  int64 \n",
      "dtypes: int64(3), object(2)\n",
      "memory usage: 1.3+ MB\n"
     ]
    }
   ],
   "source": [
    "df.info()"
   ]
  },
  {
   "cell_type": "markdown",
   "id": "767546f9-6551-4d08-90c4-89f10d8cce4f",
   "metadata": {},
   "source": [
    "## 3. 월별 총이용건수 (대여건수, 반납건수, 대여+반납)"
   ]
  },
  {
   "cell_type": "code",
   "execution_count": 21,
   "id": "cf61b0d9-0369-4299-938e-d9239a2aaa42",
   "metadata": {},
   "outputs": [],
   "source": [
    "monthly_sum = df.groupby(\"기준년월\")[[\"대여건수\", \"반납건수\"]].sum().reset_index()\n",
    "monthly_sum[\"총이용건수\"] = monthly_sum[\"대여건수\"] + monthly_sum[\"반납건수\"]"
   ]
  },
  {
   "cell_type": "code",
   "execution_count": 25,
   "id": "05da7467-24a5-41ac-861b-4c0f2e458d67",
   "metadata": {},
   "outputs": [
    {
     "data": {
      "image/png": "[encoded data removed]",
      "text/plain": [
       "<Figure size 1200x600 with 1 Axes>"
      ]
     },
     "metadata": {},
     "output_type": "display_data"
    }
   ],
   "source": [
    "fig, ax1 = plt.subplots(figsize=(12,6))\n",
    "\n",
    "width = 0.35\n",
    "x = np.arange(len(monthly_sum[\"기준년월\"]))\n",
    "\n",
    "# 최대값 인덱스\n",
    "idx_max_rent   = monthly_sum[\"대여건수\"].idxmax()\n",
    "idx_max_return = monthly_sum[\"반납건수\"].idxmax()\n",
    "idx_max_total  = monthly_sum[\"총이용건수\"].idxmax()\n",
    "\n",
    "# 막대: 대여건수\n",
    "colors_rent = [\"red\" if i==idx_max_rent else \"steelblue\" for i in monthly_sum.index]\n",
    "ax1.bar(x - width/2, monthly_sum[\"대여건수\"], width, label=\"대여건수\", color=colors_rent)\n",
    "\n",
    "# 막대: 반납건수\n",
    "colors_return = [\"red\" if i==idx_max_return else \"orange\" for i in monthly_sum.index]\n",
    "ax1.bar(x + width/2, monthly_sum[\"반납건수\"], width, label=\"반납건수\", color=colors_return)\n",
    "\n",
    "ax1.set_xlabel(\"기준년월\")\n",
    "ax1.set_ylabel(\"건수\")\n",
    "ax1.set_xticks(x)\n",
    "ax1.set_xticklabels(monthly_sum[\"기준년월\"])\n",
    "\n",
    "# 라인: 총이용건수\n",
    "ax1.plot(x, monthly_sum[\"총이용건수\"], marker=\"o\", color=\"green\", linewidth=2, label=\"총 이용건수\")\n",
    "ax1.plot(x[idx_max_total], monthly_sum.loc[idx_max_total,\"총이용건수\"], marker=\"o\", color=\"red\", markersize=12, label=\"총이용 최대\")\n",
    "\n",
    "plt.title(\"2024년 월별 대여/반납/총이용건수\")\n",
    "ax1.legend(loc=\"upper left\")\n",
    "ax1.grid(axis=\"y\", linestyle=\"--\", alpha=0.7)\n",
    "\n",
    "plt.tight_layout()\n",
    "plt.savefig(os.path.join(REPORT_DIR, \"01_monthly_rent_return_total.png\"), dpi=300)\n",
    "plt.show()"
   ]
  },
  {
   "cell_type": "code",
   "execution_count": null,
   "id": "497ee0ee-44f0-48ef-8872-496af07382c1",
   "metadata": {},
   "outputs": [],
   "source": []
  }
 ],
 "metadata": {
  "kernelspec": {
   "display_name": "Python [conda env:base] *",
   "language": "python",
   "name": "conda-base-py"
  },
  "language_info": {
   "codemirror_mode": {
    "name": "ipython",
    "version": 3
   },
   "file_extension": ".py",
   "mimetype": "text/x-python",
   "name": "python",
   "nbconvert_exporter": "python",
   "pygments_lexer": "ipython3",
   "version": "3.12.7"
  }
 },
 "nbformat": 4,
 "nbformat_minor": 5
}
